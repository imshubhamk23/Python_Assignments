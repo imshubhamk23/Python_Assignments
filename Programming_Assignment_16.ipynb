{
  "cells": [
    {
      "cell_type": "markdown",
      "metadata": {
        "id": "view-in-github",
        "colab_type": "text"
      },
      "source": [
        "<a href=\"https://colab.research.google.com/github/imshubhamk23/Python_Assignments/blob/main/Programming_Assignment_16.ipynb\" target=\"_parent\"><img src=\"https://colab.research.google.com/assets/colab-badge.svg\" alt=\"Open In Colab\"/></a>"
      ]
    },
    {
      "cell_type": "markdown",
      "id": "b811e59c",
      "metadata": {
        "id": "b811e59c"
      },
      "source": [
        "![image-2.png](attachment:image-2.png)"
      ]
    },
    {
      "cell_type": "code",
      "execution_count": null,
      "id": "1374634e",
      "metadata": {
        "id": "1374634e"
      },
      "outputs": [],
      "source": [
        "def stutter(word):\n",
        "        res = (word[0] + word [1] + \"... \") * 2 + word + \"?\"\n",
        "        print(res)"
      ]
    },
    {
      "cell_type": "code",
      "execution_count": null,
      "id": "323e338b",
      "metadata": {
        "id": "323e338b",
        "outputId": "9b1527f5-07e4-4e82-eef7-b67f1f284623"
      },
      "outputs": [
        {
          "name": "stdout",
          "output_type": "stream",
          "text": [
            "in... in... incredible?\n"
          ]
        }
      ],
      "source": [
        "stutter(\"incredible\")"
      ]
    },
    {
      "cell_type": "markdown",
      "id": "6f9db3db",
      "metadata": {
        "id": "6f9db3db"
      },
      "source": [
        "![image-2.png](attachment:image-2.png)"
      ]
    },
    {
      "cell_type": "code",
      "execution_count": null,
      "id": "72f1e5db",
      "metadata": {
        "id": "72f1e5db"
      },
      "outputs": [],
      "source": [
        "#Angle in Radians × 180°/π = Angle in Degrees\n",
        "\n",
        "def radians_to_degrees(angle):\n",
        "    res = angle * 180/3.14159\n",
        "    print(round(res,1))"
      ]
    },
    {
      "cell_type": "code",
      "execution_count": null,
      "id": "115e89a0",
      "metadata": {
        "id": "115e89a0",
        "outputId": "e3a4ce18-ab17-4073-dd1a-7a90bc27b6ce"
      },
      "outputs": [
        {
          "name": "stdout",
          "output_type": "stream",
          "text": [
            "57.3\n",
            "1145.9\n",
            "2864.8\n"
          ]
        }
      ],
      "source": [
        "radians_to_degrees(1)\n",
        "radians_to_degrees(20)\n",
        "radians_to_degrees(50)"
      ]
    },
    {
      "cell_type": "markdown",
      "id": "1cf2cd82",
      "metadata": {
        "id": "1cf2cd82"
      },
      "source": [
        "![image-2.png](attachment:image-2.png)"
      ]
    },
    {
      "cell_type": "code",
      "execution_count": null,
      "id": "b4b2ea75",
      "metadata": {
        "id": "b4b2ea75"
      },
      "outputs": [],
      "source": [
        "def is_curzon(num):\n",
        "    a = 2 ** num + 1\n",
        "    b = 2 * num + 1\n",
        "    if a % b == 0:\n",
        "        return True\n",
        "    else:\n",
        "        return False"
      ]
    },
    {
      "cell_type": "code",
      "execution_count": null,
      "id": "9680a828",
      "metadata": {
        "id": "9680a828",
        "outputId": "244c837d-372d-48d5-f0d7-9dd9d4b0e402"
      },
      "outputs": [
        {
          "data": {
            "text/plain": [
              "True"
            ]
          },
          "execution_count": 44,
          "metadata": {},
          "output_type": "execute_result"
        }
      ],
      "source": [
        "is_curzon(5)"
      ]
    },
    {
      "cell_type": "code",
      "execution_count": null,
      "id": "c17942a9",
      "metadata": {
        "id": "c17942a9",
        "outputId": "0de7bd33-891a-48d1-a3b5-2a5cae62590b"
      },
      "outputs": [
        {
          "data": {
            "text/plain": [
              "False"
            ]
          },
          "execution_count": 47,
          "metadata": {},
          "output_type": "execute_result"
        }
      ],
      "source": [
        "is_curzon(10)"
      ]
    },
    {
      "cell_type": "code",
      "execution_count": null,
      "id": "e4f26900",
      "metadata": {
        "id": "e4f26900",
        "outputId": "450fd444-f878-4860-ce5c-666129c2f8ea"
      },
      "outputs": [
        {
          "data": {
            "text/plain": [
              "True"
            ]
          },
          "execution_count": 40,
          "metadata": {},
          "output_type": "execute_result"
        }
      ],
      "source": [
        "is_curzon(14)"
      ]
    },
    {
      "cell_type": "markdown",
      "id": "6a08dd6f",
      "metadata": {
        "id": "6a08dd6f"
      },
      "source": [
        "![image.png](attachment:image.png)"
      ]
    },
    {
      "cell_type": "code",
      "execution_count": null,
      "id": "12ac1fd6",
      "metadata": {
        "id": "12ac1fd6"
      },
      "outputs": [],
      "source": [
        "def area_of_hexagon(s):\n",
        "    area = (3 * (3 ** 0.5) * (s ** 2))/2\n",
        "    print(round(area,1))"
      ]
    },
    {
      "cell_type": "code",
      "execution_count": null,
      "id": "e2963640",
      "metadata": {
        "id": "e2963640",
        "outputId": "0d67e7df-10e4-46fd-8309-590b4c7566f1"
      },
      "outputs": [
        {
          "name": "stdout",
          "output_type": "stream",
          "text": [
            "2.6\n",
            "10.4\n",
            "23.4\n"
          ]
        }
      ],
      "source": [
        "area_of_hexagon(1)\n",
        "area_of_hexagon(2)\n",
        "area_of_hexagon(3)"
      ]
    },
    {
      "cell_type": "markdown",
      "id": "4f96991a",
      "metadata": {
        "id": "4f96991a"
      },
      "source": [
        "![image.png](attachment:image.png)"
      ]
    },
    {
      "cell_type": "code",
      "execution_count": null,
      "id": "8250030a",
      "metadata": {
        "id": "8250030a"
      },
      "outputs": [],
      "source": [
        "def binary(num):\n",
        "    unit = 1\n",
        "    binary = 0\n",
        "    rem = 0\n",
        "    while num > 0:\n",
        "        rem = num % 2\n",
        "        binary = (rem*unit)+binary\n",
        "        unit = unit*10\n",
        "        num = num//2\n",
        "    print(binary)"
      ]
    },
    {
      "cell_type": "code",
      "execution_count": null,
      "id": "f00c3482",
      "metadata": {
        "id": "f00c3482",
        "outputId": "6358a824-bfb3-4a01-d4bb-0ce34596cec5"
      },
      "outputs": [
        {
          "name": "stdout",
          "output_type": "stream",
          "text": [
            "1\n",
            "101\n",
            "1010\n"
          ]
        }
      ],
      "source": [
        "binary(1)\n",
        "binary(5)\n",
        "binary(10)"
      ]
    }
  ],
  "metadata": {
    "kernelspec": {
      "display_name": "Python 3 (ipykernel)",
      "language": "python",
      "name": "python3"
    },
    "language_info": {
      "codemirror_mode": {
        "name": "ipython",
        "version": 3
      },
      "file_extension": ".py",
      "mimetype": "text/x-python",
      "name": "python",
      "nbconvert_exporter": "python",
      "pygments_lexer": "ipython3",
      "version": "3.9.10"
    },
    "colab": {
      "provenance": [],
      "include_colab_link": true
    }
  },
  "nbformat": 4,
  "nbformat_minor": 5
}