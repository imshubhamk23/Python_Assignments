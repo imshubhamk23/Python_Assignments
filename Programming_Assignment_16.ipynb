{
  "cells": [
    {
      "cell_type": "markdown",
      "metadata": {
        "id": "view-in-github",
        "colab_type": "text"
      },
      "source": [
        "<a href=\"https://colab.research.google.com/github/imshubhamk23/Python_Assignments/blob/main/Programming_Assignment_16.ipynb\" target=\"_parent\"><img src=\"https://colab.research.google.com/assets/colab-badge.svg\" alt=\"Open In Colab\"/></a>"
      ]
    },
    {
      "cell_type": "raw",
      "id": "369db221",
      "metadata": {
        "id": "369db221"
      },
      "source": [
        "Question1. Write a function that stutters a word as if someone is struggling to read it. The first two letters are repeated twice with an ellipsis ... and space after each, and then the word is pronounced with a question mark ?.\n",
        "Examples\n",
        "stutter(\"incredible\") ➞ \"in... in... incredible?\"\n",
        "\n",
        "stutter(\"enthusiastic\") ➞ \"en... en... enthusiastic?\"\n",
        "\n",
        "stutter(\"outstanding\") ➞ \"ou... ou... outstanding?\"\n",
        "\n",
        "Hint :- Assume all input is in lower case and at least two characters long.\n"
      ]
    },
    {
      "cell_type": "code",
      "execution_count": null,
      "id": "fd03a5a2",
      "metadata": {
        "id": "fd03a5a2"
      },
      "outputs": [],
      "source": [
        "def stutter(word):\n",
        "        res = (word[0] + word [1] + \"... \") * 2 + word + \"?\"\n",
        "        print(res)"
      ]
    },
    {
      "cell_type": "code",
      "execution_count": null,
      "id": "61bcec47",
      "metadata": {
        "id": "61bcec47",
        "outputId": "774ab267-cc05-4555-912a-8c788b0734cd"
      },
      "outputs": [
        {
          "name": "stdout",
          "output_type": "stream",
          "text": [
            "in... in... incredible?\n"
          ]
        }
      ],
      "source": [
        "stutter(\"incredible\")"
      ]
    },
    {
      "cell_type": "raw",
      "id": "01ded2b6",
      "metadata": {
        "id": "01ded2b6"
      },
      "source": [
        "Question 2.Create a function that takes an angle in radians and returns the corresponding angle in degrees rounded to one decimal place.\n",
        "Examples\n",
        "radians_to_degrees(1) ➞ 57.3\n",
        "\n",
        "radians_to_degrees(20) ➞ 1145.9\n",
        "\n",
        "radians_to_degrees(50) ➞ 2864.8\n"
      ]
    },
    {
      "cell_type": "code",
      "execution_count": null,
      "id": "d680f2c6",
      "metadata": {
        "id": "d680f2c6"
      },
      "outputs": [],
      "source": [
        "#Angle in Radians × 180°/π = Angle in Degrees\n",
        "\n",
        "def radians_to_degrees(angle):\n",
        "    res = angle * 180/3.14159\n",
        "    print(round(res,1))"
      ]
    },
    {
      "cell_type": "code",
      "execution_count": null,
      "id": "8d15d611",
      "metadata": {
        "id": "8d15d611",
        "outputId": "e00a98e4-f46f-41d0-d61a-8ab8a0ac1630"
      },
      "outputs": [
        {
          "name": "stdout",
          "output_type": "stream",
          "text": [
            "57.3\n",
            "1145.9\n",
            "2864.8\n"
          ]
        }
      ],
      "source": [
        "radians_to_degrees(1)\n",
        "radians_to_degrees(20)\n",
        "radians_to_degrees(50)"
      ]
    },
    {
      "cell_type": "raw",
      "id": "daca1da1",
      "metadata": {
        "id": "daca1da1"
      },
      "source": [
        "Question 3. In this challenge, establish if a given integer num is a Curzon number. If 1 plus 2 elevated to num is exactly divisible by 1 plus 2 multiplied by num, then num is a Curzon number.\n",
        "Given a non-negative integer num, implement a function that returns True if num is a Curzon number, or False otherwise.\n",
        "Examples\n",
        "is_curzon(5) ➞ True\n",
        " 2 ** 5 + 1 = 33\n",
        " 2 * 5 + 1 = 11\n",
        " 33 is a multiple of 11\n",
        "\n",
        "is_curzon(10) ➞ False\n",
        " 2 ** 10 + 1 = 1025\n",
        " 2 * 10 + 1 = 21\n",
        " 1025 is not a multiple of 21\n",
        "\n",
        "is_curzon(14) ➞ True\n",
        " 2 ** 14 + 1 = 16385\n",
        " 2 * 14 + 1 = 29\n",
        " 16385 is a multiple of 29\n"
      ]
    },
    {
      "cell_type": "code",
      "execution_count": null,
      "id": "8760230c",
      "metadata": {
        "id": "8760230c"
      },
      "outputs": [],
      "source": [
        "def is_curzon(num):\n",
        "    a = 2 ** num + 1\n",
        "    b = 2 * num + 1\n",
        "    if a % b == 0:\n",
        "        return True\n",
        "    else:\n",
        "        return False"
      ]
    },
    {
      "cell_type": "code",
      "execution_count": null,
      "id": "0bb13bcd",
      "metadata": {
        "id": "0bb13bcd",
        "outputId": "f7430fb2-3fab-4a4b-b4e1-54d97a325c8b"
      },
      "outputs": [
        {
          "data": {
            "text/plain": [
              "True"
            ]
          },
          "execution_count": 44,
          "metadata": {},
          "output_type": "execute_result"
        }
      ],
      "source": [
        "is_curzon(5)"
      ]
    },
    {
      "cell_type": "code",
      "execution_count": null,
      "id": "82e60ae2",
      "metadata": {
        "id": "82e60ae2",
        "outputId": "ee6ec394-c4b1-43b8-c70f-291492b20d1c"
      },
      "outputs": [
        {
          "data": {
            "text/plain": [
              "False"
            ]
          },
          "execution_count": 47,
          "metadata": {},
          "output_type": "execute_result"
        }
      ],
      "source": [
        "is_curzon(10)"
      ]
    },
    {
      "cell_type": "code",
      "execution_count": null,
      "id": "2b637015",
      "metadata": {
        "id": "2b637015",
        "outputId": "e372b3c0-57b2-47d7-8e2a-3630d1646bb0"
      },
      "outputs": [
        {
          "data": {
            "text/plain": [
              "True"
            ]
          },
          "execution_count": 40,
          "metadata": {},
          "output_type": "execute_result"
        }
      ],
      "source": [
        "is_curzon(14)"
      ]
    },
    {
      "cell_type": "raw",
      "id": "4c1508c0",
      "metadata": {
        "id": "4c1508c0"
      },
      "source": [
        "Question 4.Given the side length x find the area of a hexagon.\n",
        "\n",
        "Examples\n",
        "area_of_hexagon(1) ➞ 2.6\n",
        "area_of_hexagon(2) ➞ 10.4\n",
        "area_of_hexagon(3) ➞ 23.4"
      ]
    },
    {
      "cell_type": "code",
      "execution_count": null,
      "id": "703d51f2",
      "metadata": {
        "id": "703d51f2"
      },
      "outputs": [],
      "source": [
        "def area_of_hexagon(s):\n",
        "    area = (3 * (3 ** 0.5) * (s ** 2))/2\n",
        "    print(round(area,1))"
      ]
    },
    {
      "cell_type": "code",
      "execution_count": null,
      "id": "36e11abd",
      "metadata": {
        "id": "36e11abd",
        "outputId": "e0ec1dd7-4924-4811-ec55-384bdf298cf3"
      },
      "outputs": [
        {
          "name": "stdout",
          "output_type": "stream",
          "text": [
            "2.6\n",
            "10.4\n",
            "23.4\n"
          ]
        }
      ],
      "source": [
        "area_of_hexagon(1)\n",
        "area_of_hexagon(2)\n",
        "area_of_hexagon(3)"
      ]
    },
    {
      "cell_type": "markdown",
      "id": "47e4f48f",
      "metadata": {
        "id": "47e4f48f"
      },
      "source": [
        "Question 4.Given the side length x find the area of a hexagon.\n",
        "\n",
        "Examples\n",
        "area_of_hexagon(1) ➞ 2.6\n",
        "area_of_hexagon(2) ➞ 10.4\n",
        "area_of_hexagon(3) ➞ 23.4"
      ]
    },
    {
      "cell_type": "code",
      "execution_count": null,
      "id": "fb75267b",
      "metadata": {
        "id": "fb75267b"
      },
      "outputs": [],
      "source": [
        "def binary(num):\n",
        "    unit = 1\n",
        "    binary = 0\n",
        "    rem = 0\n",
        "    while num > 0:\n",
        "        rem = num % 2\n",
        "        binary = (rem*unit)+binary\n",
        "        unit = unit*10\n",
        "        num = num//2\n",
        "    print(binary)"
      ]
    },
    {
      "cell_type": "code",
      "execution_count": null,
      "id": "775b4d0b",
      "metadata": {
        "id": "775b4d0b",
        "outputId": "d2991353-c058-4bdd-cbec-29b9b9a99f2f"
      },
      "outputs": [
        {
          "name": "stdout",
          "output_type": "stream",
          "text": [
            "1\n",
            "101\n",
            "1010\n"
          ]
        }
      ],
      "source": [
        "binary(1)\n",
        "binary(5)\n",
        "binary(10)"
      ]
    }
  ],
  "metadata": {
    "kernelspec": {
      "display_name": "Python 3 (ipykernel)",
      "language": "python",
      "name": "python3"
    },
    "language_info": {
      "codemirror_mode": {
        "name": "ipython",
        "version": 3
      },
      "file_extension": ".py",
      "mimetype": "text/x-python",
      "name": "python",
      "nbconvert_exporter": "python",
      "pygments_lexer": "ipython3",
      "version": "3.9.10"
    },
    "colab": {
      "provenance": [],
      "include_colab_link": true
    }
  },
  "nbformat": 4,
  "nbformat_minor": 5
}