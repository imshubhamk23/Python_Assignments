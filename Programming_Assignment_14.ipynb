{
  "cells": [
    {
      "cell_type": "markdown",
      "metadata": {
        "id": "view-in-github",
        "colab_type": "text"
      },
      "source": [
        "<a href=\"https://colab.research.google.com/github/imshubhamk23/Python_Assignments/blob/main/Programming_Assignment_14.ipynb\" target=\"_parent\"><img src=\"https://colab.research.google.com/assets/colab-badge.svg\" alt=\"Open In Colab\"/></a>"
      ]
    },
    {
      "cell_type": "markdown",
      "id": "2badff16",
      "metadata": {
        "id": "2badff16"
      },
      "source": [
        "Question 1:\n",
        "Define a class with a generator which can iterate the numbers, which are divisible by 7, between a given range 0 and n."
      ]
    },
    {
      "cell_type": "code",
      "execution_count": null,
      "id": "f5ff0e1d",
      "metadata": {
        "id": "f5ff0e1d"
      },
      "outputs": [],
      "source": [
        "def divBy7(n):\n",
        "    \n",
        "    for i in range(n):\n",
        "        if i % 7 == 0:\n",
        "            yield i"
      ]
    },
    {
      "cell_type": "code",
      "execution_count": null,
      "id": "c49ed440",
      "metadata": {
        "id": "c49ed440",
        "outputId": "1d48cb63-c033-401b-b769-acef60d8ba26"
      },
      "outputs": [
        {
          "name": "stdout",
          "output_type": "stream",
          "text": [
            "0\n",
            "7\n",
            "14\n"
          ]
        }
      ],
      "source": [
        "x = divBy7(20)\n",
        "print(next(x))\n",
        "print(next(x))\n",
        "print(next(x))\n"
      ]
    },
    {
      "cell_type": "code",
      "execution_count": null,
      "id": "070a4a74",
      "metadata": {
        "id": "070a4a74"
      },
      "outputs": [],
      "source": [
        "Question 2:\n",
        "Write a program to compute the frequency of the words from the input. The output\n",
        "should output after sorting the key alphanumerically.\n",
        "Suppose the following input is supplied to the program:\n",
        "New to Python or choosing between Python 2 and Python 3? Read Python 2 or\n",
        "Python 3.\n",
        "Then, the output should be:\n",
        "2:2\n",
        "3.:1\n",
        "3?:1\n",
        "New:1\n",
        "Python:5\n",
        "Read:1\n",
        "and:1\n",
        "between:1\n",
        "choosing:1\n",
        "or:2\n",
        "to:1"
      ]
    },
    {
      "cell_type": "code",
      "execution_count": null,
      "id": "9cd8c801",
      "metadata": {
        "id": "9cd8c801",
        "outputId": "e231398b-c0db-4301-9d77-6f8626d533cc"
      },
      "outputs": [
        {
          "name": "stdout",
          "output_type": "stream",
          "text": [
            "Enter sentence:- New to Python or choosing between Python 2 and Python 3? Read Python 2 or Python 3.\n",
            "2':'2\n",
            "3.':'1\n",
            "3?':'1\n",
            "New':'1\n",
            "Python':'5\n",
            "Read':'1\n",
            "and':'1\n",
            "between':'1\n",
            "choosing':'1\n",
            "or':'2\n",
            "to':'1\n"
          ]
        }
      ],
      "source": [
        "from collections import Counter\n",
        "sent = input(\"Enter sentence:- \").split(\" \")\n",
        "sent.sort()\n",
        "b = Counter(sent)\n",
        "for key,value in b.items():\n",
        "    print(f\"{key}':'{value}\")"
      ]
    },
    {
      "cell_type": "markdown",
      "id": "46940eda",
      "metadata": {
        "id": "46940eda"
      },
      "source": [
        "Question 3:\n",
        "\n",
        "Define a class Person and its two child classes: Male and Female. All classes have a\n",
        "method &quot;getGender&quot; which can print &quot;Male&quot; for Male class and &quot;Female&quot; for Female\n",
        "class."
      ]
    },
    {
      "cell_type": "code",
      "execution_count": null,
      "id": "47c9a748",
      "metadata": {
        "id": "47c9a748"
      },
      "outputs": [],
      "source": [
        "class Person:\n",
        "    def getGender(Male):\n",
        "        print(\"Male\")\n",
        "    def getGender(Female):\n",
        "        print(\"Female\")\n",
        "\n",
        "class Male(Person):\n",
        "    def getGender(self):\n",
        "        print(\"Male\")\n",
        "\n",
        "class Female(Person):\n",
        "    def getGender(self):\n",
        "        print(\"Female\")        "
      ]
    },
    {
      "cell_type": "code",
      "execution_count": null,
      "id": "5cea18cb",
      "metadata": {
        "id": "5cea18cb",
        "outputId": "df068eae-c10c-45f2-8b65-aa4dd31f1d6e"
      },
      "outputs": [
        {
          "name": "stdout",
          "output_type": "stream",
          "text": [
            "Female\n",
            "Male\n"
          ]
        }
      ],
      "source": [
        "f = Female()\n",
        "f.getGender()\n",
        "m = Male()\n",
        "m.getGender()"
      ]
    },
    {
      "cell_type": "markdown",
      "id": "cfa7c687",
      "metadata": {
        "id": "cfa7c687"
      },
      "source": [
        "Question 4:\n",
        "Please write a program to generate all sentences where subject is in [&quot;I&quot;, &quot;You&quot;] and\n",
        "verb is in [&quot;Play&quot;, &quot;Love&quot;] and the object is in [&quot;Hockey&quot;,&quot;Football&quot;]."
      ]
    },
    {
      "cell_type": "code",
      "execution_count": null,
      "id": "08833f1e",
      "metadata": {
        "id": "08833f1e",
        "outputId": "5f089171-ea33-4900-92d1-23bb3ae2c611"
      },
      "outputs": [
        {
          "name": "stdout",
          "output_type": "stream",
          "text": [
            "I Play  Hockey.\n",
            "I Play  Football.\n",
            "I Love  Hockey.\n",
            "I Love  Football.\n",
            "You Play  Hockey.\n",
            "You Play  Football.\n",
            "You Love  Hockey.\n",
            "You Love  Football.\n"
          ]
        }
      ],
      "source": [
        "subject =  [\"I\", \"You\"] \n",
        "verb = [\"Play\", \"Love\"]\n",
        "obj = [\"Hockey\",\"Football\"]\n",
        "for i in range(len(subject)):\n",
        "    for j in range(len(verb)):\n",
        "        for k in range(len(obj)):\n",
        "            print(f\"{subject[i]} {verb[j]}  {obj[k]}.\")"
      ]
    },
    {
      "cell_type": "markdown",
      "id": "e6a4fcf3",
      "metadata": {
        "id": "e6a4fcf3"
      },
      "source": [
        "Question 5:\n",
        "Please write a program to compress and decompress the string &quot;hello world!hello\n",
        "world!hello world!hello world!&quot;."
      ]
    },
    {
      "cell_type": "code",
      "execution_count": null,
      "id": "09f7f279",
      "metadata": {
        "id": "09f7f279",
        "outputId": "d7d6886d-27f6-4119-8358-c55e5748462b"
      },
      "outputs": [
        {
          "name": "stdout",
          "output_type": "stream",
          "text": [
            "b'\\x1f\\x8b\\x08\\x00\\x11\\x95\\xbfc\\x02\\xff\\xcbH\\xcd\\xc9\\xc9W(\\xcf/\\xcaIQ\\xcc \\x82\\r\\x00\\xd3\\xe6\\xcf\\xae0\\x00\\x00\\x00'\n",
            "b'hello world!hello world!hello world!hello world!'\n"
          ]
        }
      ],
      "source": [
        "import gzip\n",
        "s = b\"hello world!hello world!hello world!hello world!\"\n",
        "s = gzip.compress(s)\n",
        "print(s)\n",
        "s = gzip.decompress(s)\n",
        "print(s)"
      ]
    },
    {
      "cell_type": "markdown",
      "id": "5091a94a",
      "metadata": {
        "id": "5091a94a"
      },
      "source": [
        "Question 6:\n",
        "    \n",
        "    Please write a binary search function which searches an item in a sorted list. \n",
        "    The function should return the index of element to be searched in the list."
      ]
    },
    {
      "cell_type": "code",
      "execution_count": null,
      "id": "37a9ad11",
      "metadata": {
        "id": "37a9ad11"
      },
      "outputs": [],
      "source": [
        "#list1 = [\"apple\",\"cricket\",\"banana\",\"football\"]\n",
        "def search_list(list1,item):\n",
        "    list1.sort()\n",
        "    print(list1)\n",
        "    print(f\"The index of the element in sorted list is {list1.index(item)}\")"
      ]
    },
    {
      "cell_type": "code",
      "execution_count": null,
      "id": "072749eb",
      "metadata": {
        "id": "072749eb",
        "outputId": "0fb8358e-a9f2-4b35-af3a-d1c2106297ba"
      },
      "outputs": [
        {
          "name": "stdout",
          "output_type": "stream",
          "text": [
            "['apple', 'banana', 'cricket', 'football']\n",
            "The index of the element in sorted list is 1\n"
          ]
        }
      ],
      "source": [
        "search_list([\"apple\",\"cricket\",\"banana\",\"football\"],\"banana\")"
      ]
    },
    {
      "cell_type": "code",
      "execution_count": null,
      "id": "377cc6ae",
      "metadata": {
        "id": "377cc6ae"
      },
      "outputs": [],
      "source": []
    },
    {
      "cell_type": "code",
      "execution_count": null,
      "id": "afcb9be6",
      "metadata": {
        "id": "afcb9be6"
      },
      "outputs": [],
      "source": []
    }
  ],
  "metadata": {
    "kernelspec": {
      "display_name": "Python 3 (ipykernel)",
      "language": "python",
      "name": "python3"
    },
    "language_info": {
      "codemirror_mode": {
        "name": "ipython",
        "version": 3
      },
      "file_extension": ".py",
      "mimetype": "text/x-python",
      "name": "python",
      "nbconvert_exporter": "python",
      "pygments_lexer": "ipython3",
      "version": "3.9.10"
    },
    "colab": {
      "provenance": [],
      "include_colab_link": true
    }
  },
  "nbformat": 4,
  "nbformat_minor": 5
}