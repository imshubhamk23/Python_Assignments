{
  "cells": [
    {
      "cell_type": "markdown",
      "metadata": {
        "id": "view-in-github",
        "colab_type": "text"
      },
      "source": [
        "<a href=\"https://colab.research.google.com/github/imshubhamk23/Python_Assignments/blob/main/Programming_Assignment_24.ipynb\" target=\"_parent\"><img src=\"https://colab.research.google.com/assets/colab-badge.svg\" alt=\"Open In Colab\"/></a>"
      ]
    },
    {
      "cell_type": "markdown",
      "id": "f82aaec3",
      "metadata": {
        "id": "f82aaec3"
      },
      "source": [
        "# Question1\n",
        "\n",
        "Create a function that takes an integer and returns a list from 1 to the given number, where:\n",
        "\n",
        "If the number can be divided evenly by 4, amplify it by 10 (i.e. return 10 times the number).\n",
        "\n",
        "If the number cannot be divided evenly by 4, simply return the number.\n",
        "\n",
        "    Examples\n",
        "    amplify(4) ➞ [1, 2, 3, 40]\n",
        "\n",
        "    amplify(3) ➞ [1, 2, 3]\n",
        "\n",
        "    amplify(25) ➞ [1, 2, 3, 40, 5, 6, 7, 80, 9, 10, 11, 120, 13, 14, 15, 160, 17, 18, 19, 200, 21, 22, 23, 240, 25]\n",
        "\n",
        "Notes\n",
        "\n",
        "The given integer will always be equal to or greater than 1.\n",
        "\n",
        "Include the number (see example above).\n",
        "\n",
        "To perform this problem with its intended purpose, try doing it with list comprehensions. If that's too difficult, just solve the challenge any way you can.\n"
      ]
    },
    {
      "cell_type": "code",
      "execution_count": null,
      "id": "469a3a23",
      "metadata": {
        "id": "469a3a23"
      },
      "outputs": [],
      "source": [
        "def amplify(num):\n",
        "    lst = []\n",
        "    for i in range(1,num+1):\n",
        "        if i%4 == 0:\n",
        "            lst.append(i*10)\n",
        "        else:    \n",
        "            lst.append(i)\n",
        "    return lst"
      ]
    },
    {
      "cell_type": "code",
      "execution_count": null,
      "id": "72044a78",
      "metadata": {
        "id": "72044a78",
        "outputId": "0b39c3ea-7324-4dd9-b587-77de77451d33"
      },
      "outputs": [
        {
          "data": {
            "text/plain": [
              "[1, 2, 3, 40]"
            ]
          },
          "execution_count": 31,
          "metadata": {},
          "output_type": "execute_result"
        }
      ],
      "source": [
        "amplify(4)"
      ]
    },
    {
      "cell_type": "code",
      "execution_count": null,
      "id": "0e58d226",
      "metadata": {
        "id": "0e58d226",
        "outputId": "0f680e8e-9411-4132-ce93-2071875a5769"
      },
      "outputs": [
        {
          "data": {
            "text/plain": [
              "[1, 2, 3]"
            ]
          },
          "execution_count": 32,
          "metadata": {},
          "output_type": "execute_result"
        }
      ],
      "source": [
        "amplify(3)"
      ]
    },
    {
      "cell_type": "code",
      "execution_count": null,
      "id": "9c2d9c96",
      "metadata": {
        "id": "9c2d9c96",
        "outputId": "ea7e298b-c6d8-40e0-d455-a77185ac518e"
      },
      "outputs": [
        {
          "data": {
            "text/plain": [
              "[1,\n",
              " 2,\n",
              " 3,\n",
              " 40,\n",
              " 5,\n",
              " 6,\n",
              " 7,\n",
              " 80,\n",
              " 9,\n",
              " 10,\n",
              " 11,\n",
              " 120,\n",
              " 13,\n",
              " 14,\n",
              " 15,\n",
              " 160,\n",
              " 17,\n",
              " 18,\n",
              " 19,\n",
              " 200,\n",
              " 21,\n",
              " 22,\n",
              " 23,\n",
              " 240,\n",
              " 25]"
            ]
          },
          "execution_count": 33,
          "metadata": {},
          "output_type": "execute_result"
        }
      ],
      "source": [
        "amplify(25)"
      ]
    },
    {
      "cell_type": "markdown",
      "id": "f53c55c6",
      "metadata": {
        "id": "f53c55c6"
      },
      "source": [
        "# Question2\n",
        "\n",
        "Create a function that takes a list of numbers and return the number that's unique.\n",
        "\n",
        "    Examples\n",
        "    unique([3, 3, 3, 7, 3, 3]) ➞ 7\n",
        "\n",
        "    unique([0, 0, 0.77, 0, 0]) ➞ 0.77\n",
        "\n",
        "    unique([0, 1, 1, 1, 1, 1, 1, 1]) ➞ 0\n",
        "\n",
        "Notes\n",
        "\n",
        "Test cases will always have exactly one unique number while all others are the same.\n"
      ]
    },
    {
      "cell_type": "code",
      "execution_count": null,
      "id": "0062f15d",
      "metadata": {
        "id": "0062f15d"
      },
      "outputs": [],
      "source": [
        "def unique(lst):\n",
        "    from collections import Counter\n",
        "    count = Counter(lst)\n",
        "    val = [i for i in count if count[i] == 1]\n",
        "    for i in val:\n",
        "        return i"
      ]
    },
    {
      "cell_type": "code",
      "execution_count": null,
      "id": "6539a537",
      "metadata": {
        "id": "6539a537",
        "outputId": "a10b17a8-8938-47fa-a542-24ffab51eab4"
      },
      "outputs": [
        {
          "data": {
            "text/plain": [
              "7"
            ]
          },
          "execution_count": 109,
          "metadata": {},
          "output_type": "execute_result"
        }
      ],
      "source": [
        "unique([3, 3, 3, 7, 3, 3])"
      ]
    },
    {
      "cell_type": "code",
      "execution_count": null,
      "id": "c139a170",
      "metadata": {
        "id": "c139a170",
        "outputId": "bf2d731b-e318-4b96-b8d3-9a30d945278c"
      },
      "outputs": [
        {
          "data": {
            "text/plain": [
              "0.77"
            ]
          },
          "execution_count": 110,
          "metadata": {},
          "output_type": "execute_result"
        }
      ],
      "source": [
        "unique([0, 0, 0.77, 0, 0])"
      ]
    },
    {
      "cell_type": "code",
      "execution_count": null,
      "id": "bde93eae",
      "metadata": {
        "id": "bde93eae",
        "outputId": "47a32dc3-2b91-4309-f670-ff3698b76cc4"
      },
      "outputs": [
        {
          "data": {
            "text/plain": [
              "0"
            ]
          },
          "execution_count": 111,
          "metadata": {},
          "output_type": "execute_result"
        }
      ],
      "source": [
        "unique([0, 1, 1, 1, 1, 1, 1, 1])"
      ]
    },
    {
      "cell_type": "markdown",
      "id": "5dd0fd14",
      "metadata": {
        "id": "5dd0fd14"
      },
      "source": [
        "# Question3\n",
        "\n",
        "Your task is to create a Circle constructor that creates a circle with a radius provided by an argument. The circles constructed must have two getters getArea() (PIr^2) and getPerimeter() (2PI*r) which give both respective areas and perimeter (circumference).\n",
        "\n",
        "For help with this class, I have provided you with a Rectangle constructor which you can use as a base example.\n",
        "\n",
        "    Examples\n",
        "    circy = Circle(11)\n",
        "    circy.getArea()\n",
        "\n",
        "    #Should return 380.132711084365\n",
        "\n",
        "    circy = Circle(4.44)\n",
        "    circy.getPerimeter()\n",
        "\n",
        "    #Should return 27.897342763877365\n",
        "\n",
        "Notes\n",
        "\n",
        "Round results up to the nearest integer.\n"
      ]
    },
    {
      "cell_type": "code",
      "execution_count": null,
      "id": "7d147846",
      "metadata": {
        "id": "7d147846"
      },
      "outputs": [],
      "source": [
        "class Circle:\n",
        "    \n",
        "    def __init__(self,radius):\n",
        "        self.radius = radius\n",
        "        \n",
        "    def getArea(self):\n",
        "        import math\n",
        "        pi = math.pi\n",
        "        area = pi * (self.radius ** 2)\n",
        "        return area\n",
        "    \n",
        "    def getPerimeter(self):\n",
        "        import math\n",
        "        pi = math.pi\n",
        "        perimeter = 2 * pi * self.radius\n",
        "        return perimeter"
      ]
    },
    {
      "cell_type": "code",
      "execution_count": null,
      "id": "0406133e",
      "metadata": {
        "id": "0406133e",
        "outputId": "cc0cbcac-8162-4cf0-df82-ef408ea255b1"
      },
      "outputs": [
        {
          "data": {
            "text/plain": [
              "380.132711084365"
            ]
          },
          "execution_count": 123,
          "metadata": {},
          "output_type": "execute_result"
        }
      ],
      "source": [
        "circy = Circle(11)\n",
        "circy.getArea()"
      ]
    },
    {
      "cell_type": "code",
      "execution_count": null,
      "id": "2fbbb8bf",
      "metadata": {
        "id": "2fbbb8bf",
        "outputId": "d5292942-d44f-44b6-ecd6-c1b9649f0e85"
      },
      "outputs": [
        {
          "data": {
            "text/plain": [
              "27.897342763877365"
            ]
          },
          "execution_count": 124,
          "metadata": {},
          "output_type": "execute_result"
        }
      ],
      "source": [
        "circy = Circle(4.44)\n",
        "circy.getPerimeter()"
      ]
    },
    {
      "cell_type": "markdown",
      "id": "2ecf0ede",
      "metadata": {
        "id": "2ecf0ede"
      },
      "source": [
        "# Question4\n",
        "\n",
        "Create a function that takes a list of strings and return a list, sorted from shortest to longest.\n",
        "\n",
        "    Examples\n",
        "\n",
        "    sort_by_length([\"Google\", \"Apple\", \"Microsoft\"])\n",
        "    ➞ [\"Apple\", \"Google\", \"Microsoft\"]\n",
        "\n",
        "    sort_by_length([\"Leonardo\", \"Michelangelo\", \"Raphael\", \"Donatello\"])\n",
        "    ➞ [\"Raphael\", \"Leonardo\", \"Donatello\", \"Michelangelo\"]\n",
        "\n",
        "    sort_by_length([\"Turing\", \"Einstein\", \"Jung\"])\n",
        "    ➞ [\"Jung\", \"Turing\", \"Einstein\"]\n",
        "\n",
        "Notes\n",
        "\n",
        "All test cases contain lists with strings of different lengths, so you won't have to deal with multiple strings of the same length.\n"
      ]
    },
    {
      "cell_type": "code",
      "execution_count": null,
      "id": "5e05ade2",
      "metadata": {
        "id": "5e05ade2"
      },
      "outputs": [],
      "source": [
        "def sort_by_length(lst):\n",
        "    def myFunc(e):\n",
        "        return len(e)\n",
        "    a = list(lst)\n",
        "    a.sort(key=myFunc)\n",
        "    return a"
      ]
    },
    {
      "cell_type": "code",
      "execution_count": null,
      "id": "83c5cc4b",
      "metadata": {
        "id": "83c5cc4b",
        "outputId": "b0dfa6d7-43a2-41a4-dbe7-74421d0e3129"
      },
      "outputs": [
        {
          "data": {
            "text/plain": [
              "['Apple', 'Google', 'Microsoft']"
            ]
          },
          "execution_count": 140,
          "metadata": {},
          "output_type": "execute_result"
        }
      ],
      "source": [
        "sort_by_length([\"Google\", \"Apple\", \"Microsoft\"])"
      ]
    },
    {
      "cell_type": "code",
      "execution_count": null,
      "id": "a83b6d42",
      "metadata": {
        "id": "a83b6d42",
        "outputId": "791ca878-4e5d-48bd-edcd-814facb7b107"
      },
      "outputs": [
        {
          "data": {
            "text/plain": [
              "['Raphael', 'Leonardo', 'Donatello', 'Michelangelo']"
            ]
          },
          "execution_count": 141,
          "metadata": {},
          "output_type": "execute_result"
        }
      ],
      "source": [
        "sort_by_length([\"Leonardo\", \"Michelangelo\", \"Raphael\", \"Donatello\"])"
      ]
    },
    {
      "cell_type": "code",
      "execution_count": null,
      "id": "c6582aa0",
      "metadata": {
        "id": "c6582aa0",
        "outputId": "2258bbdb-a8d8-4fdd-abf1-1098bf918370"
      },
      "outputs": [
        {
          "data": {
            "text/plain": [
              "['Jung', 'Turing', 'Einstein']"
            ]
          },
          "execution_count": 142,
          "metadata": {},
          "output_type": "execute_result"
        }
      ],
      "source": [
        "sort_by_length([\"Turing\", \"Einstein\", \"Jung\"])"
      ]
    },
    {
      "cell_type": "markdown",
      "id": "1ede3f7e",
      "metadata": {
        "id": "1ede3f7e"
      },
      "source": [
        "# Question5\n",
        "\n",
        "Create a function that validates whether three given integers form a Pythagorean triplet. The sum of the squares of the two smallest integers must equal the square of the largest number to be validated.\n",
        "\n",
        "\n",
        "    Examples\n",
        "    is_triplet(3, 4, 5) ➞ True\n",
        "    #3² + 4² = 25\n",
        "    #5² = 25\n",
        "\n",
        "    is_triplet(13, 5, 12) ➞ True\n",
        "    #5² + 12² = 169\n",
        "    #13² = 169\n",
        "\n",
        "    is_triplet(1, 2, 3) ➞ False\n",
        "    #1² + 2² = 5\n",
        "    #3² = 9\n",
        "\n",
        "Notes\n",
        "\n",
        "Numbers may not be given in a sorted order.\n"
      ]
    },
    {
      "cell_type": "code",
      "execution_count": null,
      "id": "0dca93a9",
      "metadata": {
        "id": "0dca93a9"
      },
      "outputs": [],
      "source": [
        "def is_triplet(num1,num2,num3):\n",
        "    lst = [num1,num2,num3]\n",
        "    lst.sort(reverse = False)\n",
        "    sides = lst[0]**2 + lst[1] **2\n",
        "    hypo = lst[2]**2\n",
        "    if sides == hypo:\n",
        "        return True\n",
        "    else:\n",
        "        return False"
      ]
    },
    {
      "cell_type": "code",
      "execution_count": null,
      "id": "3031f764",
      "metadata": {
        "id": "3031f764",
        "outputId": "f190b632-ddb9-4824-861a-95d240974b9b"
      },
      "outputs": [
        {
          "data": {
            "text/plain": [
              "True"
            ]
          },
          "execution_count": 149,
          "metadata": {},
          "output_type": "execute_result"
        }
      ],
      "source": [
        "is_triplet(3, 4, 5)"
      ]
    },
    {
      "cell_type": "code",
      "execution_count": null,
      "id": "25e40522",
      "metadata": {
        "id": "25e40522",
        "outputId": "5705460d-0cfa-4b71-bdb2-506ff8c1ef61"
      },
      "outputs": [
        {
          "data": {
            "text/plain": [
              "True"
            ]
          },
          "execution_count": 150,
          "metadata": {},
          "output_type": "execute_result"
        }
      ],
      "source": [
        "is_triplet(13, 5, 12)"
      ]
    },
    {
      "cell_type": "code",
      "execution_count": null,
      "id": "0d4eacbc",
      "metadata": {
        "id": "0d4eacbc",
        "outputId": "3be498f6-dbf4-4167-87ff-c5b73459d17d"
      },
      "outputs": [
        {
          "data": {
            "text/plain": [
              "False"
            ]
          },
          "execution_count": 152,
          "metadata": {},
          "output_type": "execute_result"
        }
      ],
      "source": [
        "is_triplet(1, 2, 3)"
      ]
    },
    {
      "cell_type": "code",
      "execution_count": null,
      "id": "d501e57b",
      "metadata": {
        "id": "d501e57b"
      },
      "outputs": [],
      "source": []
    }
  ],
  "metadata": {
    "kernelspec": {
      "display_name": "Python 3 (ipykernel)",
      "language": "python",
      "name": "python3"
    },
    "language_info": {
      "codemirror_mode": {
        "name": "ipython",
        "version": 3
      },
      "file_extension": ".py",
      "mimetype": "text/x-python",
      "name": "python",
      "nbconvert_exporter": "python",
      "pygments_lexer": "ipython3",
      "version": "3.11.1"
    },
    "colab": {
      "provenance": [],
      "include_colab_link": true
    }
  },
  "nbformat": 4,
  "nbformat_minor": 5
}