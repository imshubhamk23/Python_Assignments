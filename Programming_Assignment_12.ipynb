{
  "cells": [
    {
      "cell_type": "markdown",
      "metadata": {
        "id": "view-in-github",
        "colab_type": "text"
      },
      "source": [
        "<a href=\"https://colab.research.google.com/github/imshubhamk23/Python_Assignments/blob/main/Programming_Assignment_12.ipynb\" target=\"_parent\"><img src=\"https://colab.research.google.com/assets/colab-badge.svg\" alt=\"Open In Colab\"/></a>"
      ]
    },
    {
      "cell_type": "markdown",
      "id": "a58ca6af",
      "metadata": {
        "id": "a58ca6af"
      },
      "source": [
        "1. Write a Python program to Extract Unique values dictionary values?"
      ]
    },
    {
      "cell_type": "code",
      "execution_count": null,
      "id": "b3b41441",
      "metadata": {
        "id": "b3b41441",
        "outputId": "efc2c682-bf99-489a-d426-fc4f71ebcabf"
      },
      "outputs": [
        {
          "name": "stdout",
          "output_type": "stream",
          "text": [
            "The dictionary values are:- dict_values(['fruit', 'fruit', 'vegetable', 'vegetable'])\n",
            "Unique dictionary values are:- {'fruit', 'vegetable'}\n"
          ]
        }
      ],
      "source": [
        "d1 = {\n",
        "    \"apple\" : \"fruit\"\n",
        "   , \"Banana\" : \"fruit\"\n",
        "   , \"potato\" : \"vegetable\"\n",
        "    , \"carrot\" : \"vegetable\"}\n",
        "print(f\"The dictionary values are:- {d1.values()}\")\n",
        "a = set(d1.values())\n",
        "print(f\"Unique dictionary values are:- {a}\")"
      ]
    },
    {
      "cell_type": "markdown",
      "id": "62bf73db",
      "metadata": {
        "id": "62bf73db"
      },
      "source": [
        "2. Write a Python program to find the sum of all items in a dictionary?"
      ]
    },
    {
      "cell_type": "code",
      "execution_count": null,
      "id": "6d3a0dbd",
      "metadata": {
        "id": "6d3a0dbd"
      },
      "outputs": [],
      "source": [
        "def sumDictValues(d):\n",
        "    a = d1.values()\n",
        "    b = list(a)\n",
        "    print(sum(b))"
      ]
    },
    {
      "cell_type": "code",
      "execution_count": null,
      "id": "aba56c8d",
      "metadata": {
        "id": "aba56c8d",
        "outputId": "7c9a34db-2d7f-427c-c7e4-af0f2d7ba964"
      },
      "outputs": [
        {
          "name": "stdout",
          "output_type": "stream",
          "text": [
            "10\n"
          ]
        }
      ],
      "source": [
        "d1 = {\n",
        "    \"apple\" : 1\n",
        "   , \"Banana\" : 2\n",
        "   , \"potato\" : 3\n",
        "    , \"carrot\" : 4}\n",
        "sumDictValues(d1)"
      ]
    },
    {
      "cell_type": "markdown",
      "id": "5c78b801",
      "metadata": {
        "id": "5c78b801"
      },
      "source": [
        "3. Write a Python program to Merging two Dictionaries?"
      ]
    },
    {
      "cell_type": "code",
      "execution_count": null,
      "id": "252e5bc2",
      "metadata": {
        "id": "252e5bc2"
      },
      "outputs": [],
      "source": [
        "def mergeDict(d1,d2):\n",
        "    return d1.update(d2)\n"
      ]
    },
    {
      "cell_type": "code",
      "execution_count": null,
      "id": "aa36d7d3",
      "metadata": {
        "id": "aa36d7d3",
        "outputId": "1bfc88ec-faf4-424f-d506-f042c6139eec"
      },
      "outputs": [
        {
          "name": "stdout",
          "output_type": "stream",
          "text": [
            "{'apple': 'fruit', 'Banana': 'fruit', 'potato': 'vegetable', 'carrot': 'vegetable', 1: 'apple', 2: 'Banana', 3: 'potato', 4: 'carrot'}\n"
          ]
        }
      ],
      "source": [
        "d1 = {\n",
        "    \"apple\" : \"fruit\"\n",
        "   , \"Banana\" : \"fruit\"\n",
        "   , \"potato\" : \"vegetable\"\n",
        "    , \"carrot\" : \"vegetable\"}\n",
        "d2 = {\n",
        "    1 :\"apple\"\n",
        "   ,2 : \"Banana\" \n",
        "   ,3 :  \"potato\" \n",
        "    ,4 :  \"carrot\"}\n",
        "mergeDict(d1,d2)\n",
        "print(d1)"
      ]
    },
    {
      "cell_type": "code",
      "execution_count": null,
      "id": "3e43cc09",
      "metadata": {
        "id": "3e43cc09",
        "outputId": "eea3f6e2-8466-4eec-f714-5da907ea3288"
      },
      "outputs": [
        {
          "name": "stdout",
          "output_type": "stream",
          "text": [
            "Collecting flatdict\n",
            "  Downloading flatdict-4.0.1.tar.gz (8.3 kB)\n",
            "  Preparing metadata (setup.py): started\n",
            "  Preparing metadata (setup.py): finished with status 'done'\n",
            "Installing collected packages: flatdict\n",
            "  Running setup.py install for flatdict: started\n",
            "  Running setup.py install for flatdict: finished with status 'done'\n",
            "Successfully installed flatdict-4.0.1\n"
          ]
        },
        {
          "name": "stderr",
          "output_type": "stream",
          "text": [
            "  DEPRECATION: flatdict is being installed using the legacy 'setup.py install' method, because it does not have a 'pyproject.toml' and the 'wheel' package is not installed. pip 23.1 will enforce this behaviour change. A possible replacement is to enable the '--use-pep517' option. Discussion can be found at https://github.com/pypa/pip/issues/8559\n"
          ]
        }
      ],
      "source": [
        "!pip install flatdict"
      ]
    },
    {
      "cell_type": "code",
      "execution_count": null,
      "id": "3d660fe3",
      "metadata": {
        "id": "3d660fe3"
      },
      "outputs": [],
      "source": [
        "import flatdict\n",
        "d1 = {\n",
        "    \"apple\" : \"fruit\"\n",
        "   , \"Banana\" : {\n",
        "       \"potato\" : \"vegetable\"\n",
        "        , \"carrot\" : \"vegetable\"}}\n",
        "d = flatdict.FlatDict(d1,delimiter=\".\")"
      ]
    },
    {
      "cell_type": "code",
      "execution_count": null,
      "id": "12de06dc",
      "metadata": {
        "id": "12de06dc",
        "outputId": "5ff29bc8-84dc-4279-911a-95df62cd5d65"
      },
      "outputs": [
        {
          "name": "stdout",
          "output_type": "stream",
          "text": [
            "{'apple': 'fruit', 'Banana.potato': 'vegetable', 'Banana.carrot': 'vegetable'}\n"
          ]
        }
      ],
      "source": [
        "print(d)"
      ]
    },
    {
      "cell_type": "markdown",
      "id": "a2022b49",
      "metadata": {
        "id": "a2022b49"
      },
      "source": [
        "5. Write a Python program to insertion at the beginning in OrderedDict ?"
      ]
    },
    {
      "cell_type": "code",
      "execution_count": null,
      "id": "8f5e8952",
      "metadata": {
        "id": "8f5e8952",
        "outputId": "4ed8cbc6-6e1b-4404-87ce-d90600e7e8bf"
      },
      "outputs": [
        {
          "name": "stdout",
          "output_type": "stream",
          "text": [
            "OrderedDict([('mohit', 3), ('shubham', 1), ('rohan', 2)])\n"
          ]
        }
      ],
      "source": [
        "from collections import OrderedDict\n",
        "d1 = {'shubham':1, 'rohan':2}\n",
        "d2 = {'mohit': 3}\n",
        "ordered_d1 = OrderedDict(d1)\n",
        "ordered_d1.update(d2)\n",
        "ordered_d1.move_to_end('mohit',last = False)\n",
        "print(ordered_d1)"
      ]
    },
    {
      "cell_type": "markdown",
      "id": "cf0502a5",
      "metadata": {
        "id": "cf0502a5"
      },
      "source": [
        "6. Write a Python program to check order of character in string using OrderedDict()?"
      ]
    },
    {
      "cell_type": "code",
      "execution_count": null,
      "id": "f4933330",
      "metadata": {
        "id": "f4933330"
      },
      "outputs": [],
      "source": [
        "from collections import OrderedDict\n",
        "def check_order(input, pattern):\n",
        "    dict = OrderedDict.fromkeys(input)\n",
        "    lenptr = 0\n",
        "    for key,value in dict.items():\n",
        "        if key == pattern[lenptr]:\n",
        "            lenptr = lenptr + 1\n",
        "        if lenptr == len(pattern):\n",
        "            return True\n",
        "    else:\n",
        "        return False"
      ]
    },
    {
      "cell_type": "code",
      "execution_count": null,
      "id": "f249142b",
      "metadata": {
        "id": "f249142b",
        "outputId": "dd696ae7-ef60-4c92-f9a5-d778ee9c36c4"
      },
      "outputs": [
        {
          "name": "stdout",
          "output_type": "stream",
          "text": [
            "True\n"
          ]
        }
      ],
      "source": [
        "print(check_order(\"shubham rocks\",\"sr\"))"
      ]
    },
    {
      "cell_type": "markdown",
      "id": "2eff3bf8",
      "metadata": {
        "id": "2eff3bf8"
      },
      "source": [
        "7. Write a Python program to sort Python Dictionaries by Key or Value?"
      ]
    },
    {
      "cell_type": "code",
      "execution_count": null,
      "id": "9778a1a6",
      "metadata": {
        "id": "9778a1a6",
        "outputId": "d345d167-1c28-494a-ed40-7c2dd783ddff"
      },
      "outputs": [
        {
          "name": "stdout",
          "output_type": "stream",
          "text": [
            "{'apple': 'fruit', 'banana': 'fruit', 'carrot': 'vegetable', 'potato': 'vegetable'}\n"
          ]
        }
      ],
      "source": [
        "d1 = {\n",
        "    \"apple\" : \"fruit\"\n",
        "   , \"banana\" : \"fruit\"\n",
        "   , \"potato\" : \"vegetable\"\n",
        "    , \"carrot\" : \"vegetable\"}\n",
        "mykeys = list(d1.keys())\n",
        "mykeys.sort()\n",
        "sorted_dict = {i: d1[i] for i in mykeys}\n",
        "print(sorted_dict)"
      ]
    }
  ],
  "metadata": {
    "kernelspec": {
      "display_name": "Python 3 (ipykernel)",
      "language": "python",
      "name": "python3"
    },
    "language_info": {
      "codemirror_mode": {
        "name": "ipython",
        "version": 3
      },
      "file_extension": ".py",
      "mimetype": "text/x-python",
      "name": "python",
      "nbconvert_exporter": "python",
      "pygments_lexer": "ipython3",
      "version": "3.9.10"
    },
    "colab": {
      "provenance": [],
      "include_colab_link": true
    }
  },
  "nbformat": 4,
  "nbformat_minor": 5
}