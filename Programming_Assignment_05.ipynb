{
  "cells": [
    {
      "cell_type": "markdown",
      "metadata": {
        "colab_type": "text",
        "id": "view-in-github"
      },
      "source": [
        "<a href=\"https://colab.research.google.com/github/imshubhamk23/Python_Assignments/blob/main/Programming_Assignment_5.ipynb\" target=\"_parent\"><img src=\"https://colab.research.google.com/assets/colab-badge.svg\" alt=\"Open In Colab\"/></a>"
      ]
    },
    {
      "cell_type": "markdown",
      "metadata": {
        "id": "XIVB88FvyTWE"
      },
      "source": [
        "1. Write a Python Program to Find LCM?"
      ]
    },
    {
      "cell_type": "code",
      "execution_count": 7,
      "metadata": {
        "id": "O85Y7o-oyVp7"
      },
      "outputs": [],
      "source": [
        "def lcm(x,y):\n",
        "  if x > y:\n",
        "    greater = x\n",
        "  else:\n",
        "    greater = y\n",
        "\n",
        "  while True:\n",
        "    if greater % x == 0 and greater % y == 0:\n",
        "      lcm = greater\n",
        "      break\n",
        "    greater += 1\n",
        "  return lcm"
      ]
    },
    {
      "cell_type": "code",
      "execution_count": 8,
      "metadata": {
        "colab": {
          "base_uri": "https://localhost:8080/"
        },
        "id": "aZWACfAGzmhn",
        "outputId": "6d25403f-4bbd-4f78-9b2a-07c8a912adae"
      },
      "outputs": [
        {
          "name": "stdout",
          "output_type": "stream",
          "text": [
            "216\n"
          ]
        }
      ],
      "source": [
        "print(lcm(54,24))"
      ]
    },
    {
      "cell_type": "markdown",
      "metadata": {
        "id": "gJctSJtv3OP-"
      },
      "source": [
        "2. Write a Python Program to Find HCF?"
      ]
    },
    {
      "cell_type": "code",
      "execution_count": 11,
      "metadata": {
        "id": "7It-I7u5zvJz"
      },
      "outputs": [],
      "source": [
        "#normal method\n",
        "def hcf(x,y):\n",
        "  if x > y:\n",
        "    smaller = y\n",
        "  else:\n",
        "    smaller = x\n",
        "\n",
        "  for i in range(1,smaller+1):\n",
        "    if x % i == 0 and y % i == 0:\n",
        "      hcf = i\n",
        "  return hcf"
      ]
    },
    {
      "cell_type": "code",
      "execution_count": 13,
      "metadata": {
        "colab": {
          "base_uri": "https://localhost:8080/"
        },
        "id": "oGErmrkJ1zRY",
        "outputId": "c00db3f5-0ded-4d23-bd03-0581f1440649"
      },
      "outputs": [
        {
          "name": "stdout",
          "output_type": "stream",
          "text": [
            "6\n"
          ]
        }
      ],
      "source": [
        "print(hcf(54,24))"
      ]
    },
    {
      "cell_type": "code",
      "execution_count": 14,
      "metadata": {
        "id": "ZUHVxAF515F1"
      },
      "outputs": [],
      "source": [
        "#euclidian method\n",
        "\n",
        "def hcf1(x,y):\n",
        "  while y:\n",
        "    x,y = y, x % y\n",
        "  return x\n"
      ]
    },
    {
      "cell_type": "code",
      "execution_count": 16,
      "metadata": {
        "colab": {
          "base_uri": "https://localhost:8080/"
        },
        "id": "GXOxkq8r3l4M",
        "outputId": "75098488-b3ca-41b7-ebc5-f3aae9adb556"
      },
      "outputs": [
        {
          "name": "stdout",
          "output_type": "stream",
          "text": [
            "6\n"
          ]
        }
      ],
      "source": [
        "print(hcf1(24,54))"
      ]
    },
    {
      "cell_type": "markdown",
      "metadata": {
        "id": "dx5uLkBp3_wK"
      },
      "source": [
        "3. Write a Python Program to Convert Decimal to Binary, Octal and Hexadecimal?"
      ]
    },
    {
      "cell_type": "code",
      "execution_count": 48,
      "metadata": {
        "id": "WmTDXOAW3pUl"
      },
      "outputs": [],
      "source": [
        "\n",
        "def binary(num):\n",
        "  l = []\n",
        "  while num != 0:\n",
        "    r = num % 2\n",
        "    l.append(r)\n",
        "    num = num//2\n",
        "  l.reverse()\n",
        "  for i in l:\n",
        "    print(i, end = \" \")\n",
        "\n",
        "def octal(num):\n",
        "  l = []\n",
        "  while num != 0:\n",
        "    r = num % 8\n",
        "    l.append(r)\n",
        "    num = num // 8\n",
        "  l.reverse()\n",
        "  for i in l:\n",
        "    print(i, end = \" \")\n"
      ]
    },
    {
      "cell_type": "code",
      "execution_count": 49,
      "metadata": {
        "colab": {
          "base_uri": "https://localhost:8080/"
        },
        "id": "JyWmYW5G918Z",
        "outputId": "dfb14d58-4986-4e64-871e-881cd6bce1d1"
      },
      "outputs": [
        {
          "name": "stdout",
          "output_type": "stream",
          "text": [
            "1 1 0 0 "
          ]
        }
      ],
      "source": [
        "binary(12)"
      ]
    },
    {
      "cell_type": "code",
      "execution_count": 52,
      "metadata": {
        "colab": {
          "base_uri": "https://localhost:8080/"
        },
        "id": "mstJkcXh99WR",
        "outputId": "56561cc0-3b10-4545-c284-4145c4815572"
      },
      "outputs": [
        {
          "name": "stdout",
          "output_type": "stream",
          "text": [
            "1 4 "
          ]
        }
      ],
      "source": [
        "octal(12)"
      ]
    },
    {
      "cell_type": "code",
      "execution_count": 53,
      "metadata": {
        "colab": {
          "base_uri": "https://localhost:8080/",
          "height": 35
        },
        "id": "HctRqdCvCskj",
        "outputId": "3efea537-05ca-4dd0-fbc1-9bdff5aa0774"
      },
      "outputs": [
        {
          "data": {
            "application/vnd.google.colaboratory.intrinsic+json": {
              "type": "string"
            },
            "text/plain": [
              "'0xc'"
            ]
          },
          "execution_count": 53,
          "metadata": {},
          "output_type": "execute_result"
        }
      ],
      "source": [
        "hex(12)"
      ]
    },
    {
      "cell_type": "markdown",
      "metadata": {
        "id": "RPbia4xtFV68"
      },
      "source": [
        "4. Write a Python Program To Find ASCII value of a character?"
      ]
    },
    {
      "cell_type": "code",
      "execution_count": 54,
      "metadata": {
        "colab": {
          "base_uri": "https://localhost:8080/"
        },
        "id": "_SkLMvPnD3n9",
        "outputId": "0e82fe78-6dd6-45e0-9194-5a40a846c60f"
      },
      "outputs": [
        {
          "name": "stdout",
          "output_type": "stream",
          "text": [
            "The ASCII of D is 68\n"
          ]
        }
      ],
      "source": [
        "a = \"D\"\n",
        "print(f\"The ASCII of {a} is {ord(a)}\")"
      ]
    },
    {
      "cell_type": "markdown",
      "metadata": {
        "id": "cJqQHbS3Ft8S"
      },
      "source": [
        "5. Write a Python Program to Make a Simple Calculator with 4 basic mathematical operations?"
      ]
    },
    {
      "cell_type": "code",
      "execution_count": 62,
      "metadata": {
        "id": "2ifOqaQOFnQf"
      },
      "outputs": [],
      "source": [
        "def add(*args):\n",
        "  return sum(args)\n",
        "\n",
        "def substract(a,b):\n",
        "  return (a-b)\n",
        "\n",
        "def divide(a,b):\n",
        "  return a/b\n",
        "\n",
        "def multiply(a,b):\n",
        "  return a*b"
      ]
    },
    {
      "cell_type": "code",
      "execution_count": 56,
      "metadata": {
        "colab": {
          "base_uri": "https://localhost:8080/"
        },
        "id": "d-jQKEmTGHPd",
        "outputId": "4d3cd218-4e01-42fe-b430-e1d56757ee20"
      },
      "outputs": [
        {
          "name": "stdout",
          "output_type": "stream",
          "text": [
            "10\n"
          ]
        }
      ],
      "source": [
        "print(multiply(2,5))"
      ]
    },
    {
      "cell_type": "code",
      "execution_count": 57,
      "metadata": {
        "colab": {
          "base_uri": "https://localhost:8080/"
        },
        "id": "pr924r1ZGKmY",
        "outputId": "c43609d0-0455-49b2-a4bf-9afac0a9a52e"
      },
      "outputs": [
        {
          "name": "stdout",
          "output_type": "stream",
          "text": [
            "5.0\n"
          ]
        }
      ],
      "source": [
        "print(divide(10,2))"
      ]
    },
    {
      "cell_type": "code",
      "execution_count": 58,
      "metadata": {
        "colab": {
          "base_uri": "https://localhost:8080/"
        },
        "id": "ZFO28-07GPpg",
        "outputId": "738b82ce-02ab-4ea1-e4d5-2a8dbbc07c51"
      },
      "outputs": [
        {
          "name": "stdout",
          "output_type": "stream",
          "text": [
            "4\n"
          ]
        }
      ],
      "source": [
        "print(substract(6,2))"
      ]
    },
    {
      "cell_type": "code",
      "execution_count": 63,
      "metadata": {
        "colab": {
          "base_uri": "https://localhost:8080/"
        },
        "id": "6qac8wolGT3A",
        "outputId": "c9231120-041d-4b46-e182-9bf03a01db28"
      },
      "outputs": [
        {
          "name": "stdout",
          "output_type": "stream",
          "text": [
            "14\n"
          ]
        }
      ],
      "source": [
        "print(add(2,3,4,5))"
      ]
    },
    {
      "cell_type": "code",
      "execution_count": null,
      "metadata": {
        "id": "pA5cUKcjGWoG"
      },
      "outputs": [],
      "source": []
    }
  ],
  "metadata": {
    "colab": {
      "authorship_tag": "ABX9TyPnjPzF6qc9d5p1n+mhWTun",
      "include_colab_link": true,
      "provenance": []
    },
    "kernelspec": {
      "display_name": "Python 3",
      "language": "python",
      "name": "python3"
    },
    "language_info": {
      "name": "python",
      "version": "3.9.10 (tags/v3.9.10:f2f3f53, Jan 17 2022, 15:14:21) [MSC v.1929 64 bit (AMD64)]"
    },
    "vscode": {
      "interpreter": {
        "hash": "1736e173d0703c75fb5eb2a9acdf95e7844ad6a7f61a96653ab90dd7220b0f11"
      }
    }
  },
  "nbformat": 4,
  "nbformat_minor": 0
}
