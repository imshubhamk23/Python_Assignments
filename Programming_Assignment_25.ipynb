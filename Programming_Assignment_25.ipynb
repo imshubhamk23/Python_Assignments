{
  "cells": [
    {
      "cell_type": "markdown",
      "metadata": {
        "id": "view-in-github",
        "colab_type": "text"
      },
      "source": [
        "<a href=\"https://colab.research.google.com/github/imshubhamk23/Python_Assignments/blob/main/Programming_Assignment_25.ipynb\" target=\"_parent\"><img src=\"https://colab.research.google.com/assets/colab-badge.svg\" alt=\"Open In Colab\"/></a>"
      ]
    },
    {
      "cell_type": "markdown",
      "id": "2249650b",
      "metadata": {
        "id": "2249650b"
      },
      "source": [
        "# Question1\n",
        "\n",
        "Create a function that takes three integer arguments (a, b, c) and returns the amount of integers which are of equal value.\n",
        "\n",
        "    Examples\n",
        "    equal(3, 4, 3) ➞ 2\n",
        "\n",
        "    equal(1, 1, 1) ➞ 3\n",
        "\n",
        "    equal(3, 4, 1) ➞ 0 \n",
        "\n",
        "Notes\n",
        "\n",
        "Your function must return 0, 2 or 3.\n"
      ]
    },
    {
      "cell_type": "code",
      "execution_count": null,
      "id": "6ce9c12f",
      "metadata": {
        "id": "6ce9c12f"
      },
      "outputs": [],
      "source": [
        "def equal(num1,num2,num3):\n",
        "    from collections import Counter\n",
        "    lst = [num1,num2,num3]\n",
        "    for i in lst:\n",
        "        if lst.count(i) > 1:\n",
        "            return lst.count(i)\n",
        "        else:\n",
        "            return 0"
      ]
    },
    {
      "cell_type": "code",
      "execution_count": null,
      "id": "b69229fd",
      "metadata": {
        "id": "b69229fd",
        "outputId": "4dabcd81-dc8d-4038-bc17-ed5e907b736f"
      },
      "outputs": [
        {
          "data": {
            "text/plain": [
              "2"
            ]
          },
          "execution_count": 17,
          "metadata": {},
          "output_type": "execute_result"
        }
      ],
      "source": [
        "equal(3, 4, 3)"
      ]
    },
    {
      "cell_type": "code",
      "execution_count": null,
      "id": "48719d68",
      "metadata": {
        "id": "48719d68",
        "outputId": "7501892b-a35b-406d-c3e0-717d9f9766aa"
      },
      "outputs": [
        {
          "data": {
            "text/plain": [
              "3"
            ]
          },
          "execution_count": 18,
          "metadata": {},
          "output_type": "execute_result"
        }
      ],
      "source": [
        "equal(1, 1, 1)"
      ]
    },
    {
      "cell_type": "code",
      "execution_count": null,
      "id": "3f109120",
      "metadata": {
        "id": "3f109120",
        "outputId": "a195cb10-f952-42c2-b5cf-52e2741eea83"
      },
      "outputs": [
        {
          "data": {
            "text/plain": [
              "0"
            ]
          },
          "execution_count": 19,
          "metadata": {},
          "output_type": "execute_result"
        }
      ],
      "source": [
        "equal(3, 4, 1)"
      ]
    },
    {
      "cell_type": "markdown",
      "id": "bf4c40df",
      "metadata": {
        "id": "bf4c40df"
      },
      "source": [
        "# Question2\n",
        "\n",
        "Write a function that converts a dictionary into a list of keys-values tuples.\n",
        "\n",
        "    Examples\n",
        "    dict_to_list({\n",
        "      \"D\": 1,\n",
        "      \"B\": 2,\n",
        "      \"C\": 3\n",
        "    }) ➞ [(\"B\", 2), (\"C\", 3), (\"D\", 1)]\n",
        "\n",
        "    dict_to_list({\n",
        "      \"likes\": 2,\n",
        "      \"dislikes\": 3,\n",
        "      \"followers\": 10\n",
        "    }) ➞ [(\"dislikes\", 3), (\"followers\", 10), (\"likes\", 2)]\n",
        "\n",
        "Notes\n",
        "\n",
        "Return the elements in the list in alphabetical order.\n"
      ]
    },
    {
      "cell_type": "code",
      "execution_count": null,
      "id": "e9615a62",
      "metadata": {
        "id": "e9615a62"
      },
      "outputs": [],
      "source": [
        "def dict_to_list(dictionary):\n",
        "    a = list(dictionary.items())\n",
        "    a.sort(reverse = False)\n",
        "    return a"
      ]
    },
    {
      "cell_type": "code",
      "execution_count": null,
      "id": "c7d983f4",
      "metadata": {
        "id": "c7d983f4",
        "outputId": "2b647e63-88c3-4f18-bb74-6b89e28df7af"
      },
      "outputs": [
        {
          "data": {
            "text/plain": [
              "[('B', 2), ('C', 3), ('D', 1)]"
            ]
          },
          "execution_count": 24,
          "metadata": {},
          "output_type": "execute_result"
        }
      ],
      "source": [
        "dict_to_list({\n",
        "  \"D\": 1,\n",
        "  \"B\": 2,\n",
        "  \"C\": 3\n",
        "})"
      ]
    },
    {
      "cell_type": "code",
      "execution_count": null,
      "id": "ee049726",
      "metadata": {
        "id": "ee049726",
        "outputId": "a07e0a35-9043-40ea-de8e-6f2675f500d5"
      },
      "outputs": [
        {
          "data": {
            "text/plain": [
              "[('dislikes', 3), ('followers', 10), ('likes', 2)]"
            ]
          },
          "execution_count": 25,
          "metadata": {},
          "output_type": "execute_result"
        }
      ],
      "source": [
        "dict_to_list({\n",
        "  \"likes\": 2,\n",
        "  \"dislikes\": 3,\n",
        "  \"followers\": 10\n",
        "})"
      ]
    },
    {
      "cell_type": "markdown",
      "id": "19f48b6a",
      "metadata": {
        "id": "19f48b6a"
      },
      "source": [
        "# Question3\n",
        "\n",
        "Write a function that creates a dictionary with each (key, value) pair being the (lower case, upper case) versions of a letter, respectively.\n",
        "\n",
        "    Examples\n",
        "    mapping([\"p\", \"s\"]) ➞ { \"p\": \"P\", \"s\": \"S\" }\n",
        "\n",
        "    mapping([\"a\", \"b\", \"c\"]) ➞ { \"a\": \"A\", \"b\": \"B\", \"c\": \"C\" }\n",
        "\n",
        "    mapping([\"a\", \"v\", \"y\", \"z\"]) ➞ { \"a\": \"A\", \"v\": \"V\", \"y\": \"Y\", \"z\": \"Z\" }\n",
        "\n",
        "Notes\n",
        "\n",
        "All of the letters in the input list will always be lowercase.\n"
      ]
    },
    {
      "cell_type": "code",
      "execution_count": null,
      "id": "4fe28137",
      "metadata": {
        "id": "4fe28137"
      },
      "outputs": [],
      "source": [
        "def mapping(lst):\n",
        "    dct = {}\n",
        "    for i in lst:\n",
        "        dct1 = {i:i.upper()}\n",
        "        dct.update(dct1)\n",
        "    return dct"
      ]
    },
    {
      "cell_type": "code",
      "execution_count": null,
      "id": "10da24e0",
      "metadata": {
        "id": "10da24e0",
        "outputId": "e9bc5f1c-5b8d-4922-958c-d709e01a3424"
      },
      "outputs": [
        {
          "data": {
            "text/plain": [
              "{'p': 'P', 's': 'S'}"
            ]
          },
          "execution_count": 27,
          "metadata": {},
          "output_type": "execute_result"
        }
      ],
      "source": [
        "mapping([\"p\", \"s\"])"
      ]
    },
    {
      "cell_type": "code",
      "execution_count": null,
      "id": "2e60b41c",
      "metadata": {
        "id": "2e60b41c",
        "outputId": "755bbbf8-34eb-4b6d-ab4b-bbe65e741763"
      },
      "outputs": [
        {
          "data": {
            "text/plain": [
              "{'a': 'A', 'b': 'B', 'c': 'C'}"
            ]
          },
          "execution_count": 28,
          "metadata": {},
          "output_type": "execute_result"
        }
      ],
      "source": [
        "mapping([\"a\", \"b\", \"c\"])"
      ]
    },
    {
      "cell_type": "code",
      "execution_count": null,
      "id": "fc8f9443",
      "metadata": {
        "id": "fc8f9443",
        "outputId": "b3289aeb-7958-4fec-b8e0-1f73d0ba8b70"
      },
      "outputs": [
        {
          "data": {
            "text/plain": [
              "{'a': 'A', 'v': 'V', 'y': 'Y', 'z': 'Z'}"
            ]
          },
          "execution_count": 29,
          "metadata": {},
          "output_type": "execute_result"
        }
      ],
      "source": [
        "mapping([\"a\", \"v\", \"y\", \"z\"])"
      ]
    },
    {
      "cell_type": "markdown",
      "id": "9d32bb0d",
      "metadata": {
        "id": "9d32bb0d"
      },
      "source": [
        "# Question4\n",
        "\n",
        "Write a function, that replaces all vowels in a string with a specified vowel.\n",
        "\n",
        "    Examples\n",
        "    vow_replace(\"apples and bananas\", \"u\") ➞ \"upplus und bununus\"\n",
        "\n",
        "    vow_replace(\"cheese casserole\", \"o\") ➞ \"chooso cossorolo\"\n",
        "\n",
        "    vow_replace(\"stuffed jalapeno poppers\", \"e\") ➞ \"steffed jelepene peppers\"\n",
        "\n",
        "Notes\n",
        "\n",
        "All words will be lowercase. Y is not considered a vowel.\n"
      ]
    },
    {
      "cell_type": "code",
      "execution_count": null,
      "id": "b8455b14",
      "metadata": {
        "id": "b8455b14"
      },
      "outputs": [],
      "source": [
        "def vow_replace(string,vowel):\n",
        "    vowels = \"aeiou\"\n",
        "    for i in vowels:\n",
        "        string = string.replace(i,vowel)\n",
        "    return string\n",
        "        "
      ]
    },
    {
      "cell_type": "code",
      "execution_count": null,
      "id": "2c5f9814",
      "metadata": {
        "id": "2c5f9814",
        "outputId": "2a838403-0d35-4daa-c5f9-b9f49ff9f0ad"
      },
      "outputs": [
        {
          "data": {
            "text/plain": [
              "'upplus und bununus'"
            ]
          },
          "execution_count": 46,
          "metadata": {},
          "output_type": "execute_result"
        }
      ],
      "source": [
        "vow_replace(\"apples and bananas\", \"u\")"
      ]
    },
    {
      "cell_type": "code",
      "execution_count": null,
      "id": "c1a60ca7",
      "metadata": {
        "id": "c1a60ca7",
        "outputId": "6cb9a0a3-67f7-4bbd-df73-22b978cb20df"
      },
      "outputs": [
        {
          "data": {
            "text/plain": [
              "'chooso cossorolo'"
            ]
          },
          "execution_count": 47,
          "metadata": {},
          "output_type": "execute_result"
        }
      ],
      "source": [
        "vow_replace(\"cheese casserole\", \"o\")"
      ]
    },
    {
      "cell_type": "code",
      "execution_count": null,
      "id": "ddcba89a",
      "metadata": {
        "id": "ddcba89a",
        "outputId": "aa6e257e-96fe-4b46-9a68-fe8abca0ae86"
      },
      "outputs": [
        {
          "data": {
            "text/plain": [
              "'steffed jelepene peppers'"
            ]
          },
          "execution_count": 48,
          "metadata": {},
          "output_type": "execute_result"
        }
      ],
      "source": [
        "vow_replace(\"stuffed jalapeno poppers\", \"e\")"
      ]
    },
    {
      "cell_type": "markdown",
      "id": "8c9027ba",
      "metadata": {
        "id": "8c9027ba"
      },
      "source": [
        "# Question5\n",
        "\n",
        "Create a function that takes a string as input and capitalizes a letter if its ASCII code is even and returns its lower case version if its ASCII code is odd.\n",
        "\n",
        "    Examples\n",
        "    ascii_capitalize(\"to be or not to be!\") ➞ \"To Be oR NoT To Be!\"\n",
        "\n",
        "    ascii_capitalize(\"THE LITTLE MERMAID\") ➞ \"THe LiTTLe meRmaiD\"\n",
        "\n",
        "    ascii_capitalize(\"Oh what a beautiful morning.\") ➞ \"oH wHaT a BeauTiFuL moRNiNg.\"\n"
      ]
    },
    {
      "cell_type": "code",
      "execution_count": null,
      "id": "ebb4f944",
      "metadata": {
        "id": "ebb4f944"
      },
      "outputs": [],
      "source": [
        "def ascii_capitalize(string):\n",
        "    res = []\n",
        "    for i in string:\n",
        "        if ord(i) % 2 == 0:\n",
        "            res.append(i.upper())\n",
        "        else:\n",
        "            res.append(i.lower())\n",
        "    return \"\".join(res)"
      ]
    },
    {
      "cell_type": "code",
      "execution_count": null,
      "id": "2c223dd5",
      "metadata": {
        "id": "2c223dd5",
        "outputId": "85589637-ab91-4b74-d2e1-9e56fa5bc234"
      },
      "outputs": [
        {
          "data": {
            "text/plain": [
              "'To Be oR NoT To Be!'"
            ]
          },
          "execution_count": 62,
          "metadata": {},
          "output_type": "execute_result"
        }
      ],
      "source": [
        "ascii_capitalize(\"to be or not to be!\")"
      ]
    },
    {
      "cell_type": "code",
      "execution_count": null,
      "id": "67ad0235",
      "metadata": {
        "id": "67ad0235",
        "outputId": "32d10b43-c3fd-4d17-95b1-ee57646cbeec"
      },
      "outputs": [
        {
          "data": {
            "text/plain": [
              "'THe LiTTLe meRmaiD'"
            ]
          },
          "execution_count": 63,
          "metadata": {},
          "output_type": "execute_result"
        }
      ],
      "source": [
        "ascii_capitalize(\"THE LITTLE MERMAID\")"
      ]
    },
    {
      "cell_type": "code",
      "execution_count": null,
      "id": "ea439cf2",
      "metadata": {
        "id": "ea439cf2",
        "outputId": "a6f3042e-8a5e-4038-be16-aa98296fc0b9"
      },
      "outputs": [
        {
          "data": {
            "text/plain": [
              "'oH wHaT a BeauTiFuL moRNiNg.'"
            ]
          },
          "execution_count": 64,
          "metadata": {},
          "output_type": "execute_result"
        }
      ],
      "source": [
        "ascii_capitalize(\"Oh what a beautiful morning.\")"
      ]
    },
    {
      "cell_type": "code",
      "execution_count": null,
      "id": "87b6ac97",
      "metadata": {
        "id": "87b6ac97"
      },
      "outputs": [],
      "source": []
    }
  ],
  "metadata": {
    "kernelspec": {
      "display_name": "Python 3 (ipykernel)",
      "language": "python",
      "name": "python3"
    },
    "language_info": {
      "codemirror_mode": {
        "name": "ipython",
        "version": 3
      },
      "file_extension": ".py",
      "mimetype": "text/x-python",
      "name": "python",
      "nbconvert_exporter": "python",
      "pygments_lexer": "ipython3",
      "version": "3.11.1"
    },
    "colab": {
      "provenance": [],
      "include_colab_link": true
    }
  },
  "nbformat": 4,
  "nbformat_minor": 5
}