{
  "cells": [
    {
      "cell_type": "markdown",
      "metadata": {
        "id": "view-in-github",
        "colab_type": "text"
      },
      "source": [
        "<a href=\"https://colab.research.google.com/github/imshubhamk23/Python_Assignments/blob/main/Assignment_07.ipynb\" target=\"_parent\"><img src=\"https://colab.research.google.com/assets/colab-badge.svg\" alt=\"Open In Colab\"/></a>"
      ]
    },
    {
      "cell_type": "markdown",
      "metadata": {
        "id": "LqW0g5i-t7rc"
      },
      "source": [
        "### 1. What is the name of the feature responsible for generating Regex objects?"
      ]
    },
    {
      "cell_type": "markdown",
      "metadata": {
        "id": "UrCwqtHYt7rd"
      },
      "source": [
        "The feature responsible for generating Regex objects in python is the re module. The re module is a built-in library that supports the use of regular expressions (RegEx) in Python. A RegEx is a special sequence of characters that defines a pattern for matching or manipulating strings . The re module provides various functions to create and manipulate RegEx objects, such as re.compile(), re.match(), re.search(), re.findall(), etc. "
      ]
    },
    {
      "cell_type": "markdown",
      "metadata": {
        "id": "SQEKZyfQt7re"
      },
      "source": [
        "### 2. Why do raw strings often appear in Regex objects?"
      ]
    },
    {
      "cell_type": "markdown",
      "metadata": {
        "id": "7TSVPaNqt7re"
      },
      "source": [
        "  Raw strings are strings that do not interpret special characters such as backslashes (\\) as escape sequences. They are often used in regular expressions (regex) because regex patterns frequently contain backslashes that have special meanings, such as \\n for newline or \\t for tab. By using raw strings, we can avoid having to double the backslashes or use other escape mechanisms. For example, in Python, we can write a raw string by prefixing it with r or R, such as r'\\d+' to match one or more digits  ."
      ]
    },
    {
      "cell_type": "markdown",
      "metadata": {
        "id": "AQR4aNuft7re"
      },
      "source": [
        "### 3. What is the return value of the search() method?\n"
      ]
    },
    {
      "cell_type": "markdown",
      "metadata": {
        "id": "YqpJRkJNt7rf"
      },
      "source": [
        "The search() method in python regex is a function that takes a regular expression pattern and a string as arguments and returns a Match Object instance if the pattern is found anywhere in the string. The Match Object contains information about the location and content of the match. If no match is found, the search() method returns None . The search() method differs from the match() method, which only checks for a match at the beginning of the string."
      ]
    },
    {
      "cell_type": "markdown",
      "metadata": {
        "id": "lnfDmknWt7rf"
      },
      "source": [
        "### 4. From a Match item, how do you get the actual strings that match the pattern?"
      ]
    },
    {
      "cell_type": "markdown",
      "metadata": {
        "id": "a2q33ZMxt7rf"
      },
      "source": [
        "Regular expressions (regex) are patterns that can match strings of text. In Python, the `re` module provides functions for working with regex. One of these functions is `re.match`, which tries to match a regex pattern at the beginning of a string. If there is a match, it returns a `Match` object that contains information about the matched part of the string. To get the actual strings that match the pattern, you can use the `group` method of the `Match` object. This method takes one or more integers as arguments and returns one or more subgroups of the match. For example, if you have a regex pattern with two groups enclosed by parentheses, such as `(a+)b(c+)`, and you match it against a string like `'aabcc'`, you can use `match.group(1)` to get `'aa'` and `match.group(2)` to get `'cc'`. You can also use `match.group(0)` to get the whole matched string (`'aabcc'`) or `match.group()` without any arguments to do the same  ."
      ]
    },
    {
      "cell_type": "markdown",
      "metadata": {
        "id": "EXzxRFc-t7rg"
      },
      "source": [
        "### 5. In the regex which created from the r'(\\d\\d\\d)-(\\d\\d\\d-\\d\\d\\d\\d)', what does group zero cover? Group 2? Group 1?"
      ]
    },
    {
      "cell_type": "markdown",
      "metadata": {
        "id": "dzurPOy7t7rg"
      },
      "source": [
        "\n",
        "\n",
        "  In the regex created from the r'(\\d\\d\\d)-(\\d\\d\\d-\\d\\d\\d\\d)', there are three groups of characters enclosed in parentheses. These groups can be referred to by their index numbers. Group zero covers the entire regex, which matches a phone number in the format of three digits followed by a hyphen, followed by three digits and another hyphen, followed by four digits. Group 2 covers the second group of parentheses, which matches the three digits and another hyphen after the first hyphen. Group 1 covers the first group of parentheses, which matches the three digits before the first hyphen."
      ]
    },
    {
      "cell_type": "markdown",
      "metadata": {
        "id": "DxkgAkP-t7rg"
      },
      "source": [
        "### 6. In standard expression syntax, parentheses and intervals have distinct meanings. How can you tell a regex that you want it to fit real parentheses and periods?"
      ]
    },
    {
      "cell_type": "markdown",
      "metadata": {
        "id": "Kx4CM2Iot7rg"
      },
      "source": [
        "  In standard expression syntax, parentheses and periods have distinct meanings. Parentheses are used to group subexpressions within a regex, and periods are used to match any single character except a newline. To tell a regex that you want it to fit real parentheses and periods, you need to escape them with a backslash (\\). For example, the regex \\(\\d+\\.\\d+\\) will match a number enclosed in parentheses with a decimal point, such as (3.14) or (0.5)."
      ]
    },
    {
      "cell_type": "markdown",
      "metadata": {
        "id": "BEYQJUAOt7rh"
      },
      "source": [
        "### 7. The findall() method returns a string list or a list of string tuples. What causes it to return one of the two options?"
      ]
    },
    {
      "cell_type": "markdown",
      "metadata": {
        "id": "oMdjBrpqt7rh"
      },
      "source": [
        "  The findall() method is a powerful tool for finding patterns in strings. It can return either a list of strings or a list of tuples, depending on how you use it. The difference lies in the number of capturing groups in your regular expression. A capturing group is a part of the pattern that is enclosed in parentheses. For example, (\\d+) is a capturing group that matches one or more digits. If your regular expression has no capturing groups, findall() will return a list of strings that match the whole pattern. But if your regular expression has one or more capturing groups, findall() will return a list of tuples that contain the matched groups. For example, if you use findall(r'(\\d+)-(\\w+)', '12-foo 34-bar 56-baz'), you will get [('12', 'foo'), ('34', 'bar'), ('56', 'baz')]. This way, you can access the individual parts of the match easily."
      ]
    },
    {
      "cell_type": "markdown",
      "metadata": {
        "id": "ZUOR7C2Lt7rh"
      },
      "source": [
        "### 8. In standard expressions, what does the | character mean?"
      ]
    },
    {
      "cell_type": "markdown",
      "metadata": {
        "id": "5RP75vAvt7rh"
      },
      "source": [
        "  The | character is used in standard expressions to indicate a logical OR operation. This means that the expression will match either the pattern on the left or the right of the | character. For example, the expression \"cat|dog\" will match either \"cat\" or \"dog\"."
      ]
    },
    {
      "cell_type": "markdown",
      "metadata": {
        "id": "WLpUMStnt7ri"
      },
      "source": [
        "### 9. In regular expressions, what does the character stand for?\n"
      ]
    },
    {
      "cell_type": "markdown",
      "metadata": {
        "id": "NCAlQF_Xt7ri"
      },
      "source": [
        "  A regular expression (RegEx) is a sequence of characters that defines a search pattern for strings . In Python, the re module provides various functions and methods to work with RegEx  . In a RegEx pattern, some characters have special meanings and are called metacharacters . The character is one of them. It matches any single character except a newline character (\\n).\n"
      ]
    },
    {
      "cell_type": "markdown",
      "metadata": {
        "id": "pcsxGyymt7ri"
      },
      "source": [
        "### 10.In regular expressions, what is the difference between the + and * characters?\n"
      ]
    },
    {
      "cell_type": "markdown",
      "metadata": {
        "id": "qOsksJl_t7ri"
      },
      "source": [
        "  In regular expressions in Python, the + and * characters are both quantifiers that specify how many times a pattern can be repeated. The difference is that + requires at least one occurrence of the pattern, while * allows zero or more occurrences. For example, the pattern \\d+ matches one or more digits, while the pattern \\d* matches zero or more digits."
      ]
    },
    {
      "cell_type": "markdown",
      "metadata": {
        "id": "cwyiSXgjt7ri"
      },
      "source": [
        "### 11. What is the difference between {4} and {4,5} in regular expression?"
      ]
    },
    {
      "cell_type": "markdown",
      "metadata": {
        "id": "nTQ4z0Ift7rj"
      },
      "source": [
        "  In regular expressions in Python, {4} and {4,5} are quantifiers that specify how many times a pattern can be repeated. {4} means exactly four times, while {4,5} means between four and five times, inclusive. For example, the pattern \\d{4} matches any four-digit number, while the pattern \\d{4,5} matches any four- or five-digit number."
      ]
    },
    {
      "cell_type": "markdown",
      "metadata": {
        "id": "mq6At754t7rj"
      },
      "source": [
        "### 12. What do you mean by the \\d, \\w, and \\s shorthand character classes signify in regular expressions?"
      ]
    },
    {
      "cell_type": "markdown",
      "metadata": {
        "id": "R2VQ30Eet7rj"
      },
      "source": [
        "  The \\d, \\w, and \\s are shorthand character classes that signify common sets of characters in regular expressions. Regular expressions are a way of matching text patterns using a special syntax. In Python, the re module provides regular expression support  .\n",
        "\n",
        "  The \\d class matches any decimal digit, equivalent to [0-9]. For example, re.search(\"\\d+\", \"abc123def\") will find the substring \"123\" as a match .\n",
        "\n",
        "  The \\w class matches any alphanumeric character, equivalent to [a-zA-Z0-9_]. For example, re.search(\"\\w+\", \"hello_world\") will find the substring \"hello_world\" as a match .\n",
        "\n",
        "The \\s class matches any whitespace character, equivalent to [ \\\\t\\\\n\\\\r\\\\f\\\\v]. For example, re.search(\"\\s+\", \"foo bar baz\") will find the substring \" \" (a single space) as a match .\n",
        "\n",
        "Here is some example code that uses these shorthand character classes:\n",
        "\n",
        "        import re\n",
        "\n",
        "        text = \"The date is 17/03/2023 and the time is 07:28:10\"\n",
        "\n",
        "        # Find all digits in the text\n",
        "        digits = re.findall(\"\\d\", text)\n",
        "        print(digits) # ['1', '7', '0', '3', '2', '0', '2', '3', '0', '7', '2', '8', '1', '0']\n",
        "\n",
        "        # Find all words in the text\n",
        "        words = re.findall(\"\\w+\", text)\n",
        "        print(words) # ['The', 'date', 'is', '17', '03', '2023', 'and', 'the', 'time', 'is' ,'07' ,'28' ,'10']\n",
        "\n",
        "        # Find all whitespace in the text\n",
        "        whitespace = re.findall(\"\\s\", text)\n",
        "        print(whitespace) # [' ', ' ', ' ', '/', '/', ' ']"
      ]
    },
    {
      "cell_type": "markdown",
      "metadata": {
        "id": "_DvWw_x5t7rj"
      },
      "source": [
        "### 13. What do you mean by \\D, \\W, and \\S shorthand character classes signify in regular expressions?\n"
      ]
    },
    {
      "cell_type": "markdown",
      "metadata": {
        "id": "KW8ysNKIt7rk"
      },
      "source": [
        "  The \\D, \\W, and \\S shorthand character classes signify in regular expressions in Python that they match any character that is not a digit, not a word character, and not a whitespace character respectively . For example:\n",
        "\n",
        "        import re\n",
        "        text = \"Hello! I'm 25 years old.\"\n",
        "        print(re.findall(\"\\D+\", text)) # ['Hello! I\\'m ', ' years old.']\n",
        "        print(re.findall(\"\\W+\", text)) # ['!', ' ', \"'\", ' ', '.']\n",
        "        print(re.findall(\"\\S+\", text)) # ['Hello', 'I', 'm', '25', 'years', 'old']\n",
        "\n",
        "  These shorthand character classes can also be used inside square brackets to create custom character classes . For example:\n",
        "\n",
        "    print(re.findall(\"[\\d\\w\\s]+\", text)) # ['Hello! I\\'m 25 years old.']"
      ]
    },
    {
      "cell_type": "markdown",
      "metadata": {
        "id": "Mu99Pdtgt7rk"
      },
      "source": [
        "### 14. What is the difference between .*? and .*?"
      ]
    },
    {
      "cell_type": "markdown",
      "metadata": {
        "id": "guOzNUYWt7rk"
      },
      "source": [
        "  In regex (regular expressions) in Python, `.*?` and `.*` are both quantifiers that match any character zero or more times. The difference is that `.*?` is **lazy** and `.*` is **greedy**. This means that `.*?` will match the shortest possible string that satisfies the pattern, while `.*` will match the longest possible string that satisfies the pattern. For example, given the string `\"ababab\"`, the regex `\"a.*b\"` will match the whole string, while the regex `\"a.*?b\"` will match only `\"ab\"`. Here is some code to illustrate this:\n",
        "        \n",
        "        import re\n",
        "        s = \"ababab\"\n",
        "        p1 = \"a.*b\"\n",
        "        p2 = \"a.*?b\"\n",
        "\n",
        "        m1 = re.search(p1,s)\n",
        "        m2 = re.search(p2,s)\n",
        "\n",
        "        print(m1.group()) # prints ababab\n",
        "        print(m2.group()) # prints ab\n"
      ]
    },
    {
      "cell_type": "markdown",
      "metadata": {
        "id": "H1POvX_nt7rk"
      },
      "source": [
        "### 15. What is the syntax for matching both numbers and lowercase letters with a character class?\n"
      ]
    },
    {
      "cell_type": "markdown",
      "metadata": {
        "id": "rp56Mozbt7rk"
      },
      "source": [
        "   A character class is a way of specifying a set of characters that can match a single character in a regular expression. In Python, the syntax for matching both numbers and lowercase letters with a character class is [0-9a-z]. This means that any digit from 0 to 9 or any lowercase letter from a to z can be matched. For example, the following code uses the re module to find all matches of [0-9a-z] in a string:\n",
        "\n",
        "    import re\n",
        "    s = \"Hello123world\"\n",
        "    matches = re.findall(\"[0-9a-z]\", s)\n",
        "    print(matches) # ['e', 'l', 'l', 'o', '1', '2', '3', 'w', 'o', 'r', 'l', 'd']"
      ]
    },
    {
      "cell_type": "markdown",
      "metadata": {
        "id": "2YXSw3yPt7rl"
      },
      "source": [
        "### 16. What is the procedure for making a normal expression in regex case insensitive?\n"
      ]
    },
    {
      "cell_type": "markdown",
      "metadata": {
        "id": "D1bJKiZwt7rl"
      },
      "source": [
        "  One way to make a regular expression case insensitive in Python is to use the re.IGNORECASE flag when calling re.search(), re.match(), re.sub() or other functions from the re module . This flag allows for matching both uppercase and lowercase letters in the pattern. For example, the following code will replace all occurrences of 'best' with 'good' in a string, regardless of their case:\n",
        "\n",
        "    import re\n",
        "    test_str = \"gfg is BeSt\"\n",
        "    repl = \"good\"\n",
        "    subs = \"best\"\n",
        "    result = re.sub(subs, repl, test_str, re.IGNORECASE)\n",
        "    print(result) # gfg is good"
      ]
    },
    {
      "cell_type": "markdown",
      "metadata": {
        "id": "sTaBic-tt7rl"
      },
      "source": [
        "### 17. What does the . character normally match? What does it match if re.DOTALL is passed as 2nd argument in re.compile()?"
      ]
    },
    {
      "cell_type": "markdown",
      "metadata": {
        "id": "YgPAWHUut7rl"
      },
      "source": [
        "  The . character normally matches any character except the newline character (\\n) in Python regular expressions. However, if re.DOTALL is passed as a second argument in re.compile(), it changes the behavior of . to match any character including newline. For example:\n",
        "\n",
        "    import re\n",
        "    text = \"Hello\\nWorld\"\n",
        "    pattern = re.compile(\".+\")\n",
        "    match = pattern.search(text)\n",
        "    print(match.group()) # prints Hello\n",
        "\n",
        "    pattern = re.compile(\".+\", re.DOTALL)\n",
        "    match = pattern.search(text)\n",
        "    print(match.group()) # prints Hello\\nWorld"
      ]
    },
    {
      "cell_type": "markdown",
      "metadata": {
        "id": "E3wqM0K-t7rl"
      },
      "source": [
        "### 18. If numReg = re.compile(r'\\d+'), what will numRegex.sub('X', '11 drummers, 10 pipers, five   rings, 4  hen') return?\n"
      ]
    },
    {
      "cell_type": "markdown",
      "metadata": {
        "id": "AbP1sCFDt7rm"
      },
      "source": [
        "  The code `numRegex = re.compile(r'\\d+')` creates a regular expression object that matches one or more digits in a string. The method `numRegex.sub('X', '11 drummers, 10 pipers, five rings, 4 hen')` replaces all the matches with the character 'X' and returns the modified string. For example:\n",
        "\n",
        "\n",
        "    import re\n",
        "    numRegex = re.compile(r'\\d+')\n",
        "    print(numRegex.sub('X', '11 drummers, 10 pipers, five rings, 4 hen'))\n",
        "    ```\n",
        "    \n",
        "    The output of this code is:\n",
        "    \n",
        "    ```\n",
        "    X drummers, X pipers, five rings, X hen\n",
        "    ```\n",
        "    ```"
      ]
    },
    {
      "cell_type": "markdown",
      "metadata": {
        "id": "ocXAVzG8t7rm"
      },
      "source": [
        "### 19. What does passing re.VERBOSE as the 2nd argument to re.compile() allow to do?"
      ]
    },
    {
      "cell_type": "markdown",
      "metadata": {
        "id": "gHFM6f4it7rm"
      },
      "source": [
        "Passing re.VERBOSE as the 2nd argument to re.compile() allows to write regular expressions that are more readable and easier to maintain in Python. It enables the use of whitespace and comments within the pattern string. For example:\n",
        "\n",
        "    # A regex to match a phone number in the format xxx-xxx-xxxx\n",
        "    phone_regex = re.compile(r\"\"\"\n",
        "        \\d{3}    # area code\n",
        "        -        # separator\n",
        "        \\d{3}    # first 3 digits\n",
        "        -        # separator\n",
        "        \\d{4}    # last 4 digits\n",
        "    \"\"\", re.VERBOSE)\n",
        "    \n",
        "    # This is equivalent to:\n",
        "    phone_regex = re.compile(r\"\\d{3}-\\d{3}-\\d{4}\")"
      ]
    },
    {
      "cell_type": "markdown",
      "metadata": {
        "id": "cbaLmcoqt7rm"
      },
      "source": [
        "### 20. How would you write a regex that match a number with comma for every three digits? It must match the given following:\n",
        "### '42'\n",
        "### '1,234'\n",
        "### '6,368,745'\n",
        "### but not the following:\n",
        "### '12,34,567' (which has only two digits between the commas)\n",
        "### '1234' (which lacks commas)\n"
      ]
    },
    {
      "cell_type": "markdown",
      "metadata": {
        "id": "J9OOBNf5t7rm"
      },
      "source": []
    },
    {
      "cell_type": "code",
      "execution_count": null,
      "metadata": {
        "id": "fXfP57SIt7rn",
        "outputId": "a935273f-f6d9-456e-ac75-6cf776862c28"
      },
      "outputs": [
        {
          "name": "stdout",
          "output_type": "stream",
          "text": [
            "42 is a valid number.\n",
            "1,234 is a valid number.\n",
            "6,368,745 is a valid number.\n",
            "12,34,567 is not a valid number.\n",
            "1234 is not a valid number.\n"
          ]
        }
      ],
      "source": [
        "\n",
        "# A regex that matches a number with commas for every three digits is:\n",
        "\n",
        "import re\n",
        "\n",
        "pattern = r\"^\\d{1,3}(,\\d{3})*$\"\n",
        "\n",
        "# This regex means: start with one to three digits, followed by zero or more groups of a comma and three digits, and end with nothing else.\n",
        "\n",
        "# Example:\n",
        "\n",
        "test_cases = [\"42\", \"1,234\", \"6,368,745\", \"12,34,567\", \"1234\"]\n",
        "\n",
        "for case in test_cases:\n",
        "    if re.match(pattern, case):\n",
        "        print(case + \" is a valid number.\")\n",
        "    else:\n",
        "        print(case + \" is not a valid number.\")\n",
        "\n",
        "# Output:\n",
        "\n",
        "# 42 is a valid number.\n",
        "# 1,234 is a valid number.\n",
        "# 6,368,745 is a valid number.\n",
        "# 12,34,567 is not a valid number.\n",
        "# 1234 is not a valid number."
      ]
    },
    {
      "cell_type": "markdown",
      "metadata": {
        "id": "vN84vSqmt7ro"
      },
      "source": [
        "### 21. How would you write a regex that matches the full name of someone whose last name is Watanabe? You can assume that the first name that comes before it will always be one word that begins with a capital letter. The regex must match the following:\n",
        "##### 'Haruto Watanabe'\n",
        "##### 'Alice Watanabe'\n",
        "##### 'RoboCop Watanabe'\n",
        "### but not the following:\n",
        "##### 'haruto Watanabe' (where the first name is not capitalized)\n",
        "##### 'Mr. Watanabe' (where the preceding word has a nonletter character)\n",
        "##### 'Watanabe' (which has no first name)\n",
        "##### 'Haruto watanabe' (where Watanabe is not capitalized)\n"
      ]
    },
    {
      "cell_type": "markdown",
      "metadata": {
        "id": "bfs0H4yht7ro"
      },
      "source": [
        "    To write a regex that matches the full name of someone whose last name is Watanabe, we can use the following pattern:\n",
        "\n",
        "    `^[A-Z][a-z]*\\sWatanabe$`\n",
        "\n",
        "    This pattern means:\n",
        "\n",
        "    - Start with a capital letter (`^[A-Z]`)\n",
        "    - Followed by zero or more lowercase letters (`[a-z]*`)\n",
        "    - Followed by a space (`\\s`)\n",
        "    - Followed by Watanabe (`Watanabe`)\n",
        "    - End of the string (`$`)\n",
        "\n",
        "    To use this regex in Python, we can import the re module and use the re.match function to check if a string matches the pattern. For example:"
      ]
    },
    {
      "cell_type": "code",
      "execution_count": null,
      "metadata": {
        "id": "F4-e3woQt7ro",
        "outputId": "19e3caea-d601-4d97-e2e9-4a8d39b08bca"
      },
      "outputs": [
        {
          "name": "stdout",
          "output_type": "stream",
          "text": [
            "<re.Match object; span=(0, 15), match='Haruto Watanabe'>\n",
            "<re.Match object; span=(0, 14), match='Alice Watanabe'>\n",
            "None\n",
            "None\n",
            "None\n",
            "None\n",
            "None\n"
          ]
        }
      ],
      "source": [
        "import re\n",
        "\n",
        "pattern = r\"^[A-Z][a-z]*\\sWatanabe$\"\n",
        "\n",
        "print(re.match(pattern, \"Haruto Watanabe\")) # match object\n",
        "print(re.match(pattern, \"Alice Watanabe\")) # match object\n",
        "print(re.match(pattern, \"RoboCop Watanabe\")) # match object\n",
        "print(re.match(pattern, \"haruto Watanabe\")) # None\n",
        "print(re.match(pattern, \"Mr. Watanabe\")) # None\n",
        "print(re.match(pattern, \"Watanabe\")) # None\n",
        "print(re.match(pattern, \"Haruto watanabe\")) # None\n"
      ]
    },
    {
      "cell_type": "markdown",
      "metadata": {
        "id": "u8FZTgcKt7rp"
      },
      "source": [
        "### 22. How would you write a regex that matches a sentence where the first word is either Alice, Bob, or Carol; the second word is either eats, pets, or throws; the third word is apples, cats, or baseballs; and the sentence ends with a period? This regex should be case-insensitive. It must match the following:\n",
        "##### 'Alice eats apples.'\n",
        "##### 'Bob pets cats.'\n",
        "##### 'Carol throws baseballs.'\n",
        "##### 'Alice throws Apples.'\n",
        "##### 'BOB EATS CATS.'\n",
        "##### but not the following:\n",
        "##### 'RoboCop eats apples.'\n",
        "##### 'ALICE THROWS FOOTBALLS.'\n",
        "##### 'Carol eats 7 cats.'\n"
      ]
    },
    {
      "cell_type": "code",
      "execution_count": null,
      "metadata": {
        "id": "g9LG_rmjt7rp",
        "outputId": "af28581e-7d6c-46ad-9fd0-09c89f1992f0"
      },
      "outputs": [
        {
          "name": "stdout",
          "output_type": "stream",
          "text": [
            "'Alice eats apples.' matches the pattern\n",
            "'Bob pets cats.' matches the pattern\n",
            "'Carol throws baseballs.' matches the pattern\n",
            "'Alice throws Apples.' matches the pattern\n",
            "'BOB EATS CATS.' matches the pattern\n",
            "'RoboCop eats apples.' does not match the pattern\n",
            "'ALICE THROWS FOOTBALLS.' does not match the pattern\n",
            "'Carol eats 7 cats.' does not match the pattern\n"
          ]
        }
      ],
      "source": [
        "import re\n",
        "\n",
        "pattern = r'^(Alice|Bob|Carol)\\s+(eats|pets|throws)\\s+(apples|cats|baseballs)\\.$'\n",
        "\"\"\"\n",
        "^ - This symbol indicates the start of a line. \n",
        "The regular expression will only match if the pattern appears at the beginning of a line.\n",
        "\n",
        "(Alice|Bob|Carol) - This is a group that matches either “Alice”, “Bob” or “Carol”. \n",
        "The vertical bar | is used to separate different options within a group.\n",
        "\n",
        "\\s+ - This matches one or more whitespace characters. \n",
        "In this case, it is used to match the space between words in the sentence.\n",
        "\n",
        "(eats|pets|throws) - This is another group that matches either “eats”, “pets” or “throws”.\n",
        "\n",
        "(apples|cats|baseballs) - This is yet another group that matches either “apples”, “cats” or “baseballs”.\n",
        "\n",
        "\\. - This matches a period character. \n",
        "Since period has a special meaning in regular expressions (it matches any character), it needs to be escaped with a backslash to match a literal period.\n",
        "\n",
        "$ - This symbol indicates the end of a line. \n",
        "The regular expression will only match if the pattern appears at the end of a line.\n",
        "\n",
        "\"\"\"\n",
        "regex = re.compile(pattern, re.IGNORECASE)\n",
        "\n",
        "test_strings = [\n",
        "    'Alice eats apples.',\n",
        "    'Bob pets cats.',\n",
        "    'Carol throws baseballs.',\n",
        "    'Alice throws Apples.',\n",
        "    'BOB EATS CATS.',\n",
        "    'RoboCop eats apples.',\n",
        "    'ALICE THROWS FOOTBALLS.',\n",
        "    'Carol eats 7 cats.'\n",
        "]\n",
        "\n",
        "for string in test_strings:\n",
        "    if regex.match(string):\n",
        "        print(f\"'{string}' matches the pattern\")\n",
        "    else:\n",
        "        print(f\"'{string}' does not match the pattern\")\n",
        "\n",
        "\n"
      ]
    },
    {
      "cell_type": "code",
      "execution_count": null,
      "metadata": {
        "id": "GWPJ-Dkgt7rp"
      },
      "outputs": [],
      "source": []
    }
  ],
  "metadata": {
    "kernelspec": {
      "display_name": "Python 3",
      "language": "python",
      "name": "python3"
    },
    "language_info": {
      "codemirror_mode": {
        "name": "ipython",
        "version": 3
      },
      "file_extension": ".py",
      "mimetype": "text/x-python",
      "name": "python",
      "nbconvert_exporter": "python",
      "pygments_lexer": "ipython3",
      "version": "3.10.9"
    },
    "orig_nbformat": 4,
    "colab": {
      "provenance": [],
      "include_colab_link": true
    }
  },
  "nbformat": 4,
  "nbformat_minor": 0
}