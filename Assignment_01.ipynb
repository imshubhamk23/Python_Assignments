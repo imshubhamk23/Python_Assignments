{
  "nbformat": 4,
  "nbformat_minor": 0,
  "metadata": {
    "colab": {
      "provenance": [],
      "collapsed_sections": [],
      "authorship_tag": "ABX9TyPtjLyN57Ab7ObZWDWtlX5b",
      "include_colab_link": true
    },
    "kernelspec": {
      "name": "python3",
      "display_name": "Python 3"
    },
    "language_info": {
      "name": "python"
    }
  },
  "cells": [
    {
      "cell_type": "markdown",
      "metadata": {
        "id": "view-in-github",
        "colab_type": "text"
      },
      "source": [
        "<a href=\"https://colab.research.google.com/github/imshubhamk23/Python_Assignments/blob/main/Assignment_1.ipynb\" target=\"_parent\"><img src=\"https://colab.research.google.com/assets/colab-badge.svg\" alt=\"Open In Colab\"/></a>"
      ]
    },
    {
      "cell_type": "markdown",
      "source": [
        "#1. In the below elements which of them are values or an expression? eg:- values can be\n",
        "integer or string and expressions will be mathematical operators.\n",
        "\n",
        "element | name\n",
        "-|-\n",
        " * | expression \n",
        "hello| value \n",
        "-87.8 | value\n",
        "-| expression\n",
        "/| expression\n",
        "+| expression\n",
        "6| value"
      ],
      "metadata": {
        "id": "WTFAjcKuBnbh"
      }
    },
    {
      "cell_type": "markdown",
      "source": [
        "#2. What is the difference between string and variable?\n",
        "\n",
        "Variable | String\n",
        "-|-\n",
        "it is Where information can be stored| It is the information which can be stored in a variable\n",
        "It can hold a string | It cannot hold a variable\n",
        "It can store any data type | It is a data type\n",
        "eg:- a = 4 where, a is variable | eg:- a = \"hello\" where, hello is a string"
      ],
      "metadata": {
        "id": "HgyIuiHSDL8Q"
      }
    },
    {
      "cell_type": "markdown",
      "source": [
        "#3. Describe three different data types.\n",
        "\n",
        "1) Numeric - It is a data type which represents numbers or numeric value. It can be float which has decimal numbers or int which represents whole numbers and complex for complex numbers. Eg - 0.25 is a float, 25 is a int, 25+3j is complex number.\n",
        "\n",
        "2) Boolean - It is a type of data with values of True or False. They should be written with a capital 'T' and capital 'F' otherwise python will show error.\n",
        "\n",
        "3) Sequential - It is the ordered collection of similar data types. It includes string, list and tuple.\n",
        "\n",
        "string - It is represented as 'str'. It is a collection of characters within single or double quotes. eg- name = \"Shubham\" where, Shubham is string.\n",
        "\n",
        "list - It is a ordered collection of data. In python list is created with square brackets. Lists are mutable i.e it's lements can be modified. e.g- a = [\"bat\", \"ball]\n",
        "\n",
        "tuple - It is also ordered collection of data but unlike lists it's content cannot be modified after creating it i.e tupes are immutable. They are created using parenthesis. eg- a = (2,4,6)\n",
        "\n"
      ],
      "metadata": {
        "id": "L__HiXJ2FbYf"
      }
    },
    {
      "cell_type": "markdown",
      "source": [
        "#4. What is an expression made up of? What do all expressions do?\n",
        "Expressions are combinations operators and operands.  \n",
        "Expressions are used to interpret them and produce a value. Different expressions are formed by combining mathematical operators like given below:-\n",
        "\n",
        "operators | syntax | function\n",
        "-|-|-\n",
        "+|a+b|addition\n",
        "-|a-b|substraction\n",
        "*|a*b|multiplication\n",
        "/|a/b|division\n",
        "//|a//b|quotient\n",
        "%|a%b|remainder\n",
        "**|a**|power or exponentiation\n"
      ],
      "metadata": {
        "id": "N5cG5okbJDDc"
      }
    },
    {
      "cell_type": "markdown",
      "source": [
        "#5. This assignment statements, like spam = 10. What is the difference between an expression and a statement?\n",
        "\n",
        "Expression evaluates to a values whereas a statement gives a command or action or executes something. \n",
        "Here spam = 10 is not a expression but a statement because here no value creation or an interpretation between operand and operator is happenig. However, we see that it is signifying the value of the variable spam as 10. There are no calculations in it. \n",
        "\n"
      ],
      "metadata": {
        "id": "Eo9QcFluNsub"
      }
    },
    {
      "cell_type": "markdown",
      "source": [
        "#6. After running the following code, what does the variable bacon contain?\n",
        "bacon = 22\n",
        "bacon + 1\n",
        "\n",
        "The variable bacon will contain 23 as  its value is increased by 1 in second line of code. Here we are using addition expression."
      ],
      "metadata": {
        "id": "DPSdsV9_Or87"
      }
    },
    {
      "cell_type": "code",
      "source": [
        "bacon = 22\n",
        "bacon + 1\n"
      ],
      "metadata": {
        "colab": {
          "base_uri": "https://localhost:8080/"
        },
        "id": "olp01gYeOuoS",
        "outputId": "1dec5039-c007-4525-c608-17c4ab0fa4f0"
      },
      "execution_count": 6,
      "outputs": [
        {
          "output_type": "execute_result",
          "data": {
            "text/plain": [
              "23"
            ]
          },
          "metadata": {},
          "execution_count": 6
        }
      ]
    },
    {
      "cell_type": "markdown",
      "source": [
        "#7. What should the values of the following two terms be?\n",
        "'spam' + 'spamspam'\n",
        "'spam'* 3"
      ],
      "metadata": {
        "id": "Ksw7DCOMPCWJ"
      }
    },
    {
      "cell_type": "code",
      "source": [
        "'spam' + 'spamspam'\n",
        "'spam'* 3"
      ],
      "metadata": {
        "colab": {
          "base_uri": "https://localhost:8080/",
          "height": 35
        },
        "id": "WFB4dIXkPTfy",
        "outputId": "d8a366f4-2ec1-4c0b-a89b-c4af07a0ad53"
      },
      "execution_count": 7,
      "outputs": [
        {
          "output_type": "execute_result",
          "data": {
            "text/plain": [
              "'spamspamspam'"
            ],
            "application/vnd.google.colaboratory.intrinsic+json": {
              "type": "string"
            }
          },
          "metadata": {},
          "execution_count": 7
        }
      ]
    },
    {
      "cell_type": "markdown",
      "source": [
        "#8. Why is eggs a valid variable name while 100 is invalid?\n",
        "\n",
        "As per python rules a variable name should start with an alphabet and may contain numbers after alphabets. A vriable name cannot start with number or may only contain numbers in python. It also cannot include any spaces."
      ],
      "metadata": {
        "id": "j7gKD8pcPgC5"
      }
    },
    {
      "cell_type": "markdown",
      "source": [
        "#9. What three functions can be used to get the integer, floating-point number, or string version of a value?\n",
        "\n",
        "The three functions that can be used are int for integer, float for floating-point number and str for string version of a value?"
      ],
      "metadata": {
        "id": "g0g0PMwtP53o"
      }
    },
    {
      "cell_type": "markdown",
      "source": [
        "#10. Why does this expression cause an error? How can you fix it?\n",
        "'I have eaten' + 99 + 'burritos'\n",
        "\n",
        "This causes error because we are trying to perform mathematical operation on string which is not allowed. We can use '+' operator to concenate strings and therefore we have to conver 99 to string by putting it in single or double quotes.\n",
        "\n",
        "'I have eaten' + ' 99 ' + 'burritos'\n"
      ],
      "metadata": {
        "id": "SIOTgnDUQRFA"
      }
    },
    {
      "cell_type": "code",
      "source": [
        "'I have eaten' + ' 99 ' + 'burritos'\n"
      ],
      "metadata": {
        "colab": {
          "base_uri": "https://localhost:8080/",
          "height": 35
        },
        "id": "Ur8suA_WQcUA",
        "outputId": "804eb4b5-a979-4b4f-ad54-6b41b73926b2"
      },
      "execution_count": 10,
      "outputs": [
        {
          "output_type": "execute_result",
          "data": {
            "text/plain": [
              "'I have eaten 99 burritos'"
            ],
            "application/vnd.google.colaboratory.intrinsic+json": {
              "type": "string"
            }
          },
          "metadata": {},
          "execution_count": 10
        }
      ]
    }
  ]
}
