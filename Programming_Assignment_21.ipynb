{
  "cells": [
    {
      "cell_type": "markdown",
      "metadata": {
        "id": "view-in-github",
        "colab_type": "text"
      },
      "source": [
        "<a href=\"https://colab.research.google.com/github/imshubhamk23/Python_Assignments/blob/main/Programming_Assignment_21.ipynb\" target=\"_parent\"><img src=\"https://colab.research.google.com/assets/colab-badge.svg\" alt=\"Open In Colab\"/></a>"
      ]
    },
    {
      "cell_type": "markdown",
      "id": "faefb217",
      "metadata": {
        "id": "faefb217"
      },
      "source": [
        "Question1\n",
        "\n",
        "Write a function that takes a list and a number as arguments. Add the number to the end of the list, then remove the first element of the list. The function should then return the updated list.\n",
        "\n",
        "    Examples\n",
        "    next_in_line([5, 6, 7, 8, 9], 1) ➞ [6, 7, 8, 9, 1]\n",
        "    \n",
        "    next_in_line([7, 6, 3, 23, 17], 10) ➞ [6, 3, 23, 17, 10]\n",
        "    \n",
        "    next_in_line([1, 10, 20, 42 ], 6) ➞ [10, 20, 42, 6]\n",
        "    \n",
        "    next_in_line([], 6) ➞ \"No list has been selected\"\n"
      ]
    },
    {
      "cell_type": "code",
      "execution_count": null,
      "id": "4405e965",
      "metadata": {
        "id": "4405e965"
      },
      "outputs": [],
      "source": [
        "def next_in_line(lst,num):\n",
        "    if lst == []:\n",
        "        return \"No list has be selected\"\n",
        "    else:\n",
        "        new_lst = [i for i in lst] + [num]\n",
        "    return new_lst[1:]"
      ]
    },
    {
      "cell_type": "code",
      "execution_count": null,
      "id": "2e67e5ac",
      "metadata": {
        "id": "2e67e5ac",
        "outputId": "aaf2941d-9b3a-4bce-f26d-8baf59a23d46"
      },
      "outputs": [
        {
          "data": {
            "text/plain": [
              "[6, 7, 8, 9, 1]"
            ]
          },
          "execution_count": 11,
          "metadata": {},
          "output_type": "execute_result"
        }
      ],
      "source": [
        "next_in_line([5, 6, 7, 8, 9], 1)"
      ]
    },
    {
      "cell_type": "code",
      "execution_count": null,
      "id": "23d78414",
      "metadata": {
        "id": "23d78414",
        "outputId": "aa028194-d9b6-4bdb-a7b2-b6833818d05d"
      },
      "outputs": [
        {
          "data": {
            "text/plain": [
              "[6, 3, 23, 17, 10]"
            ]
          },
          "execution_count": 12,
          "metadata": {},
          "output_type": "execute_result"
        }
      ],
      "source": [
        "next_in_line([7, 6, 3, 23, 17], 10)"
      ]
    },
    {
      "cell_type": "code",
      "execution_count": null,
      "id": "0021cc81",
      "metadata": {
        "id": "0021cc81",
        "outputId": "5d92ba42-5f3e-48f1-d3a1-eb0d5c544d69"
      },
      "outputs": [
        {
          "data": {
            "text/plain": [
              "[10, 20, 42, 6]"
            ]
          },
          "execution_count": 13,
          "metadata": {},
          "output_type": "execute_result"
        }
      ],
      "source": [
        "next_in_line([1, 10, 20, 42 ], 6)"
      ]
    },
    {
      "cell_type": "code",
      "execution_count": null,
      "id": "bd558aa8",
      "metadata": {
        "id": "bd558aa8",
        "outputId": "0d63f89b-d779-4862-bb6a-85140108ea9b"
      },
      "outputs": [
        {
          "data": {
            "text/plain": [
              "'No list has be selected'"
            ]
          },
          "execution_count": 14,
          "metadata": {},
          "output_type": "execute_result"
        }
      ],
      "source": [
        "next_in_line([], 6)"
      ]
    },
    {
      "cell_type": "markdown",
      "id": "bbedfcd7",
      "metadata": {
        "id": "bbedfcd7"
      },
      "source": [
        "Question2\n",
        "\n",
        "Create the function that takes a list of dictionaries and returns the sum of people's budgets.\n",
        "\n",
        "    Examples\n",
        "    get_budgets([\n",
        "      { \"name\": \"John\", \"age\": 21, \"budget\": 23000 },\n",
        "      { \"name\": \"Steve\",  \"age\": 32, \"budget\": 40000 },\n",
        "      { \"name\": \"Martin\",  \"age\": 16, \"budget\": 2700 }\n",
        "    ]) ➞ 65700\n",
        "    \n",
        "    get_budgets([\n",
        "      { \"name\": \"John\",  \"age\": 21, \"budget\": 29000 },\n",
        "      { \"name\": \"Steve\",  \"age\": 32, \"budget\": 32000 },\n",
        "      { \"name\": \"Martin\",  \"age\": 16, \"budget\": 1600 }\n",
        "    ]) ➞ 62600\n"
      ]
    },
    {
      "cell_type": "code",
      "execution_count": null,
      "id": "b72c5e07",
      "metadata": {
        "id": "b72c5e07"
      },
      "outputs": [],
      "source": [
        "def get_budgets(lst):\n",
        "    add = 0\n",
        "    for i in range(len(lst)):\n",
        "        budget = lst[i]\n",
        "        add += budget.get(\"budget\")\n",
        "    return add"
      ]
    },
    {
      "cell_type": "code",
      "execution_count": null,
      "id": "3bad0283",
      "metadata": {
        "id": "3bad0283",
        "outputId": "d83f0570-dcda-4928-8e45-9ff861b2761b"
      },
      "outputs": [
        {
          "data": {
            "text/plain": [
              "65700"
            ]
          },
          "execution_count": 34,
          "metadata": {},
          "output_type": "execute_result"
        }
      ],
      "source": [
        "get_budgets([\n",
        "  { \"name\": \"John\", \"age\": 21, \"budget\": 23000 },\n",
        "  { \"name\": \"Steve\",  \"age\": 32, \"budget\": 40000 },\n",
        "  { \"name\": \"Martin\",  \"age\": 16, \"budget\": 2700 }\n",
        "])"
      ]
    },
    {
      "cell_type": "code",
      "execution_count": null,
      "id": "47059e3b",
      "metadata": {
        "id": "47059e3b",
        "outputId": "30e2e25b-19c5-4839-d344-3620e9911e29"
      },
      "outputs": [
        {
          "data": {
            "text/plain": [
              "62600"
            ]
          },
          "execution_count": 35,
          "metadata": {},
          "output_type": "execute_result"
        }
      ],
      "source": [
        "get_budgets([\n",
        "  { \"name\": \"John\",  \"age\": 21, \"budget\": 29000 },\n",
        "  { \"name\": \"Steve\",  \"age\": 32, \"budget\": 32000 },\n",
        "  { \"name\": \"Martin\",  \"age\": 16, \"budget\": 1600 }\n",
        "])"
      ]
    },
    {
      "cell_type": "markdown",
      "id": "1d63ea33",
      "metadata": {
        "id": "1d63ea33"
      },
      "source": [
        "Question3\n",
        "\n",
        "Create a function that takes a string and returns a string with its letters in alphabetical order.\n",
        "\n",
        "    Examples\n",
        "    alphabet_soup(\"hello\") ➞ \"ehllo\"\n",
        "    \n",
        "    alphabet_soup(\"edabit\") ➞ \"abdeit\"\n",
        "    \n",
        "    alphabet_soup(\"hacker\") ➞ \"acehkr\"\n",
        "    \n",
        "    alphabet_soup(\"geek\") ➞ \"eegk\"\n",
        "    \n",
        "    alphabet_soup(\"javascript\") ➞ \"aacijprstv\""
      ]
    },
    {
      "cell_type": "code",
      "execution_count": null,
      "id": "ef6a8a03",
      "metadata": {
        "id": "ef6a8a03"
      },
      "outputs": [],
      "source": [
        "def alphabet_soup(string):\n",
        "    alpha = [string[i] for i in range(len(string))]\n",
        "    alpha.sort(reverse = False)\n",
        "    return \"\".join(alpha)"
      ]
    },
    {
      "cell_type": "code",
      "execution_count": null,
      "id": "e89a956f",
      "metadata": {
        "id": "e89a956f",
        "outputId": "5ebec199-8305-4c04-ccd1-b0b2819f7c82"
      },
      "outputs": [
        {
          "data": {
            "text/plain": [
              "'ehllo'"
            ]
          },
          "execution_count": 40,
          "metadata": {},
          "output_type": "execute_result"
        }
      ],
      "source": [
        "alphabet_soup(\"hello\")"
      ]
    },
    {
      "cell_type": "code",
      "execution_count": null,
      "id": "a0681f13",
      "metadata": {
        "id": "a0681f13",
        "outputId": "9679623e-0630-4d66-b7cf-d6eb0c4bd094"
      },
      "outputs": [
        {
          "data": {
            "text/plain": [
              "'abdeit'"
            ]
          },
          "execution_count": 41,
          "metadata": {},
          "output_type": "execute_result"
        }
      ],
      "source": [
        "alphabet_soup(\"edabit\")"
      ]
    },
    {
      "cell_type": "code",
      "execution_count": null,
      "id": "8240bdbf",
      "metadata": {
        "id": "8240bdbf",
        "outputId": "d648c0c4-018e-4c37-eb1a-29e4aa81e8c8"
      },
      "outputs": [
        {
          "data": {
            "text/plain": [
              "'acehkr'"
            ]
          },
          "execution_count": 42,
          "metadata": {},
          "output_type": "execute_result"
        }
      ],
      "source": [
        "alphabet_soup(\"hacker\")"
      ]
    },
    {
      "cell_type": "code",
      "execution_count": null,
      "id": "93458d8c",
      "metadata": {
        "id": "93458d8c",
        "outputId": "f3ca27b0-dd28-4823-fa47-7fe5dc2087cf"
      },
      "outputs": [
        {
          "data": {
            "text/plain": [
              "'acehkr'"
            ]
          },
          "execution_count": 43,
          "metadata": {},
          "output_type": "execute_result"
        }
      ],
      "source": [
        "alphabet_soup(\"hacker\")"
      ]
    },
    {
      "cell_type": "code",
      "execution_count": null,
      "id": "28601d0d",
      "metadata": {
        "id": "28601d0d",
        "outputId": "a331e2ca-77dc-42f1-cd8c-2263e16586d0"
      },
      "outputs": [
        {
          "data": {
            "text/plain": [
              "'eegk'"
            ]
          },
          "execution_count": 44,
          "metadata": {},
          "output_type": "execute_result"
        }
      ],
      "source": [
        "alphabet_soup(\"geek\")"
      ]
    },
    {
      "cell_type": "code",
      "execution_count": null,
      "id": "81703ce7",
      "metadata": {
        "id": "81703ce7",
        "outputId": "ef464e73-bd20-4243-9ad2-c97d141e57e0"
      },
      "outputs": [
        {
          "data": {
            "text/plain": [
              "'aacijprstv'"
            ]
          },
          "execution_count": 45,
          "metadata": {},
          "output_type": "execute_result"
        }
      ],
      "source": [
        "alphabet_soup(\"javascript\")"
      ]
    },
    {
      "cell_type": "markdown",
      "id": "3b404707",
      "metadata": {
        "id": "3b404707"
      },
      "source": [
        "Question4\n",
        "\n",
        "Suppose that you invest $10,000 for 10 years at an interest rate of 6% compounded monthly.\n",
        "\n",
        "What will be the value of your investment at the end of the 10 year period?\n",
        "\n",
        "Create a function that accepts the principal p, the term in years t, the interest rate r, and the number of compounding periods per year n. \n",
        "\n",
        "The function returns the value at the end of term rounded to the nearest cent.\n",
        "\n",
        "For the example above:\n",
        "\n",
        "compound_interest(10000, 10, 0.06, 12) ➞ 18193.97\n",
        "\n",
        "Note that the interest rate is given as a decimal and n=12 because with monthly compounding there are 12 periods per year. Compounding can also be done annually, quarterly, weekly, or daily.\n",
        "\n",
        "     Examples\n",
        "     A = P (1 + r/n)^nt\n",
        "     compound_interest(100, 1, 0.05, 1) ➞ 105.0\n",
        "     \n",
        "     compound_interest(3500, 15, 0.1, 4) ➞ 15399.26\n",
        "     \n",
        "     compound_interest(100000, 20, 0.15, 365) ➞ 2007316.26\n"
      ]
    },
    {
      "cell_type": "code",
      "execution_count": null,
      "id": "5dc9cb93",
      "metadata": {
        "id": "5dc9cb93"
      },
      "outputs": [],
      "source": [
        "def compound_interest(P,t,r,n):\n",
        "    A = P * ((1 + r/n) ** (n *t))\n",
        "    return round(A,2)"
      ]
    },
    {
      "cell_type": "code",
      "execution_count": null,
      "id": "1e188cc4",
      "metadata": {
        "id": "1e188cc4",
        "outputId": "4d19fd3e-8071-410e-e3f2-74ee46a5fb75"
      },
      "outputs": [
        {
          "data": {
            "text/plain": [
              "105.0"
            ]
          },
          "execution_count": 52,
          "metadata": {},
          "output_type": "execute_result"
        }
      ],
      "source": [
        "compound_interest(100, 1, 0.05, 1)"
      ]
    },
    {
      "cell_type": "code",
      "execution_count": null,
      "id": "0ae4dbfc",
      "metadata": {
        "id": "0ae4dbfc",
        "outputId": "791ecc11-95ab-450f-de3d-2d5421534bea"
      },
      "outputs": [
        {
          "data": {
            "text/plain": [
              "15399.26"
            ]
          },
          "execution_count": 53,
          "metadata": {},
          "output_type": "execute_result"
        }
      ],
      "source": [
        "compound_interest(3500, 15, 0.1, 4)"
      ]
    },
    {
      "cell_type": "code",
      "execution_count": null,
      "id": "cf6f7234",
      "metadata": {
        "id": "cf6f7234",
        "outputId": "bd208dbb-ffd5-4934-d566-8620f8c4abf8"
      },
      "outputs": [
        {
          "data": {
            "text/plain": [
              "2007316.26"
            ]
          },
          "execution_count": 54,
          "metadata": {},
          "output_type": "execute_result"
        }
      ],
      "source": [
        "compound_interest(100000, 20, 0.15, 365)"
      ]
    },
    {
      "cell_type": "markdown",
      "id": "8736af97",
      "metadata": {
        "id": "8736af97"
      },
      "source": [
        "Question5\n",
        "\n",
        "Write a function that takes a list of elements and returns only the integers.\n",
        "\n",
        "    Examples\n",
        "    return_only_integer([9, 2, \"space\", \"car\", \"lion\", 16]) ➞ [9, 2, 16]\n",
        "    \n",
        "    return_only_integer([\"hello\", 81, \"basketball\", 123, \"fox\"]) ➞ [81, 123]\n",
        "    \n",
        "    return_only_integer([10, \"121\", 56, 20, \"car\", 3, \"lion\"]) ➞ [10, 56, 20, 3]\n",
        "    \n",
        "    return_only_integer([\"String\",  True,  3.3,  1]) ➞ [1]\n"
      ]
    },
    {
      "cell_type": "code",
      "execution_count": null,
      "id": "1901991f",
      "metadata": {
        "id": "1901991f"
      },
      "outputs": [],
      "source": [
        "def return_only_integer(lst):\n",
        "    new_lst = []\n",
        "    for i in lst:\n",
        "        if type(i) is int:\n",
        "            new_lst.append(i)\n",
        "    return new_lst"
      ]
    },
    {
      "cell_type": "code",
      "execution_count": null,
      "id": "92968e44",
      "metadata": {
        "id": "92968e44",
        "outputId": "33f692fe-0f29-465e-dbef-53d07206caa4"
      },
      "outputs": [
        {
          "data": {
            "text/plain": [
              "[9, 2, 16]"
            ]
          },
          "execution_count": 57,
          "metadata": {},
          "output_type": "execute_result"
        }
      ],
      "source": [
        "return_only_integer([9, 2, \"space\", \"car\", \"lion\", 16])"
      ]
    },
    {
      "cell_type": "code",
      "execution_count": null,
      "id": "f4e416fb",
      "metadata": {
        "id": "f4e416fb",
        "outputId": "d351b7c5-1f34-4f2a-f65e-10c598b6399c"
      },
      "outputs": [
        {
          "data": {
            "text/plain": [
              "[81, 123]"
            ]
          },
          "execution_count": 58,
          "metadata": {},
          "output_type": "execute_result"
        }
      ],
      "source": [
        "return_only_integer([\"hello\", 81, \"basketball\", 123, \"fox\"])"
      ]
    },
    {
      "cell_type": "code",
      "execution_count": null,
      "id": "af30184d",
      "metadata": {
        "id": "af30184d",
        "outputId": "6ba70db5-4680-4d86-95c2-1e978a9eb8ba"
      },
      "outputs": [
        {
          "data": {
            "text/plain": [
              "[10, 56, 20, 3]"
            ]
          },
          "execution_count": 59,
          "metadata": {},
          "output_type": "execute_result"
        }
      ],
      "source": [
        "return_only_integer([10, \"121\", 56, 20, \"car\", 3, \"lion\"])"
      ]
    },
    {
      "cell_type": "code",
      "execution_count": null,
      "id": "8490767f",
      "metadata": {
        "id": "8490767f",
        "outputId": "469f1419-9460-409d-9588-9a7acd122885"
      },
      "outputs": [
        {
          "data": {
            "text/plain": [
              "[1]"
            ]
          },
          "execution_count": 60,
          "metadata": {},
          "output_type": "execute_result"
        }
      ],
      "source": [
        "return_only_integer([\"String\",  True,  3.3,  1])"
      ]
    }
  ],
  "metadata": {
    "kernelspec": {
      "display_name": "Python 3 (ipykernel)",
      "language": "python",
      "name": "python3"
    },
    "language_info": {
      "codemirror_mode": {
        "name": "ipython",
        "version": 3
      },
      "file_extension": ".py",
      "mimetype": "text/x-python",
      "name": "python",
      "nbconvert_exporter": "python",
      "pygments_lexer": "ipython3",
      "version": "3.11.1"
    },
    "colab": {
      "provenance": [],
      "include_colab_link": true
    }
  },
  "nbformat": 4,
  "nbformat_minor": 5
}