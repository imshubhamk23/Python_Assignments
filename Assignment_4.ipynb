{
  "nbformat": 4,
  "nbformat_minor": 0,
  "metadata": {
    "colab": {
      "provenance": [],
      "collapsed_sections": [],
      "authorship_tag": "ABX9TyNUcF72a99tJIQkgwz1cnDv",
      "include_colab_link": true
    },
    "kernelspec": {
      "name": "python3",
      "display_name": "Python 3"
    },
    "language_info": {
      "name": "python"
    }
  },
  "cells": [
    {
      "cell_type": "markdown",
      "metadata": {
        "id": "view-in-github",
        "colab_type": "text"
      },
      "source": [
        "<a href=\"https://colab.research.google.com/github/imshubhamk23/Python_Assignments/blob/main/Assignment_4.ipynb\" target=\"_parent\"><img src=\"https://colab.research.google.com/assets/colab-badge.svg\" alt=\"Open In Colab\"/></a>"
      ]
    },
    {
      "cell_type": "markdown",
      "source": [
        "#1. What exactly is []?\n",
        "\n",
        "[] represents an empty list. This list has no value.\n",
        "We can further add elements to this empty list.  "
      ],
      "metadata": {
        "id": "n-qAYog2Y3f5"
      }
    },
    {
      "cell_type": "markdown",
      "source": [
        "#2. In a list of values stored in a variable called spam, how would you assign the value &#39;hello&#39; as the third value? (Assume [2, 4, 6, 8, 10] are in spam.)"
      ],
      "metadata": {
        "id": "HAgsI-UZZGth"
      }
    },
    {
      "cell_type": "code",
      "source": [
        "spam = [2,4,6,8,10]\n",
        "spam.insert(2,\"hello\")\n",
        "print(spam)"
      ],
      "metadata": {
        "colab": {
          "base_uri": "https://localhost:8080/"
        },
        "id": "L-mSCSAmZLqh",
        "outputId": "d7d4a0ec-5630-47f6-a2ba-e2d36d1fd38c"
      },
      "execution_count": 2,
      "outputs": [
        {
          "output_type": "stream",
          "name": "stdout",
          "text": [
            "[2, 4, 'hello', 6, 8, 10]\n"
          ]
        }
      ]
    },
    {
      "cell_type": "markdown",
      "source": [
        "#Let&#39;s pretend the spam includes the list [&#39;a&#39;, &#39;b&#39;, &#39;c&#39;, &#39;d&#39;] for the next three queries.\n",
        "#3. What is the value of spam[int(int(&#39;3&#39; * 2) / 11)]?\n",
        "#4. What is the value of spam[-1]?\n",
        "#5. What is the value of spam[:2]?"
      ],
      "metadata": {
        "id": "fCVBDWKaZzb4"
      }
    },
    {
      "cell_type": "code",
      "source": [
        "spam = ['a', 'b', 'c', 'd']\n",
        "\n",
        "#Q3\n",
        "print(spam[int(int('3'*2)/11)])\n",
        "\n",
        "#Q4\n",
        "print(spam[-1])\n",
        "\n",
        "#Q5\n",
        "print(spam[:2])\n",
        "\n"
      ],
      "metadata": {
        "colab": {
          "base_uri": "https://localhost:8080/"
        },
        "id": "7_QwvFOFZ4Ox",
        "outputId": "5add6411-b02c-45ff-d647-74b74da3c27a"
      },
      "execution_count": 4,
      "outputs": [
        {
          "output_type": "stream",
          "name": "stdout",
          "text": [
            "d\n",
            "d\n",
            "['a', 'b']\n"
          ]
        }
      ]
    },
    {
      "cell_type": "markdown",
      "source": [
        "#Let&#39;s pretend bacon has the list [3.14, &#39;cat,&#39; 11, &#39;cat,&#39; True] for the next three questions.\n",
        "#6. What is the value of bacon.index(&#39;cat&#39;)?\n",
        "#7. How does bacon.append(99) change the look of the list value in bacon?\n",
        "#8. How does bacon.remove(&#39;cat&#39;) change the look of the list in bacon?"
      ],
      "metadata": {
        "id": "38OFJKCvau9C"
      }
    },
    {
      "cell_type": "code",
      "source": [
        "bacon = [3.14, 'cat', 11, 'cat', True]\n",
        "\n",
        "#Q6\n",
        "print(bacon.index('cat'))\n",
        "\n",
        "#Q7\n",
        "bacon.append(99) #This adds 99 at the end of the list\n",
        "print(bacon)\n",
        "\n",
        "#Q8\n",
        "bacon.remove('cat')\n",
        "print(bacon) #This removes the the first instance of element 'cat'. The further instance remains as it is "
      ],
      "metadata": {
        "colab": {
          "base_uri": "https://localhost:8080/"
        },
        "id": "8ZFGMwLkazSK",
        "outputId": "64293e9d-7a65-4950-c1bb-9a9dbb1354dc"
      },
      "execution_count": 9,
      "outputs": [
        {
          "output_type": "stream",
          "name": "stdout",
          "text": [
            "1\n",
            "[3.14, 'cat', 11, 'cat', True, 99]\n",
            "[3.14, 11, 'cat', True, 99]\n"
          ]
        }
      ]
    },
    {
      "cell_type": "markdown",
      "source": [
        "#9. What are the list concatenation and list replication operators?\n",
        "\n",
        "The list concatenation operator is '+'.\n",
        "The list replication operator is  '*'"
      ],
      "metadata": {
        "id": "7B9TdTMibn1I"
      }
    },
    {
      "cell_type": "markdown",
      "source": [
        "#10. What is difference between the list methods append() and insert()?\n",
        "\n",
        "append() inserts the desired element at the end of the list however in case of insert() it inserts the desired element at the specified index. \n",
        "For eg:- \n",
        "append()\n",
        "spam = [1,2]\n",
        "spam.append(3)\n",
        "Here the new list will become\n",
        "spam = [1,2,3] {3 is inserted at the end}\n",
        "\n",
        "insert()\n",
        "spam = ['a','b']\n",
        "spam.insert(1,'c')\n",
        "Here the new list will become\n",
        "spam = ['a', 'c', 'b'] {'c' is inserted at the 1st index which is second position in the list}\n",
        "\n"
      ],
      "metadata": {
        "id": "Vus3DsDYcA3X"
      }
    },
    {
      "cell_type": "code",
      "source": [
        "#append() \n",
        "spam = [1,2] \n",
        "spam.append(3) \n",
        "#Here the new list will become \n",
        "#spam = [1,2,3] \n",
        "#{3 is inserted at the end} \n",
        "#Try printing this"
      ],
      "metadata": {
        "id": "Sihyma68dSmq"
      },
      "execution_count": null,
      "outputs": []
    },
    {
      "cell_type": "code",
      "source": [
        "#insert() \n",
        "spam = ['a','b'] \n",
        "spam.insert(1,'c') \n",
        "#Here the new list will become \n",
        "#spam = ['a', 'c', 'b'] \n",
        "#{'c' is inserted at the 1st index which is second position in the list}\n",
        "#Try printing this"
      ],
      "metadata": {
        "id": "Bn9qmt3Bdgk5"
      },
      "execution_count": null,
      "outputs": []
    },
    {
      "cell_type": "markdown",
      "source": [
        "#11. What are the two methods for removing items from a list?\n",
        "\n",
        "The two methods to remove items from list are pop() and remove()\n",
        "For eg:- "
      ],
      "metadata": {
        "id": "sMFyRbbtdLrQ"
      }
    },
    {
      "cell_type": "code",
      "source": [
        "spam = [1,2,3] \n",
        "spam.pop(2)  #This will remove element at the 2nd index and returns its value\n",
        "spam.remove(1)  #This will remove '1' from the list."
      ],
      "metadata": {
        "id": "aDhiyoV5cVSi"
      },
      "execution_count": 12,
      "outputs": []
    },
    {
      "cell_type": "markdown",
      "source": [
        "#12. Describe how list values and string values are identical.\n",
        "\n",
        "Lists and strings are similar because both are sequences. \n",
        "\n",
        "The list values and index values are identical in the way of indexing. Each value of string is seperated by index and in case of strings too each elemnt of a string can be seperated by indexing. \n",
        "Also in case of lists and string we can only use concatenation and repetation. i.e we can add two strings and two lists by using the '+' operator. \n",
        "Also we can repeat the string and list by using '-' operator. "
      ],
      "metadata": {
        "id": "pude7bR5e1ty"
      }
    },
    {
      "cell_type": "markdown",
      "source": [
        "13. What&#39;s the difference between tuples and lists?\n",
        "\n",
        "The difference between tuple and list is, lists are mutable i.e we can modify the elements at convenience and tuples are immutable i.e they have fixed values once created, we cannot change them."
      ],
      "metadata": {
        "id": "Ncw0zNqugBHq"
      }
    },
    {
      "cell_type": "markdown",
      "source": [
        "#14. How do you type a tuple value that only contains the integer 42?"
      ],
      "metadata": {
        "id": "KGOQqGhMgre4"
      }
    },
    {
      "cell_type": "code",
      "source": [
        "a = (42,)\n",
        "print(type(a))"
      ],
      "metadata": {
        "colab": {
          "base_uri": "https://localhost:8080/"
        },
        "id": "UGVm7qyggtH-",
        "outputId": "084aef96-e16b-4fb3-81f7-d008a50d1860"
      },
      "execution_count": 14,
      "outputs": [
        {
          "output_type": "stream",
          "name": "stdout",
          "text": [
            "<class 'tuple'>\n"
          ]
        }
      ]
    },
    {
      "cell_type": "markdown",
      "source": [
        "#15. How do you get a list value&#39;s tuple form? How do you get a tuple value&#39;s list form?"
      ],
      "metadata": {
        "id": "MjQYXYgRg-cQ"
      }
    },
    {
      "cell_type": "code",
      "source": [
        "#ist value's tuple form\n",
        "x = [42,33]\n",
        "y = tuple(x)\n",
        "print(y)"
      ],
      "metadata": {
        "colab": {
          "base_uri": "https://localhost:8080/"
        },
        "id": "2nA-F2-uhQiH",
        "outputId": "11bfd26c-965d-4e74-e70f-ae8b5e84d6bc"
      },
      "execution_count": 18,
      "outputs": [
        {
          "output_type": "stream",
          "name": "stdout",
          "text": [
            "(42, 33)\n"
          ]
        }
      ]
    },
    {
      "cell_type": "code",
      "source": [
        "# tuple value's list form\n",
        "a = (42,33)\n",
        "b = list(a)\n",
        "print(b)"
      ],
      "metadata": {
        "colab": {
          "base_uri": "https://localhost:8080/"
        },
        "id": "iC2lZooHhA3K",
        "outputId": "dbe44465-1ec6-4cf8-e126-21d6b3954ff0"
      },
      "execution_count": 16,
      "outputs": [
        {
          "output_type": "stream",
          "name": "stdout",
          "text": [
            "[42, 33]\n"
          ]
        }
      ]
    },
    {
      "cell_type": "markdown",
      "source": [
        "#16. Variables that &quot;contain&quot; list values are not necessarily lists themselves. Instead, what do they contain?\n",
        "\n",
        "\n",
        "They contain the references to the list values "
      ],
      "metadata": {
        "id": "CYzZWpSlhiSJ"
      }
    },
    {
      "cell_type": "markdown",
      "source": [
        "#17. How do you distinguish between copy.copy() and copy.deepcopy()?\n",
        "\n",
        "copy.copy() is shallow copy. Here the copy of the orignal object is i.e reference of values is only copied. When we chance the copied object the orignal object also changes. It's faster. Whereas copy.deepcopy() is Deep copy. Here it creates a new object and copy of orignal object and repetitive object both are stored. Changes made in copied object do not affect the orignal object. It's slower. "
      ],
      "metadata": {
        "id": "lf_mRIxCigP6"
      }
    }
  ]
}