{
  "cells": [
    {
      "cell_type": "markdown",
      "metadata": {
        "id": "view-in-github",
        "colab_type": "text"
      },
      "source": [
        "<a href=\"https://colab.research.google.com/github/imshubhamk23/Python_Assignments/blob/main/Programming_Assignment_17.ipynb\" target=\"_parent\"><img src=\"https://colab.research.google.com/assets/colab-badge.svg\" alt=\"Open In Colab\"/></a>"
      ]
    },
    {
      "cell_type": "raw",
      "id": "c7f28eba",
      "metadata": {
        "id": "c7f28eba"
      },
      "source": [
        "Question1. Create a function that takes three arguments a, b, c and returns the sum of the numbers that are evenly divided by c from the range a, b inclusive.\n",
        "Examples\n",
        "evenly_divisible(1, 10, 20) ➞ 0\n",
        "# No number between 1 and 10 can be evenly divided by 20.\n",
        "\n",
        "evenly_divisible(1, 10, 2) ➞ 30\n",
        "# 2 + 4 + 6 + 8 + 10 = 30\n",
        "\n",
        "evenly_divisible(1, 10, 3) ➞ 18\n",
        "# 3 + 6 + 9 = 18\n"
      ]
    },
    {
      "cell_type": "code",
      "execution_count": null,
      "id": "42df0284",
      "metadata": {
        "id": "42df0284"
      },
      "outputs": [],
      "source": [
        "def evenly_divisible(num1,num2,num3):\n",
        "    sum = 0\n",
        "    l = []\n",
        "    for i in range(num1,num2+1):\n",
        "        if i % num3 == 0:\n",
        "            l.append(i)\n",
        "            sum = sum + i\n",
        "    if sum != 0:\n",
        "        print(l,end = \"=\")\n",
        "        print(sum)\n",
        "    else:\n",
        "        print(f\"No number between {num1} and {num2} is evenly divided by {num3}\")\n",
        "    "
      ]
    },
    {
      "cell_type": "code",
      "execution_count": null,
      "id": "2d7bf3db",
      "metadata": {
        "id": "2d7bf3db",
        "outputId": "dce361fb-1991-4a37-ee88-cd4f975b3fc8"
      },
      "outputs": [
        {
          "name": "stdout",
          "output_type": "stream",
          "text": [
            "No number between 1 and 10 is evenly divided by 20\n"
          ]
        }
      ],
      "source": [
        "evenly_divisible(1, 10, 20)"
      ]
    },
    {
      "cell_type": "code",
      "execution_count": null,
      "id": "81dbc03a",
      "metadata": {
        "id": "81dbc03a",
        "outputId": "995b3b66-6a87-4456-eca1-2b632ee3c417"
      },
      "outputs": [
        {
          "name": "stdout",
          "output_type": "stream",
          "text": [
            "[2, 4, 6, 8, 10]=30\n"
          ]
        }
      ],
      "source": [
        "evenly_divisible(1, 10, 2)"
      ]
    },
    {
      "cell_type": "code",
      "execution_count": null,
      "id": "24e5a6fc",
      "metadata": {
        "id": "24e5a6fc",
        "outputId": "baa202fe-a960-4994-a0f5-ece0399f9f92"
      },
      "outputs": [
        {
          "name": "stdout",
          "output_type": "stream",
          "text": [
            "[3, 6, 9]=18\n"
          ]
        }
      ],
      "source": [
        "evenly_divisible(1, 10, 3)"
      ]
    },
    {
      "cell_type": "raw",
      "id": "6393d461",
      "metadata": {
        "id": "6393d461"
      },
      "source": [
        "Question2. Create a function that returns True if a given inequality expression is correct and False otherwise.\n",
        "Examples\n",
        "correct_signs(\"3 < 7 < 11\") ➞ True\n",
        "\n",
        "correct_signs(\"13 > 44 > 33 > 1\") ➞ False\n",
        "\n",
        "correct_signs(\"1 < 2 < 6 < 9 > 3\") ➞ True\n"
      ]
    },
    {
      "cell_type": "code",
      "execution_count": null,
      "id": "a081fc8c",
      "metadata": {
        "id": "a081fc8c"
      },
      "outputs": [],
      "source": [
        "def correct_signs(exp):\n",
        "    expn = eval(exp)\n",
        "    if expn:\n",
        "        return True\n",
        "    else:\n",
        "        return False"
      ]
    },
    {
      "cell_type": "code",
      "execution_count": null,
      "id": "9e68fe16",
      "metadata": {
        "id": "9e68fe16",
        "outputId": "b8968aa7-2b47-4b50-f16d-935a881c5055"
      },
      "outputs": [
        {
          "data": {
            "text/plain": [
              "False"
            ]
          },
          "execution_count": 6,
          "metadata": {},
          "output_type": "execute_result"
        }
      ],
      "source": [
        "correct_signs(\"13 > 44 > 33 > 1\")"
      ]
    },
    {
      "cell_type": "code",
      "execution_count": null,
      "id": "e25fd1cc",
      "metadata": {
        "id": "e25fd1cc",
        "outputId": "b3950b42-5298-42ab-eae3-125abb52a622"
      },
      "outputs": [
        {
          "data": {
            "text/plain": [
              "True"
            ]
          },
          "execution_count": 7,
          "metadata": {},
          "output_type": "execute_result"
        }
      ],
      "source": [
        "correct_signs(\"3 < 7 < 11\")"
      ]
    },
    {
      "cell_type": "raw",
      "id": "a0bbcbc0",
      "metadata": {
        "id": "a0bbcbc0"
      },
      "source": [
        "Question3. Create a function that replaces all the vowels in a string with a specified character.\n",
        "Examples\n",
        "replace_vowels(\"the aardvark\", \"#\") ➞ \"th# ##rdv#rk\"\n",
        "\n",
        "replace_vowels(\"minnie mouse\", \"?\") ➞ \"m?nn?? m??s?\"\n",
        "\n",
        "replace_vowels(\"shakespeare\", \"*\") ➞ \"sh*k*sp**r*\"\n"
      ]
    },
    {
      "cell_type": "code",
      "execution_count": null,
      "id": "66350700",
      "metadata": {
        "id": "66350700"
      },
      "outputs": [],
      "source": [
        "def replace_vowels(exp,char):\n",
        "    vovels = \"aeiouAEIOU\"\n",
        "    expn2= exp\n",
        "    for i in vovels:\n",
        "        expn = expn2.replace(i,char)\n",
        "        expn2 = expn\n",
        "    return expn        "
      ]
    },
    {
      "cell_type": "code",
      "execution_count": null,
      "id": "a5645200",
      "metadata": {
        "id": "a5645200",
        "outputId": "5a8ed246-36d0-4531-89e6-a8398e4b1488"
      },
      "outputs": [
        {
          "data": {
            "text/plain": [
              "'th# ##rdv#rk'"
            ]
          },
          "execution_count": 36,
          "metadata": {},
          "output_type": "execute_result"
        }
      ],
      "source": [
        "replace_vowels(\"the aardvark\", \"#\")"
      ]
    },
    {
      "cell_type": "code",
      "execution_count": null,
      "id": "f5e08e60",
      "metadata": {
        "id": "f5e08e60",
        "outputId": "6a1834c6-c4b3-4dca-8a70-f1079f98fb93"
      },
      "outputs": [
        {
          "data": {
            "text/plain": [
              "'m?nn?? m??s?'"
            ]
          },
          "execution_count": 37,
          "metadata": {},
          "output_type": "execute_result"
        }
      ],
      "source": [
        "replace_vowels(\"minnie mouse\", \"?\")"
      ]
    },
    {
      "cell_type": "code",
      "execution_count": null,
      "id": "da94be29",
      "metadata": {
        "id": "da94be29",
        "outputId": "06d38cce-5cc8-4f3f-a5e4-2df8e8950978"
      },
      "outputs": [
        {
          "data": {
            "text/plain": [
              "'sh*k*sp**r*'"
            ]
          },
          "execution_count": 38,
          "metadata": {},
          "output_type": "execute_result"
        }
      ],
      "source": [
        "replace_vowels(\"shakespeare\", \"*\")"
      ]
    },
    {
      "cell_type": "raw",
      "id": "9964ba99",
      "metadata": {
        "id": "9964ba99"
      },
      "source": [
        "Question4. Write a function that calculates the factorial of a number recursively.\n",
        "Examples\n",
        "factorial(5) ➞ 120\n",
        "\n",
        "factorial(3) ➞ 6\n",
        "\n",
        "factorial(1) ➞ 1\n",
        "\n",
        "factorial(0) ➞ 1"
      ]
    },
    {
      "cell_type": "code",
      "execution_count": null,
      "id": "ba10d0de",
      "metadata": {
        "id": "ba10d0de"
      },
      "outputs": [],
      "source": [
        "def factorial(num):\n",
        "    if num == 1 or num == 0:\n",
        "        return 1\n",
        "    else:\n",
        "        return (num * factorial(num-1))\n",
        "        "
      ]
    },
    {
      "cell_type": "code",
      "execution_count": null,
      "id": "2fb7fc8c",
      "metadata": {
        "id": "2fb7fc8c",
        "outputId": "10dd4ea0-8082-4717-888e-61f1d345ce9b"
      },
      "outputs": [
        {
          "data": {
            "text/plain": [
              "120"
            ]
          },
          "execution_count": 55,
          "metadata": {},
          "output_type": "execute_result"
        }
      ],
      "source": [
        "factorial(5)"
      ]
    },
    {
      "cell_type": "code",
      "execution_count": null,
      "id": "cc7104e4",
      "metadata": {
        "id": "cc7104e4",
        "outputId": "dd7f06b8-8cf4-4528-af15-0b1dec968908"
      },
      "outputs": [
        {
          "data": {
            "text/plain": [
              "6"
            ]
          },
          "execution_count": 56,
          "metadata": {},
          "output_type": "execute_result"
        }
      ],
      "source": [
        "factorial(3)"
      ]
    },
    {
      "cell_type": "code",
      "execution_count": null,
      "id": "c5ec8f6b",
      "metadata": {
        "id": "c5ec8f6b",
        "outputId": "5287b9f2-5364-47dd-eca6-46343b40f776"
      },
      "outputs": [
        {
          "data": {
            "text/plain": [
              "1"
            ]
          },
          "execution_count": 57,
          "metadata": {},
          "output_type": "execute_result"
        }
      ],
      "source": [
        "factorial(1)"
      ]
    },
    {
      "cell_type": "code",
      "execution_count": null,
      "id": "01ef8a3d",
      "metadata": {
        "id": "01ef8a3d",
        "outputId": "67f6710f-4a7b-47e5-98ed-e190847ab8c6"
      },
      "outputs": [
        {
          "data": {
            "text/plain": [
              "1"
            ]
          },
          "execution_count": 58,
          "metadata": {},
          "output_type": "execute_result"
        }
      ],
      "source": [
        "factorial(0)"
      ]
    },
    {
      "cell_type": "raw",
      "id": "0ba2f1f7",
      "metadata": {
        "id": "0ba2f1f7"
      },
      "source": [
        "Question 5\n",
        "Hamming distance is the number of characters that differ between two strings.\n",
        "To illustrate:\n",
        "String1: \"abcbba\"\n",
        "String2: \"abcbda\"\n",
        "\n",
        "Hamming Distance: 1 - \"b\" vs. \"d\" is the only difference.\n",
        "Create a function that computes the hamming distance between two strings.\n",
        "Examples\n",
        "hamming_distance(\"abcde\", \"bcdef\") ➞ 5\n",
        "\n",
        "hamming_distance(\"abcde\", \"abcde\") ➞ 0\n",
        "\n",
        "hamming_distance(\"strong\", \"strung\") ➞ 1\n"
      ]
    },
    {
      "cell_type": "code",
      "execution_count": null,
      "id": "206ee5a9",
      "metadata": {
        "id": "206ee5a9"
      },
      "outputs": [],
      "source": [
        "def hamming_distance(String1,String2):     \n",
        "    from scipy.spatial.distance import hamming\n",
        "    dist = hamming(list(String1),list(String2)) * len(String1)\n",
        "    return dist.round(1)"
      ]
    },
    {
      "cell_type": "code",
      "execution_count": null,
      "id": "8ca1da99",
      "metadata": {
        "id": "8ca1da99",
        "outputId": "afaab0da-883f-40e0-dc8e-4ac728fae751"
      },
      "outputs": [
        {
          "data": {
            "text/plain": [
              "1.0"
            ]
          },
          "execution_count": 98,
          "metadata": {},
          "output_type": "execute_result"
        }
      ],
      "source": [
        "String1 = \"abcbba\"\n",
        "String2 = \"abcbda\"\n",
        "hamming_distance(String1,String2)"
      ]
    },
    {
      "cell_type": "code",
      "execution_count": null,
      "id": "a026b117",
      "metadata": {
        "id": "a026b117",
        "outputId": "f8e6fb1b-e092-4505-b22d-57d6842f5a18"
      },
      "outputs": [
        {
          "data": {
            "text/plain": [
              "5.0"
            ]
          },
          "execution_count": 99,
          "metadata": {},
          "output_type": "execute_result"
        }
      ],
      "source": [
        "hamming_distance(\"abcde\", \"bcdef\")"
      ]
    },
    {
      "cell_type": "code",
      "execution_count": null,
      "id": "ef4ce9d3",
      "metadata": {
        "id": "ef4ce9d3",
        "outputId": "cfc9d632-35a2-40d7-d0db-7b19ba24b0e5"
      },
      "outputs": [
        {
          "data": {
            "text/plain": [
              "0.0"
            ]
          },
          "execution_count": 100,
          "metadata": {},
          "output_type": "execute_result"
        }
      ],
      "source": [
        "hamming_distance(\"abcde\", \"abcde\")"
      ]
    },
    {
      "cell_type": "code",
      "execution_count": null,
      "id": "f62798d5",
      "metadata": {
        "id": "f62798d5",
        "outputId": "b4d70fb6-7aef-404c-cf31-db208b091b34"
      },
      "outputs": [
        {
          "data": {
            "text/plain": [
              "1.0"
            ]
          },
          "execution_count": 101,
          "metadata": {},
          "output_type": "execute_result"
        }
      ],
      "source": [
        "hamming_distance(\"strong\", \"strung\")"
      ]
    }
  ],
  "metadata": {
    "kernelspec": {
      "display_name": "Python 3 (ipykernel)",
      "language": "python",
      "name": "python3"
    },
    "language_info": {
      "codemirror_mode": {
        "name": "ipython",
        "version": 3
      },
      "file_extension": ".py",
      "mimetype": "text/x-python",
      "name": "python",
      "nbconvert_exporter": "python",
      "pygments_lexer": "ipython3",
      "version": "3.11.1"
    },
    "colab": {
      "provenance": [],
      "include_colab_link": true
    }
  },
  "nbformat": 4,
  "nbformat_minor": 5
}