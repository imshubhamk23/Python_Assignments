{
  "nbformat": 4,
  "nbformat_minor": 0,
  "metadata": {
    "colab": {
      "provenance": [],
      "authorship_tag": "ABX9TyPnjPzF6qc9d5p1n+mhWTun",
      "include_colab_link": true
    },
    "kernelspec": {
      "name": "python3",
      "display_name": "Python 3"
    },
    "language_info": {
      "name": "python"
    }
  },
  "cells": [
    {
      "cell_type": "markdown",
      "metadata": {
        "id": "view-in-github",
        "colab_type": "text"
      },
      "source": [
        "<a href=\"https://colab.research.google.com/github/imshubhamk23/Python_Assignments/blob/main/Programming_Assignment_5.ipynb\" target=\"_parent\"><img src=\"https://colab.research.google.com/assets/colab-badge.svg\" alt=\"Open In Colab\"/></a>"
      ]
    },
    {
      "cell_type": "markdown",
      "source": [
        "1. Write a Python Program to Find LCM?"
      ],
      "metadata": {
        "id": "XIVB88FvyTWE"
      }
    },
    {
      "cell_type": "code",
      "source": [
        "def lcm(x,y):\n",
        "  if x > y:\n",
        "    greater = x\n",
        "  else:\n",
        "    greater = y\n",
        "\n",
        "  while True:\n",
        "    if greater % x == 0 and greater % y == 0:\n",
        "      lcm = greater\n",
        "      break\n",
        "    greater += 1\n",
        "  return lcm"
      ],
      "metadata": {
        "id": "O85Y7o-oyVp7"
      },
      "execution_count": 7,
      "outputs": []
    },
    {
      "cell_type": "code",
      "source": [
        "print(lcm(54,24))"
      ],
      "metadata": {
        "colab": {
          "base_uri": "https://localhost:8080/"
        },
        "id": "aZWACfAGzmhn",
        "outputId": "6d25403f-4bbd-4f78-9b2a-07c8a912adae"
      },
      "execution_count": 8,
      "outputs": [
        {
          "output_type": "stream",
          "name": "stdout",
          "text": [
            "216\n"
          ]
        }
      ]
    },
    {
      "cell_type": "markdown",
      "source": [
        "2. Write a Python Program to Find HCF?"
      ],
      "metadata": {
        "id": "gJctSJtv3OP-"
      }
    },
    {
      "cell_type": "code",
      "source": [
        "#normal method\n",
        "def hcf(x,y):\n",
        "  if x > y:\n",
        "    smaller = y\n",
        "  else:\n",
        "    smaller = x\n",
        "\n",
        "  for i in range(1,smaller+1):\n",
        "    if x % i == 0 and y % i == 0:\n",
        "      hcf = i\n",
        "  return hcf"
      ],
      "metadata": {
        "id": "7It-I7u5zvJz"
      },
      "execution_count": 11,
      "outputs": []
    },
    {
      "cell_type": "code",
      "source": [
        "print(hcf(54,24))"
      ],
      "metadata": {
        "colab": {
          "base_uri": "https://localhost:8080/"
        },
        "id": "oGErmrkJ1zRY",
        "outputId": "c00db3f5-0ded-4d23-bd03-0581f1440649"
      },
      "execution_count": 13,
      "outputs": [
        {
          "output_type": "stream",
          "name": "stdout",
          "text": [
            "6\n"
          ]
        }
      ]
    },
    {
      "cell_type": "code",
      "source": [
        "#euclidian method\n",
        "\n",
        "def hcf1(x,y):\n",
        "  while y:\n",
        "    x,y = y, x % y\n",
        "  return x\n"
      ],
      "metadata": {
        "id": "ZUHVxAF515F1"
      },
      "execution_count": 14,
      "outputs": []
    },
    {
      "cell_type": "code",
      "source": [
        "print(hcf1(24,54))"
      ],
      "metadata": {
        "colab": {
          "base_uri": "https://localhost:8080/"
        },
        "id": "GXOxkq8r3l4M",
        "outputId": "75098488-b3ca-41b7-ebc5-f3aae9adb556"
      },
      "execution_count": 16,
      "outputs": [
        {
          "output_type": "stream",
          "name": "stdout",
          "text": [
            "6\n"
          ]
        }
      ]
    },
    {
      "cell_type": "markdown",
      "source": [
        "3. Write a Python Program to Convert Decimal to Binary, Octal and Hexadecimal?"
      ],
      "metadata": {
        "id": "dx5uLkBp3_wK"
      }
    },
    {
      "cell_type": "code",
      "source": [
        "\n",
        "def binary(num):\n",
        "  l = []\n",
        "  while num != 0:\n",
        "    r = num % 2\n",
        "    l.append(r)\n",
        "    num = num//2\n",
        "  l.reverse()\n",
        "  for i in l:\n",
        "    print(i, end = \" \")\n",
        "\n",
        "def octal(num):\n",
        "  l = []\n",
        "  while num != 0:\n",
        "    r = num % 8\n",
        "    l.append(r)\n",
        "    num = num // 8\n",
        "  l.reverse()\n",
        "  for i in l:\n",
        "    print(i, end = \" \")\n"
      ],
      "metadata": {
        "id": "WmTDXOAW3pUl"
      },
      "execution_count": 48,
      "outputs": []
    },
    {
      "cell_type": "code",
      "source": [
        "binary(12)"
      ],
      "metadata": {
        "colab": {
          "base_uri": "https://localhost:8080/"
        },
        "id": "JyWmYW5G918Z",
        "outputId": "dfb14d58-4986-4e64-871e-881cd6bce1d1"
      },
      "execution_count": 49,
      "outputs": [
        {
          "output_type": "stream",
          "name": "stdout",
          "text": [
            "1 1 0 0 "
          ]
        }
      ]
    },
    {
      "cell_type": "code",
      "source": [
        "octal(12)"
      ],
      "metadata": {
        "colab": {
          "base_uri": "https://localhost:8080/"
        },
        "id": "mstJkcXh99WR",
        "outputId": "56561cc0-3b10-4545-c284-4145c4815572"
      },
      "execution_count": 52,
      "outputs": [
        {
          "output_type": "stream",
          "name": "stdout",
          "text": [
            "1 4 "
          ]
        }
      ]
    },
    {
      "cell_type": "code",
      "source": [
        "hex(12)"
      ],
      "metadata": {
        "colab": {
          "base_uri": "https://localhost:8080/",
          "height": 35
        },
        "id": "HctRqdCvCskj",
        "outputId": "3efea537-05ca-4dd0-fbc1-9bdff5aa0774"
      },
      "execution_count": 53,
      "outputs": [
        {
          "output_type": "execute_result",
          "data": {
            "text/plain": [
              "'0xc'"
            ],
            "application/vnd.google.colaboratory.intrinsic+json": {
              "type": "string"
            }
          },
          "metadata": {},
          "execution_count": 53
        }
      ]
    },
    {
      "cell_type": "markdown",
      "source": [
        "4. Write a Python Program To Find ASCII value of a character?"
      ],
      "metadata": {
        "id": "RPbia4xtFV68"
      }
    },
    {
      "cell_type": "code",
      "source": [
        "a = \"D\"\n",
        "print(f\"The ASCII of {a} is {ord(a)}\")"
      ],
      "metadata": {
        "colab": {
          "base_uri": "https://localhost:8080/"
        },
        "id": "_SkLMvPnD3n9",
        "outputId": "0e82fe78-6dd6-45e0-9194-5a40a846c60f"
      },
      "execution_count": 54,
      "outputs": [
        {
          "output_type": "stream",
          "name": "stdout",
          "text": [
            "The ASCII of D is 68\n"
          ]
        }
      ]
    },
    {
      "cell_type": "markdown",
      "source": [
        "5. Write a Python Program to Make a Simple Calculator with 4 basic mathematical operations?"
      ],
      "metadata": {
        "id": "cJqQHbS3Ft8S"
      }
    },
    {
      "cell_type": "code",
      "source": [
        "def add(*args):\n",
        "  return sum(args)\n",
        "\n",
        "def substract(a,b):\n",
        "  return (a-b)\n",
        "\n",
        "def divide(a,b):\n",
        "  return a/b\n",
        "\n",
        "def multiply(a,b):\n",
        "  return a*b"
      ],
      "metadata": {
        "id": "2ifOqaQOFnQf"
      },
      "execution_count": 62,
      "outputs": []
    },
    {
      "cell_type": "code",
      "source": [
        "print(multiply(2,5))"
      ],
      "metadata": {
        "colab": {
          "base_uri": "https://localhost:8080/"
        },
        "id": "d-jQKEmTGHPd",
        "outputId": "4d3cd218-4e01-42fe-b430-e1d56757ee20"
      },
      "execution_count": 56,
      "outputs": [
        {
          "output_type": "stream",
          "name": "stdout",
          "text": [
            "10\n"
          ]
        }
      ]
    },
    {
      "cell_type": "code",
      "source": [
        "print(divide(10,2))"
      ],
      "metadata": {
        "colab": {
          "base_uri": "https://localhost:8080/"
        },
        "id": "pr924r1ZGKmY",
        "outputId": "c43609d0-0455-49b2-a4bf-9afac0a9a52e"
      },
      "execution_count": 57,
      "outputs": [
        {
          "output_type": "stream",
          "name": "stdout",
          "text": [
            "5.0\n"
          ]
        }
      ]
    },
    {
      "cell_type": "code",
      "source": [
        "print(substract(6,2))"
      ],
      "metadata": {
        "colab": {
          "base_uri": "https://localhost:8080/"
        },
        "id": "ZFO28-07GPpg",
        "outputId": "738b82ce-02ab-4ea1-e4d5-2a8dbbc07c51"
      },
      "execution_count": 58,
      "outputs": [
        {
          "output_type": "stream",
          "name": "stdout",
          "text": [
            "4\n"
          ]
        }
      ]
    },
    {
      "cell_type": "code",
      "source": [
        "print(add(2,3,4,5))"
      ],
      "metadata": {
        "colab": {
          "base_uri": "https://localhost:8080/"
        },
        "id": "6qac8wolGT3A",
        "outputId": "c9231120-041d-4b46-e182-9bf03a01db28"
      },
      "execution_count": 63,
      "outputs": [
        {
          "output_type": "stream",
          "name": "stdout",
          "text": [
            "14\n"
          ]
        }
      ]
    },
    {
      "cell_type": "code",
      "source": [],
      "metadata": {
        "id": "pA5cUKcjGWoG"
      },
      "execution_count": null,
      "outputs": []
    }
  ]
}