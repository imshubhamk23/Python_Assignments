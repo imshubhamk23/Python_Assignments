{
  "nbformat": 4,
  "nbformat_minor": 0,
  "metadata": {
    "colab": {
      "provenance": [],
      "authorship_tag": "ABX9TyPD240ZKJJ9KwMX5HLLFWRI",
      "include_colab_link": true
    },
    "kernelspec": {
      "name": "python3",
      "display_name": "Python 3"
    },
    "language_info": {
      "name": "python"
    }
  },
  "cells": [
    {
      "cell_type": "markdown",
      "metadata": {
        "id": "view-in-github",
        "colab_type": "text"
      },
      "source": [
        "<a href=\"https://colab.research.google.com/github/imshubhamk23/Python_Assignments/blob/main/Programming_Assignment_4.ipynb\" target=\"_parent\"><img src=\"https://colab.research.google.com/assets/colab-badge.svg\" alt=\"Open In Colab\"/></a>"
      ]
    },
    {
      "cell_type": "markdown",
      "source": [
        "1. Write a Python Program to Find the Factorial of a Number?"
      ],
      "metadata": {
        "id": "9aSbV0QtVQxz"
      }
    },
    {
      "cell_type": "code",
      "source": [
        "num = int(input(\"Enter a number:- \"))\n",
        "fact = 1\n",
        "if num < 0:\n",
        "  print(\"Factorials cannot be generated for Negative Numbers\")\n",
        "elif num == 0:\n",
        "  print(\"Factorial is 1\")\n",
        "else:\n",
        "  for i in range(1,num+1):\n",
        "    fact = fact * i\n",
        "  print(f\"Factorial of {num} is {fact}\")"
      ],
      "metadata": {
        "colab": {
          "base_uri": "https://localhost:8080/"
        },
        "id": "Yrj-PQrxVR3D",
        "outputId": "a82f942d-f1d9-4e4c-e90a-86515a07475c"
      },
      "execution_count": 6,
      "outputs": [
        {
          "output_type": "stream",
          "name": "stdout",
          "text": [
            "Enter a number:- 6\n",
            "Factorial of 6 is 720\n"
          ]
        }
      ]
    },
    {
      "cell_type": "markdown",
      "source": [
        "2. Write a Python Program to Display the multiplication Table?"
      ],
      "metadata": {
        "id": "11K-efchWrlW"
      }
    },
    {
      "cell_type": "code",
      "source": [
        "num = int(input(\"Enter a number:- \"))\n",
        "a = 1\n",
        "for i in range(1, 11):\n",
        "  print(f\"{num} x {a} = {num*a}\")\n",
        "  a += 1"
      ],
      "metadata": {
        "colab": {
          "base_uri": "https://localhost:8080/"
        },
        "id": "CSZe_KbtVgc6",
        "outputId": "3bf64c79-cffe-4e1e-a2d7-a6982124e5ee"
      },
      "execution_count": 8,
      "outputs": [
        {
          "output_type": "stream",
          "name": "stdout",
          "text": [
            "Enter a number:- 3\n",
            "3 x 1 = 3\n",
            "3 x 2 = 6\n",
            "3 x 3 = 9\n",
            "3 x 4 = 12\n",
            "3 x 5 = 15\n",
            "3 x 6 = 18\n",
            "3 x 7 = 21\n",
            "3 x 8 = 24\n",
            "3 x 9 = 27\n",
            "3 x 10 = 30\n"
          ]
        }
      ]
    },
    {
      "cell_type": "markdown",
      "source": [
        "3. Write a Python Program to Print the Fibonacci sequence?"
      ],
      "metadata": {
        "id": "rEJpOln0XYzE"
      }
    },
    {
      "cell_type": "code",
      "source": [
        "terms = int(input(\"Enter Terms:- \"))\n",
        "a,b = 0,1\n",
        "count = 0\n",
        "if terms <= 0:\n",
        "  print(\"Fibonacci sequence cannot be generated for negative numbers\")\n",
        "elif terms == 1:\n",
        "    print(f\"Fibonacci sequence is:- {a}\" )\n",
        "else:\n",
        "  print(f\"Fibonacci sequence upto {terms} is :- \")\n",
        "  while count < terms:\n",
        "    print(a)\n",
        "    temp = a + b\n",
        "    a = b\n",
        "    b= temp \n",
        "    count += 1 "
      ],
      "metadata": {
        "colab": {
          "base_uri": "https://localhost:8080/"
        },
        "id": "pIlsWSGXXQIc",
        "outputId": "34bfaa05-2308-41de-c3c7-1a63409cc0be"
      },
      "execution_count": 23,
      "outputs": [
        {
          "output_type": "stream",
          "name": "stdout",
          "text": [
            "Enter Terms:- 13\n",
            "Fibonacci sequence upto 13 is :- \n",
            "0\n",
            "1\n",
            "1\n",
            "2\n",
            "3\n",
            "5\n",
            "8\n",
            "13\n",
            "21\n",
            "34\n",
            "55\n",
            "89\n",
            "144\n"
          ]
        }
      ]
    },
    {
      "cell_type": "markdown",
      "source": [
        "4. Write a Python Program to Check Armstrong Number?"
      ],
      "metadata": {
        "id": "P_YtUm1bcjiC"
      }
    },
    {
      "cell_type": "code",
      "source": [
        "num = input(\"Enter a number:- \")\n",
        "num =  a\n",
        "sum = 0\n",
        "order = len(str(num))\n",
        "while a > 0:\n",
        "  sum = sum + (a%10) ** order\n",
        "  a = a //10\n",
        "if sum == a:\n",
        "  print(\"The number is an Armstrong number\")\n",
        "else:\n",
        "  print(\"The number is not armstrong\")"
      ],
      "metadata": {
        "colab": {
          "base_uri": "https://localhost:8080/"
        },
        "id": "B9u1_PNvX3Rn",
        "outputId": "ffabe215-8cf2-4b90-cd8a-08f188e51dd3"
      },
      "execution_count": 35,
      "outputs": [
        {
          "output_type": "stream",
          "name": "stdout",
          "text": [
            "Enter a number:- 1634\n",
            "The number is an Armstrong number\n"
          ]
        }
      ]
    },
    {
      "cell_type": "markdown",
      "source": [
        "Write a Python Program to Find Armstrong Number in an Interval?\n"
      ],
      "metadata": {
        "id": "vbF-VkMin0ip"
      }
    },
    {
      "cell_type": "code",
      "source": [
        "lower = int(input(\"Enter lower value:- \"))\n",
        "upper = int(input(\"Enter upper value:- \"))\n",
        "\n",
        "for num in range(lower,upper):\n",
        "  a = num\n",
        "  sum = 0\n",
        "  order = len(str(num))\n",
        "  while a > 0:\n",
        "    sum = sum + (a%10) ** order\n",
        "    a = a//10\n",
        "  if num == sum:\n",
        "    print(num)"
      ],
      "metadata": {
        "colab": {
          "base_uri": "https://localhost:8080/"
        },
        "id": "cJ2r5wuZj6ED",
        "outputId": "118fa2be-53d7-4f94-a55d-f49a146425dc"
      },
      "execution_count": 34,
      "outputs": [
        {
          "output_type": "stream",
          "name": "stdout",
          "text": [
            "Enter lower value:- 1000\n",
            "Enter upper value:- 9000\n",
            "1634\n",
            "8208\n"
          ]
        }
      ]
    },
    {
      "cell_type": "markdown",
      "source": [
        "6. Write a Python Program to Find the Sum of Natural Numbers?"
      ],
      "metadata": {
        "id": "fdrpqcSHqX_b"
      }
    },
    {
      "cell_type": "code",
      "source": [
        "num = int(input(\"Enter Terms:- \"))\n",
        "sum = 0\n",
        "for i in range(num+1):\n",
        "  sum = i + sum\n",
        "print(sum)\n",
        "  "
      ],
      "metadata": {
        "colab": {
          "base_uri": "https://localhost:8080/"
        },
        "id": "aAswMM2QpUHF",
        "outputId": "c5850e1b-b963-4a7c-c69c-5f26d03ad468"
      },
      "execution_count": 38,
      "outputs": [
        {
          "output_type": "stream",
          "name": "stdout",
          "text": [
            "Enter Terms:- 4\n",
            "10\n"
          ]
        }
      ]
    }
  ]
}