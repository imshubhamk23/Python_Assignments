{
  "nbformat": 4,
  "nbformat_minor": 0,
  "metadata": {
    "colab": {
      "provenance": [],
      "collapsed_sections": [],
      "authorship_tag": "ABX9TyNa7L/Zf/qQghg4aNcrJW18",
      "include_colab_link": true
    },
    "kernelspec": {
      "name": "python3",
      "display_name": "Python 3"
    },
    "language_info": {
      "name": "python"
    }
  },
  "cells": [
    {
      "cell_type": "markdown",
      "metadata": {
        "id": "view-in-github",
        "colab_type": "text"
      },
      "source": [
        "<a href=\"https://colab.research.google.com/github/imshubhamk23/Python_Assignments/blob/main/Assignment_5.ipynb\" target=\"_parent\"><img src=\"https://colab.research.google.com/assets/colab-badge.svg\" alt=\"Open In Colab\"/></a>"
      ]
    },
    {
      "cell_type": "markdown",
      "source": [
        "#1. What does an empty dictionary&#39;s code look like?"
      ],
      "metadata": {
        "id": "tdLpjqMEo_CU"
      }
    },
    {
      "cell_type": "code",
      "source": [
        "# An empty dictionary looks as follows\n",
        "a = {}\n",
        "print(type(a))"
      ],
      "metadata": {
        "colab": {
          "base_uri": "https://localhost:8080/"
        },
        "id": "xuwmQWXCpBxj",
        "outputId": "0590b65f-74e9-40e5-f5d5-629e0ca41552"
      },
      "execution_count": 6,
      "outputs": [
        {
          "output_type": "stream",
          "name": "stdout",
          "text": [
            "<class 'dict'>\n"
          ]
        }
      ]
    },
    {
      "cell_type": "markdown",
      "source": [
        "#2. What is the value of a dictionary value with the key &#39;foo&#39; and the value 42?\n",
        "\n",
        "a = {\"foo\":42}"
      ],
      "metadata": {
        "id": "jivgDZyepkTr"
      }
    },
    {
      "cell_type": "markdown",
      "source": [
        "#3. What is the most significant distinction between a dictionary and a list?\n",
        "\n",
        "A list is an ordered collection of data however a dictionary is unordered. List contains values and in case of dictionary there are keys to which a value is assigned. "
      ],
      "metadata": {
        "id": "VBWI0zxCqQEL"
      }
    },
    {
      "cell_type": "markdown",
      "source": [
        "#4. What happens if you try to access spam[&#39;foo&#39;] if spam is {&#39;bar&#39;: 100}?\n",
        "\n",
        "We get key error"
      ],
      "metadata": {
        "id": "VVE__rYsq2NL"
      }
    },
    {
      "cell_type": "code",
      "source": [
        "spam = {'bar':100}\n",
        "spam['foo']"
      ],
      "metadata": {
        "colab": {
          "base_uri": "https://localhost:8080/",
          "height": 183
        },
        "id": "KdLUZLOzq6mz",
        "outputId": "4055229e-9b86-4bf8-ef5a-c95cb04f2618"
      },
      "execution_count": 25,
      "outputs": [
        {
          "output_type": "error",
          "ename": "KeyError",
          "evalue": "ignored",
          "traceback": [
            "\u001b[0;31m---------------------------------------------------------------------------\u001b[0m",
            "\u001b[0;31mKeyError\u001b[0m                                  Traceback (most recent call last)",
            "\u001b[0;32m<ipython-input-25-cea1cd791e68>\u001b[0m in \u001b[0;36m<module>\u001b[0;34m\u001b[0m\n\u001b[1;32m      1\u001b[0m \u001b[0mspam\u001b[0m \u001b[0;34m=\u001b[0m \u001b[0;34m{\u001b[0m\u001b[0;34m'bar'\u001b[0m\u001b[0;34m:\u001b[0m\u001b[0;36m100\u001b[0m\u001b[0;34m}\u001b[0m\u001b[0;34m\u001b[0m\u001b[0;34m\u001b[0m\u001b[0m\n\u001b[0;32m----> 2\u001b[0;31m \u001b[0mspam\u001b[0m\u001b[0;34m[\u001b[0m\u001b[0;34m'foo'\u001b[0m\u001b[0;34m]\u001b[0m\u001b[0;34m\u001b[0m\u001b[0;34m\u001b[0m\u001b[0m\n\u001b[0m",
            "\u001b[0;31mKeyError\u001b[0m: 'foo'"
          ]
        }
      ]
    },
    {
      "cell_type": "markdown",
      "source": [
        "#5. If a dictionary is stored in spam, what is the difference between the expressions &#39;cat&#39; in spam and &#39;cat&#39; in spam.keys()?\n",
        "\n",
        "There will be no difference because the syntax will check if \"cat\" is present as key in the dictionary.\n",
        "We can also check from the below code. Both statements will return True. "
      ],
      "metadata": {
        "id": "CzCSBmv8sNEp"
      }
    },
    {
      "cell_type": "code",
      "source": [
        "spam = {\"cat\": 45}\n",
        "print(\"cat\" in spam)\n",
        "print(\"cat\" in spam.keys())"
      ],
      "metadata": {
        "colab": {
          "base_uri": "https://localhost:8080/"
        },
        "id": "W5k0csHGsP0I",
        "outputId": "170a5266-638f-4f92-a233-a2b3346574ea"
      },
      "execution_count": 35,
      "outputs": [
        {
          "output_type": "stream",
          "name": "stdout",
          "text": [
            "True\n",
            "True\n"
          ]
        }
      ]
    },
    {
      "cell_type": "markdown",
      "source": [
        "#6. If a dictionary is stored in spam, what is the difference between the expressions &#39;cat&#39; in spam and &#39;cat&#39; in spam.values()?\n",
        "\n",
        "\"cat\" in spam will check if \"cat\" is present as keys in dictionary spam and the \"cat\" in spam.values() will check if \"cat\" is present as values in dictionary spam. "
      ],
      "metadata": {
        "id": "Bu8YiTkitDVq"
      }
    },
    {
      "cell_type": "code",
      "source": [
        "spam = {\"cat\": 45}\n",
        "print(\"cat\" in spam)\n",
        "print(\"cat\" in spam.values())"
      ],
      "metadata": {
        "colab": {
          "base_uri": "https://localhost:8080/"
        },
        "id": "6Iyi4bzdtMjS",
        "outputId": "b8e2f095-6a0a-4e3d-ad5d-3afc61e96624"
      },
      "execution_count": 45,
      "outputs": [
        {
          "output_type": "stream",
          "name": "stdout",
          "text": [
            "True\n",
            "False\n"
          ]
        }
      ]
    },
    {
      "cell_type": "markdown",
      "source": [
        "#7. What is a shortcut for the following code?\n",
        "if &#39;color&#39; not in spam:\n",
        "spam[&#39;color&#39;] = &#39;black&#39;\n",
        "\n",
        "The shortcut is to use setdefault() function.\n",
        "It returns the value of the item with specified key and if that key doesn't exists then it inserts this new key and value in the dictionary."
      ],
      "metadata": {
        "id": "ti05eblatw3r"
      }
    },
    {
      "cell_type": "code",
      "source": [
        "print(spam)\n",
        "spam.setdefault(\"color\",\"black\")\n",
        "print(spam)\n"
      ],
      "metadata": {
        "colab": {
          "base_uri": "https://localhost:8080/"
        },
        "id": "qryKhQbltzJT",
        "outputId": "40167a9c-02f3-4cae-935d-641ca2854386"
      },
      "execution_count": 47,
      "outputs": [
        {
          "output_type": "stream",
          "name": "stdout",
          "text": [
            "{'cat': 45}\n",
            "{'cat': 45, 'color': 'black'}\n"
          ]
        }
      ]
    },
    {
      "cell_type": "markdown",
      "source": [
        "#8. How do you &quot;pretty print&quot; dictionary values using which module and function?\n",
        "\n",
        "pprint() is the name of module which can be used to pretty print the dictionary. It makes the dictionary more readable. pprint.pprint() is the syntax.\n",
        "For eg:- "
      ],
      "metadata": {
        "id": "v-lPEwosvmV7"
      }
    },
    {
      "cell_type": "code",
      "source": [
        "import pprint\n",
        "spam = [\n",
        "  {'Name': 'rohan', 'Age': '23', 'Country': 'India'},\n",
        "  {'Name': 'Fahad', 'Age': '27', 'Country': 'UAE'},\n",
        "  {'Name': 'Anna', 'Age': '29', 'Country': 'Germany'},\n",
        "]\n",
        "print(spam)\n",
        "pprint.pprint(spam)"
      ],
      "metadata": {
        "colab": {
          "base_uri": "https://localhost:8080/"
        },
        "id": "t0W6WhRSuAAK",
        "outputId": "0550ca6f-7cc3-4a04-e402-2d6b16c497ff"
      },
      "execution_count": 55,
      "outputs": [
        {
          "output_type": "stream",
          "name": "stdout",
          "text": [
            "[{'Name': 'rohan', 'Age': '23', 'Country': 'India'}, {'Name': 'Fahad', 'Age': '27', 'Country': 'UAE'}, {'Name': 'Anna', 'Age': '29', 'Country': 'Germany'}]\n",
            "[{'Age': '23', 'Country': 'India', 'Name': 'rohan'},\n",
            " {'Age': '27', 'Country': 'UAE', 'Name': 'Fahad'},\n",
            " {'Age': '29', 'Country': 'Germany', 'Name': 'Anna'}]\n"
          ]
        }
      ]
    }
  ]
}