{
  "cells": [
    {
      "cell_type": "markdown",
      "metadata": {
        "id": "view-in-github",
        "colab_type": "text"
      },
      "source": [
        "<a href=\"https://colab.research.google.com/github/imshubhamk23/Python_Assignments/blob/main/Programming_Assignment_18.ipynb\" target=\"_parent\"><img src=\"https://colab.research.google.com/assets/colab-badge.svg\" alt=\"Open In Colab\"/></a>"
      ]
    },
    {
      "cell_type": "raw",
      "id": "ecda6dc2",
      "metadata": {
        "id": "ecda6dc2"
      },
      "source": [
        "Question 1\n",
        "\n",
        "---\n",
        "\n",
        "\n",
        "Create a function that takes a list of non-negative integers and strings and return a new list without the strings.\n",
        "Examples\n",
        "filter_list([1, 2, \"a\", \"b\"]) ➞ [1, 2]\n",
        "\n",
        "filter_list([1, \"a\", \"b\", 0, 15]) ➞ [1, 0, 15]\n",
        "\n",
        "filter_list([1, 2, \"aasf\", \"1\", \"123\", 123]) ➞ [1, 2, 123]\n"
      ]
    },
    {
      "cell_type": "code",
      "execution_count": null,
      "id": "357f7227",
      "metadata": {
        "id": "357f7227"
      },
      "outputs": [],
      "source": [
        "def filter_list(list1):\n",
        "    sol = []\n",
        "    for i in list1:\n",
        "        if type(i) == int:\n",
        "            sol.append(i)\n",
        "    return sol"
      ]
    },
    {
      "cell_type": "code",
      "execution_count": null,
      "id": "1eaee5d7",
      "metadata": {
        "id": "1eaee5d7",
        "outputId": "69ffb3ff-d2f7-46bd-9ec3-634889cde16a"
      },
      "outputs": [
        {
          "data": {
            "text/plain": [
              "[1, 2]"
            ]
          },
          "execution_count": 2,
          "metadata": {},
          "output_type": "execute_result"
        }
      ],
      "source": [
        "filter_list([1, 2, \"a\", \"b\"])"
      ]
    },
    {
      "cell_type": "code",
      "execution_count": null,
      "id": "1bcda9d2",
      "metadata": {
        "id": "1bcda9d2",
        "outputId": "9cdbae99-6adf-4dc1-809b-60512b1220a5"
      },
      "outputs": [
        {
          "data": {
            "text/plain": [
              "[1, 0, 15]"
            ]
          },
          "execution_count": 3,
          "metadata": {},
          "output_type": "execute_result"
        }
      ],
      "source": [
        "filter_list([1, \"a\", \"b\", 0, 15])"
      ]
    },
    {
      "cell_type": "code",
      "execution_count": null,
      "id": "b39c0e62",
      "metadata": {
        "id": "b39c0e62",
        "outputId": "ffde0c80-1c17-49fc-a258-dbd7aefbf379"
      },
      "outputs": [
        {
          "data": {
            "text/plain": [
              "[1, 2, 123]"
            ]
          },
          "execution_count": 4,
          "metadata": {},
          "output_type": "execute_result"
        }
      ],
      "source": [
        "filter_list([1, 2, \"aasf\", \"1\", \"123\", 123])"
      ]
    },
    {
      "cell_type": "raw",
      "id": "1caa2f91",
      "metadata": {
        "id": "1caa2f91"
      },
      "source": [
        "Question 2\n",
        "\n",
        "---\n",
        "\n",
        "\n",
        "The \"Reverser\" takes a string as input and returns that string in reverse order, with the opposite case.\n",
        "Examples\n",
        "reverse(\"Hello World\") ➞ \"DLROw OLLEh\"\n",
        "\n",
        "reverse(\"ReVeRsE\") ➞ \"eSrEvEr\"\n",
        "\n",
        "reverse(\"Radar\") ➞ \"RADAr\""
      ]
    },
    {
      "cell_type": "code",
      "execution_count": null,
      "id": "497edc76",
      "metadata": {
        "id": "497edc76"
      },
      "outputs": [],
      "source": [
        "def reverse(str1):\n",
        "    str2 = str1[::-1]\n",
        "    str2 = str2.swapcase()\n",
        "    return str2\n",
        "    "
      ]
    },
    {
      "cell_type": "code",
      "execution_count": null,
      "id": "87d905f0",
      "metadata": {
        "id": "87d905f0",
        "outputId": "cf1260e7-61c6-4047-baf8-acc83227bdff"
      },
      "outputs": [
        {
          "data": {
            "text/plain": [
              "'DLROw OLLEh'"
            ]
          },
          "execution_count": 36,
          "metadata": {},
          "output_type": "execute_result"
        }
      ],
      "source": [
        "reverse(\"Hello World\")"
      ]
    },
    {
      "cell_type": "code",
      "execution_count": null,
      "id": "49cb6691",
      "metadata": {
        "id": "49cb6691",
        "outputId": "f264beff-9e63-4358-a2d1-9bbc35d294f7"
      },
      "outputs": [
        {
          "data": {
            "text/plain": [
              "'eSrEvEr'"
            ]
          },
          "execution_count": 37,
          "metadata": {},
          "output_type": "execute_result"
        }
      ],
      "source": [
        "reverse(\"ReVeRsE\")"
      ]
    },
    {
      "cell_type": "code",
      "execution_count": null,
      "id": "f6801c5f",
      "metadata": {
        "id": "f6801c5f",
        "outputId": "1155d953-e293-421a-a6ea-9931c7f07d88"
      },
      "outputs": [
        {
          "data": {
            "text/plain": [
              "'RADAr'"
            ]
          },
          "execution_count": 38,
          "metadata": {},
          "output_type": "execute_result"
        }
      ],
      "source": [
        "reverse(\"Radar\")"
      ]
    },
    {
      "cell_type": "raw",
      "id": "6ff882ca",
      "metadata": {
        "id": "6ff882ca"
      },
      "source": [
        "Question 3\n",
        "\n",
        "---\n",
        "\n",
        "You can assign variables from lists like this:\n",
        "lst = [1, 2, 3, 4, 5, 6]\n",
        "first = lst[0]\n",
        "middle = lst[1:-1]\n",
        "last = lst[-1]\n",
        "print(first) ➞ outputs 1\n",
        "print(middle) ➞ outputs [2, 3, 4, 5]\n",
        "print(last) ➞ outputs 6\n",
        "With Python 3, you can assign variables from lists in a much more succinct way. Create\n",
        "variables first, middle and last from the given list using destructuring assignment\n",
        "(check the Resources tab for some examples), where:\n",
        "first ➞ 1\n",
        "middle ➞ [2, 3, 4, 5]\n",
        "last ➞ 6\n",
        "\n",
        "Your task is to unpack the list writeyourcodehere into three variables, being first,\n",
        "middle, and last, with middle being everything in between the first and last element. Then\n",
        "print all three variables."
      ]
    },
    {
      "cell_type": "code",
      "execution_count": null,
      "id": "fd3ed93b",
      "metadata": {
        "id": "fd3ed93b",
        "outputId": "699fd22e-890d-4868-802b-1bac68bf1512"
      },
      "outputs": [
        {
          "name": "stdout",
          "output_type": "stream",
          "text": [
            "1\n",
            "[2, 3, 4, 5]\n",
            "6\n"
          ]
        }
      ],
      "source": [
        "lst = [1, 2, 3, 4, 5, 6]\n",
        "first,*middle,last = lst\n",
        "print(first)\n",
        "print(middle)\n",
        "print(last)"
      ]
    },
    {
      "cell_type": "raw",
      "id": "791a1b6c",
      "metadata": {
        "id": "791a1b6c"
      },
      "source": [
        "Question 4\n",
        "\n",
        "---\n",
        "\n",
        "\n",
        "Write a function that calculates the factorial of a number recursively.\n",
        "Examples\n",
        "factorial(5) ➞ 120\n",
        "\n",
        "factorial(3) ➞ 6\n",
        "\n",
        "factorial(1) ➞ 1\n",
        "\n",
        "factorial(0) ➞ 1\n"
      ]
    },
    {
      "cell_type": "code",
      "execution_count": null,
      "id": "9102cf9f",
      "metadata": {
        "id": "9102cf9f"
      },
      "outputs": [],
      "source": [
        "def factorial(n):\n",
        "    if n == 0:\n",
        "        return 1\n",
        "    elif n == 1:\n",
        "        return 1\n",
        "    else:\n",
        "        for i in range(n):\n",
        "            fact = n * factorial(n-1)\n",
        "        return fact"
      ]
    },
    {
      "cell_type": "code",
      "execution_count": null,
      "id": "2b046b56",
      "metadata": {
        "id": "2b046b56",
        "outputId": "0f7c1103-d0b7-4a23-f5e7-2f0d70950c56"
      },
      "outputs": [
        {
          "data": {
            "text/plain": [
              "120"
            ]
          },
          "execution_count": 13,
          "metadata": {},
          "output_type": "execute_result"
        }
      ],
      "source": [
        "factorial(5)"
      ]
    },
    {
      "cell_type": "code",
      "execution_count": null,
      "id": "27ffbd9c",
      "metadata": {
        "id": "27ffbd9c",
        "outputId": "44b35686-fedd-46b8-b00f-d63f220a204c"
      },
      "outputs": [
        {
          "data": {
            "text/plain": [
              "6"
            ]
          },
          "execution_count": 14,
          "metadata": {},
          "output_type": "execute_result"
        }
      ],
      "source": [
        "factorial(3)"
      ]
    },
    {
      "cell_type": "code",
      "execution_count": null,
      "id": "46b4fde0",
      "metadata": {
        "id": "46b4fde0",
        "outputId": "998d7d7f-e0ed-4fa7-d66c-80415c0e379b"
      },
      "outputs": [
        {
          "data": {
            "text/plain": [
              "1"
            ]
          },
          "execution_count": 15,
          "metadata": {},
          "output_type": "execute_result"
        }
      ],
      "source": [
        "factorial(1)"
      ]
    },
    {
      "cell_type": "code",
      "execution_count": null,
      "id": "feb74a0c",
      "metadata": {
        "id": "feb74a0c",
        "outputId": "e1cd68b7-94db-4820-e044-c6e4f8c43bdf"
      },
      "outputs": [
        {
          "data": {
            "text/plain": [
              "1"
            ]
          },
          "execution_count": 16,
          "metadata": {},
          "output_type": "execute_result"
        }
      ],
      "source": [
        "factorial(0)"
      ]
    },
    {
      "cell_type": "raw",
      "id": "1eeb3384",
      "metadata": {
        "id": "1eeb3384"
      },
      "source": [
        "Question 5\n",
        "\n",
        "---\n",
        "\n",
        "Write a function that moves all elements of one type to the end of the list.\n",
        "Examples\n",
        "move_to_end([1, 3, 2, 4, 4, 1], 1) ➞ [3, 2, 4, 4, 1, 1]\n",
        "Move all the 1s to the end of the array.\n",
        "\n",
        "move_to_end([7, 8, 9, 1, 2, 3, 4], 9) ➞ [7, 8, 1, 2, 3, 4, 9]\n",
        "\n",
        "move_to_end([\"a\", \"a\", \"a\", \"b\"], \"a\") ➞ [\"b\", \"a\", \"a\", \"a\"]\n"
      ]
    },
    {
      "cell_type": "code",
      "execution_count": null,
      "id": "5c47de08",
      "metadata": {
        "id": "5c47de08"
      },
      "outputs": [],
      "source": [
        "def move_to_end(lst,ele):\n",
        "    lst = [i for i in lst if i != ele] + [i for i in lst if i == ele]\n",
        "    print(lst)\n",
        "    \n",
        "    "
      ]
    },
    {
      "cell_type": "code",
      "execution_count": null,
      "id": "8906954a",
      "metadata": {
        "id": "8906954a",
        "outputId": "550fe363-12ea-4100-c21a-3582b3f36e11"
      },
      "outputs": [
        {
          "name": "stdout",
          "output_type": "stream",
          "text": [
            "[3, 2, 4, 4, 1, 1]\n"
          ]
        }
      ],
      "source": [
        "move_to_end([1, 3, 2, 4, 4, 1], 1)"
      ]
    },
    {
      "cell_type": "code",
      "execution_count": null,
      "id": "475d1fb9",
      "metadata": {
        "id": "475d1fb9",
        "outputId": "ad4de936-dace-4347-97f1-e39584b9c9ba"
      },
      "outputs": [
        {
          "name": "stdout",
          "output_type": "stream",
          "text": [
            "[7, 8, 1, 2, 3, 4, 9]\n"
          ]
        }
      ],
      "source": [
        "move_to_end([7, 8, 9, 1, 2, 3, 4], 9)"
      ]
    },
    {
      "cell_type": "code",
      "execution_count": null,
      "id": "81525645",
      "metadata": {
        "id": "81525645",
        "outputId": "ab42d2d7-a2be-497e-a4c9-7762c09ebeaa"
      },
      "outputs": [
        {
          "name": "stdout",
          "output_type": "stream",
          "text": [
            "['b', 'a', 'a', 'a']\n"
          ]
        }
      ],
      "source": [
        "move_to_end([\"a\", \"a\", \"a\", \"b\"], \"a\")"
      ]
    }
  ],
  "metadata": {
    "kernelspec": {
      "display_name": "Python 3 (ipykernel)",
      "language": "python",
      "name": "python3"
    },
    "language_info": {
      "codemirror_mode": {
        "name": "ipython",
        "version": 3
      },
      "file_extension": ".py",
      "mimetype": "text/x-python",
      "name": "python",
      "nbconvert_exporter": "python",
      "pygments_lexer": "ipython3",
      "version": "3.11.1"
    },
    "colab": {
      "provenance": [],
      "include_colab_link": true
    }
  },
  "nbformat": 4,
  "nbformat_minor": 5
}