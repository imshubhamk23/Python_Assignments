{
  "cells": [
    {
      "cell_type": "markdown",
      "metadata": {
        "id": "view-in-github",
        "colab_type": "text"
      },
      "source": [
        "<a href=\"https://colab.research.google.com/github/imshubhamk23/Python_Assignments/blob/main/Programming_Assignment_8.ipynb\" target=\"_parent\"><img src=\"https://colab.research.google.com/assets/colab-badge.svg\" alt=\"Open In Colab\"/></a>"
      ]
    },
    {
      "cell_type": "markdown",
      "id": "c1801001",
      "metadata": {
        "id": "c1801001"
      },
      "source": [
        "1. Write a Python Program to Add Two Matrices?"
      ]
    },
    {
      "cell_type": "code",
      "execution_count": null,
      "id": "4113c70d",
      "metadata": {
        "id": "4113c70d",
        "outputId": "b5545880-3728-4765-bcb3-87bca091e408"
      },
      "outputs": [
        {
          "name": "stdout",
          "output_type": "stream",
          "text": [
            "[2, 4, 6]\n",
            "[8, 10, 12]\n",
            "[14, 16, 18]\n"
          ]
        }
      ],
      "source": [
        "a = [[1,2,3],\n",
        "     [4,5,6],\n",
        "     [7,8,9]]\n",
        "\n",
        "b = [[1,2,3],\n",
        "     [4,5,6],\n",
        "     [7,8,9]]\n",
        "\n",
        "result = [[0,0,0],\n",
        "     [0,0,0],\n",
        "     [0,0,0]]\n",
        "\n",
        "for i in range(len(a)):\n",
        "    for j in range(len(a[0])):\n",
        "        result[i][j] = a[i][j] + b[i][j]\n",
        "for r in result:\n",
        "    print(r)"
      ]
    },
    {
      "cell_type": "markdown",
      "id": "f728df38",
      "metadata": {
        "id": "f728df38"
      },
      "source": [
        "2. Write a Python Program to Multiply Two Matrices?"
      ]
    },
    {
      "cell_type": "code",
      "execution_count": null,
      "id": "985b7dad",
      "metadata": {
        "id": "985b7dad",
        "outputId": "57c34b38-1ec6-4c08-a67f-e01e7f562150"
      },
      "outputs": [
        {
          "name": "stdout",
          "output_type": "stream",
          "text": [
            "[1, 4, 9]\n",
            "[16, 25, 36]\n",
            "[49, 64, 81]\n"
          ]
        }
      ],
      "source": [
        "a = [[1,2,3],\n",
        "     [4,5,6],\n",
        "     [7,8,9]]\n",
        "\n",
        "b = [[1,2,3],\n",
        "     [4,5,6],\n",
        "     [7,8,9]]\n",
        "\n",
        "result = [[0,0,0],\n",
        "     [0,0,0],\n",
        "     [0,0,0]]\n",
        "\n",
        "for i in range(len(a)):\n",
        "    for j in range(len(a[0])):\n",
        "        result[i][j] = a[i][j] * b[i][j]\n",
        "for r in result:\n",
        "    print(r)"
      ]
    },
    {
      "cell_type": "markdown",
      "id": "820488e8",
      "metadata": {
        "id": "820488e8"
      },
      "source": [
        "3. Write a Python Program to Transpose a Matrix?"
      ]
    },
    {
      "cell_type": "code",
      "execution_count": null,
      "id": "53801d5a",
      "metadata": {
        "id": "53801d5a"
      },
      "outputs": [],
      "source": [
        "a = [[1,2,3],\n",
        "     [4,5,6],\n",
        "     [7,8,9]]\n",
        "\n",
        "result = [[0,0,0],\n",
        "     [0,0,0],\n",
        "     [0,0,0]]\n",
        "\n",
        "def transpose(a):\n",
        "    \n",
        "    for i in range(len(a)):\n",
        "        for j in range(len(a[0])):\n",
        "            result[i][j] = a[j][i]\n",
        "\n",
        "    for r in result:\n",
        "        print(r)"
      ]
    },
    {
      "cell_type": "code",
      "execution_count": null,
      "id": "d2b82b10",
      "metadata": {
        "id": "d2b82b10",
        "outputId": "556c0341-477c-4f1a-fd52-e1135ed441d5"
      },
      "outputs": [
        {
          "name": "stdout",
          "output_type": "stream",
          "text": [
            "[1, 4, 7]\n",
            "[2, 5, 8]\n",
            "[3, 6, 9]\n"
          ]
        }
      ],
      "source": [
        "transpose(a)"
      ]
    },
    {
      "cell_type": "markdown",
      "id": "7beddce0",
      "metadata": {
        "id": "7beddce0"
      },
      "source": [
        "4. Write a Python Program to Sort Words in Alphabetic Order?"
      ]
    },
    {
      "cell_type": "code",
      "execution_count": null,
      "id": "a7443dcd",
      "metadata": {
        "id": "a7443dcd"
      },
      "outputs": [],
      "source": [
        "def ascending(str):\n",
        "    words = [word.lower() for word in string.split()]\n",
        "    words.sort()\n",
        "    for word in words:\n",
        "        print(word)"
      ]
    },
    {
      "cell_type": "code",
      "execution_count": null,
      "id": "da00e29c",
      "metadata": {
        "id": "da00e29c",
        "outputId": "54b4c948-d85d-4902-ceec-f59b6015a41e"
      },
      "outputs": [
        {
          "name": "stdout",
          "output_type": "stream",
          "text": [
            "a\n",
            "is\n",
            "string\n",
            "this\n"
          ]
        }
      ],
      "source": [
        "ascending(\"This is a string\")"
      ]
    },
    {
      "cell_type": "markdown",
      "id": "759471a7",
      "metadata": {
        "id": "759471a7"
      },
      "source": [
        "5. Write a Python Program to Remove Punctuation From a String?"
      ]
    },
    {
      "cell_type": "code",
      "execution_count": null,
      "id": "3bcaa4ee",
      "metadata": {
        "id": "3bcaa4ee",
        "outputId": "32b97ba3-409e-425d-cacf-0c9a1da5f569"
      },
      "outputs": [
        {
          "name": "stdout",
          "output_type": "stream",
          "text": [
            "I am Happy so are you\n"
          ]
        }
      ],
      "source": [
        "import re\n",
        "string = \"I, am Happy, so are you\"\n",
        "res = re.sub(r\"[^\\w\\s]\",\"\",string)\n",
        "print(res)"
      ]
    }
  ],
  "metadata": {
    "kernelspec": {
      "display_name": "Python 3 (ipykernel)",
      "language": "python",
      "name": "python3"
    },
    "language_info": {
      "codemirror_mode": {
        "name": "ipython",
        "version": 3
      },
      "file_extension": ".py",
      "mimetype": "text/x-python",
      "name": "python",
      "nbconvert_exporter": "python",
      "pygments_lexer": "ipython3",
      "version": "3.9.10"
    },
    "colab": {
      "provenance": [],
      "include_colab_link": true
    }
  },
  "nbformat": 4,
  "nbformat_minor": 5
}