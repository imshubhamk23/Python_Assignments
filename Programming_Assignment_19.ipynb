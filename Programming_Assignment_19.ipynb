{
  "cells": [
    {
      "cell_type": "markdown",
      "metadata": {
        "id": "view-in-github",
        "colab_type": "text"
      },
      "source": [
        "<a href=\"https://colab.research.google.com/github/imshubhamk23/Python_Assignments/blob/main/Programming_Assignment_19.ipynb\" target=\"_parent\"><img src=\"https://colab.research.google.com/assets/colab-badge.svg\" alt=\"Open In Colab\"/></a>"
      ]
    },
    {
      "cell_type": "markdown",
      "id": "eba3eea8",
      "metadata": {
        "id": "eba3eea8"
      },
      "source": [
        "Question1\n",
        "\n",
        "Create a function that takes a string and returns a string in which each character is repeated once.\n",
        "    \n",
        "    Examples\n",
        "    double_char(\"String\") ➞ \"SSttrriinngg\"\n",
        "\n",
        "    double_char(\"Hello World!\") ➞ \"HHeelllloo  WWoorrlldd!!\"\n",
        "\n",
        "    double_char(\"1234!_ \") ➞ \"11223344!!__  \"\n"
      ]
    },
    {
      "cell_type": "code",
      "execution_count": null,
      "id": "ca8f14d2",
      "metadata": {
        "id": "ca8f14d2"
      },
      "outputs": [],
      "source": [
        "def double_char(string):\n",
        "    string1 = []\n",
        "    for i in string:\n",
        "        string1.append(i*2)\n",
        "    print(\"\".join(string1))"
      ]
    },
    {
      "cell_type": "code",
      "execution_count": null,
      "id": "5e874065",
      "metadata": {
        "id": "5e874065",
        "outputId": "dc272a60-aa5f-4c3d-a475-3ed7a1cb577b"
      },
      "outputs": [
        {
          "name": "stdout",
          "output_type": "stream",
          "text": [
            "SSttrriinngg\n"
          ]
        }
      ],
      "source": [
        "double_char(\"String\")"
      ]
    },
    {
      "cell_type": "code",
      "execution_count": null,
      "id": "8bdd05f4",
      "metadata": {
        "id": "8bdd05f4",
        "outputId": "51c63a30-36cc-46fa-c054-75f21dbc1603"
      },
      "outputs": [
        {
          "name": "stdout",
          "output_type": "stream",
          "text": [
            "HHeelllloo  WWoorrlldd!!\n"
          ]
        }
      ],
      "source": [
        "double_char(\"Hello World!\")"
      ]
    },
    {
      "cell_type": "code",
      "execution_count": null,
      "id": "f533e0a8",
      "metadata": {
        "id": "f533e0a8",
        "outputId": "3efd18df-99b2-438a-f2c7-bbc8aa319e36"
      },
      "outputs": [
        {
          "name": "stdout",
          "output_type": "stream",
          "text": [
            "11223344!!__  \n"
          ]
        }
      ],
      "source": [
        "double_char(\"1234!_ \")"
      ]
    },
    {
      "cell_type": "markdown",
      "id": "822bd0cf",
      "metadata": {
        "id": "822bd0cf"
      },
      "source": [
        "Question2\n",
        "\n",
        "Create a function that reverses a boolean value and returns the string \"boolean expected\" if another variable type is given.\n",
        "    \n",
        "    Examples\n",
        "    reverse(True) ➞ False\n",
        "    \n",
        "    reverse(False) ➞ True\n",
        "    \n",
        "    reverse(0) ➞ \"boolean expected\"\n",
        "    \n",
        "    reverse(None) ➞ \"boolean expected\""
      ]
    },
    {
      "cell_type": "code",
      "execution_count": null,
      "id": "5b4fa36a",
      "metadata": {
        "id": "5b4fa36a"
      },
      "outputs": [],
      "source": [
        "def reverse(val):\n",
        "    val = str(val)\n",
        "    if val == \"True\":\n",
        "        return False\n",
        "    elif val == \"False\":\n",
        "        return True\n",
        "    elif val == \"0\" or val == \"1\":\n",
        "        return \"boolean expected\"\n",
        "    else:\n",
        "        return \"boolean expected\""
      ]
    },
    {
      "cell_type": "code",
      "execution_count": null,
      "id": "2a5e23a6",
      "metadata": {
        "id": "2a5e23a6",
        "outputId": "cc10322b-405d-414b-fc0a-d9377d3fea80"
      },
      "outputs": [
        {
          "data": {
            "text/plain": [
              "False"
            ]
          },
          "execution_count": 48,
          "metadata": {},
          "output_type": "execute_result"
        }
      ],
      "source": [
        "reverse(True)"
      ]
    },
    {
      "cell_type": "code",
      "execution_count": null,
      "id": "2de6c423",
      "metadata": {
        "id": "2de6c423",
        "outputId": "9ce729b5-1822-4c76-cc9e-fbecb10ff821"
      },
      "outputs": [
        {
          "data": {
            "text/plain": [
              "True"
            ]
          },
          "execution_count": 49,
          "metadata": {},
          "output_type": "execute_result"
        }
      ],
      "source": [
        "reverse(False)"
      ]
    },
    {
      "cell_type": "code",
      "execution_count": null,
      "id": "a09bb575",
      "metadata": {
        "id": "a09bb575",
        "outputId": "f1b9b4fb-ee2f-403d-a65b-96db1b0f14c2"
      },
      "outputs": [
        {
          "data": {
            "text/plain": [
              "'boolean expected'"
            ]
          },
          "execution_count": 50,
          "metadata": {},
          "output_type": "execute_result"
        }
      ],
      "source": [
        "reverse(0)"
      ]
    },
    {
      "cell_type": "code",
      "execution_count": null,
      "id": "fb7738e9",
      "metadata": {
        "id": "fb7738e9",
        "outputId": "7664fd59-f84d-4df8-917b-2b3703c64e23"
      },
      "outputs": [
        {
          "data": {
            "text/plain": [
              "'boolean expected'"
            ]
          },
          "execution_count": 46,
          "metadata": {},
          "output_type": "execute_result"
        }
      ],
      "source": [
        "reverse(None)"
      ]
    },
    {
      "cell_type": "markdown",
      "id": "7b556549",
      "metadata": {
        "id": "7b556549"
      },
      "source": [
        "Question3\n",
        "\n",
        "Create a function that returns the thickness (in meters) of a piece of paper after folding it n number of times. The paper starts off with a thickness of 0.5mm.\n",
        "    \n",
        "    Examples\n",
        "    num_layers(1) ➞ \"0.001m\"\n",
        "    # Paper folded once is 1mm (equal to 0.001m)\n",
        "    \n",
        "    num_layers(4) ➞ \"0.008m\"\n",
        "    # Paper folded 4 times is 8mm (equal to 0.008m)\n",
        "    \n",
        "    num_layers(21) ➞ \"1048.576m\"\n",
        "    # Paper folded 21 times is 1048576mm (equal to 1048.576m)\n"
      ]
    },
    {
      "cell_type": "code",
      "execution_count": null,
      "id": "67306e0c",
      "metadata": {
        "id": "67306e0c"
      },
      "outputs": [],
      "source": [
        "def num_layers(num):\n",
        "    thk = 0.5\n",
        "    for i in range(num):\n",
        "        thk = thk*2\n",
        "    return f\"{thk/1000}m\"\n",
        "    "
      ]
    },
    {
      "cell_type": "code",
      "execution_count": null,
      "id": "5c3160d8",
      "metadata": {
        "id": "5c3160d8",
        "outputId": "8d6582d5-2230-4f58-c7e2-1c0f7ae46cae"
      },
      "outputs": [
        {
          "data": {
            "text/plain": [
              "'0.001m'"
            ]
          },
          "execution_count": 52,
          "metadata": {},
          "output_type": "execute_result"
        }
      ],
      "source": [
        "num_layers(1)"
      ]
    },
    {
      "cell_type": "code",
      "execution_count": null,
      "id": "0fbd27e6",
      "metadata": {
        "id": "0fbd27e6",
        "outputId": "f68a9440-2a3b-4266-86bf-6db188692d11"
      },
      "outputs": [
        {
          "data": {
            "text/plain": [
              "'0.008m'"
            ]
          },
          "execution_count": 53,
          "metadata": {},
          "output_type": "execute_result"
        }
      ],
      "source": [
        "num_layers(4)"
      ]
    },
    {
      "cell_type": "code",
      "execution_count": null,
      "id": "405a8069",
      "metadata": {
        "id": "405a8069",
        "outputId": "70fb5230-4ed7-44d0-ce46-d85da66aeb64"
      },
      "outputs": [
        {
          "data": {
            "text/plain": [
              "'1048.576m'"
            ]
          },
          "execution_count": 54,
          "metadata": {},
          "output_type": "execute_result"
        }
      ],
      "source": [
        "num_layers(21)"
      ]
    },
    {
      "cell_type": "markdown",
      "id": "cfc27b55",
      "metadata": {
        "id": "cfc27b55"
      },
      "source": [
        "Question4\n",
        "\n",
        "Create a function that takes a single string as argument and returns an ordered list containing the indices of all capital letters in the string.\n",
        "\n",
        "    Examples\n",
        "    index_of_caps(\"eDaBiT\") ➞ [1, 3, 5]\n",
        "    \n",
        "    index_of_caps(\"eQuINoX\") ➞ [1, 3, 4, 6]\n",
        "    \n",
        "    index_of_caps(\"determine\") ➞ []\n",
        "    \n",
        "    index_of_caps(\"STRIKE\") ➞ [0, 1, 2, 3, 4, 5]\n",
        "    \n",
        "    index_of_caps(\"sUn\") ➞ [1]\n",
        "\n"
      ]
    },
    {
      "cell_type": "code",
      "execution_count": null,
      "id": "769e05ff",
      "metadata": {
        "id": "769e05ff"
      },
      "outputs": [],
      "source": [
        "def index_of_caps(string):\n",
        "    lst = []\n",
        "    for i in string:\n",
        "        if i.isupper():\n",
        "            x = string.index(i)\n",
        "            lst.append(x)\n",
        "    return lst\n",
        "        "
      ]
    },
    {
      "cell_type": "code",
      "execution_count": null,
      "id": "ceadd4b3",
      "metadata": {
        "id": "ceadd4b3",
        "outputId": "d02a18a7-1bdb-48f3-eb30-641ea051255e"
      },
      "outputs": [
        {
          "data": {
            "text/plain": [
              "[1, 3, 5]"
            ]
          },
          "execution_count": 62,
          "metadata": {},
          "output_type": "execute_result"
        }
      ],
      "source": [
        "index_of_caps(\"eDaBiT\")"
      ]
    },
    {
      "cell_type": "code",
      "execution_count": null,
      "id": "bef3f05d",
      "metadata": {
        "id": "bef3f05d",
        "outputId": "79f29194-64ee-4a0d-e260-93acbc7fff00"
      },
      "outputs": [
        {
          "data": {
            "text/plain": [
              "[1, 3, 4, 6]"
            ]
          },
          "execution_count": 63,
          "metadata": {},
          "output_type": "execute_result"
        }
      ],
      "source": [
        "index_of_caps(\"eQuINoX\")"
      ]
    },
    {
      "cell_type": "code",
      "execution_count": null,
      "id": "6bc249b7",
      "metadata": {
        "id": "6bc249b7",
        "outputId": "1d89723b-9a26-49b3-a88b-5f444ee72593"
      },
      "outputs": [
        {
          "data": {
            "text/plain": [
              "[]"
            ]
          },
          "execution_count": 64,
          "metadata": {},
          "output_type": "execute_result"
        }
      ],
      "source": [
        "index_of_caps(\"determine\")"
      ]
    },
    {
      "cell_type": "code",
      "execution_count": null,
      "id": "d3b5f3dd",
      "metadata": {
        "id": "d3b5f3dd",
        "outputId": "aa0f9ea0-c03e-4ba8-cb9d-8a916214dcfc"
      },
      "outputs": [
        {
          "data": {
            "text/plain": [
              "[0, 1, 2, 3, 4, 5]"
            ]
          },
          "execution_count": 65,
          "metadata": {},
          "output_type": "execute_result"
        }
      ],
      "source": [
        "index_of_caps(\"STRIKE\")"
      ]
    },
    {
      "cell_type": "code",
      "execution_count": null,
      "id": "a48fb6a2",
      "metadata": {
        "id": "a48fb6a2",
        "outputId": "82b552b8-cdf8-4539-bda2-a3523d726f64"
      },
      "outputs": [
        {
          "data": {
            "text/plain": [
              "[1]"
            ]
          },
          "execution_count": 66,
          "metadata": {},
          "output_type": "execute_result"
        }
      ],
      "source": [
        "index_of_caps(\"sUn\")"
      ]
    },
    {
      "cell_type": "markdown",
      "id": "236f2de1",
      "metadata": {
        "id": "236f2de1"
      },
      "source": [
        "Question5\n",
        "\n",
        "Using list comprehensions, create a function that finds all even numbers from 1 to the given number.\n",
        "\n",
        "    Examples\n",
        "    find_even_nums(8) ➞ [2, 4, 6, 8]\n",
        "    \n",
        "    find_even_nums(4) ➞ [2, 4]\n",
        "    \n",
        "    find_even_nums(2) ➞ [2]"
      ]
    },
    {
      "cell_type": "code",
      "execution_count": null,
      "id": "35c4b5b3",
      "metadata": {
        "id": "35c4b5b3"
      },
      "outputs": [],
      "source": [
        "def find_even_nums(num):\n",
        "    lst = []\n",
        "    for i in range(num+1):\n",
        "        if i%2 == 0:\n",
        "            lst.append(i)\n",
        "    return lst        "
      ]
    },
    {
      "cell_type": "code",
      "execution_count": null,
      "id": "b849d4c0",
      "metadata": {
        "id": "b849d4c0",
        "outputId": "3aa5d841-dbd0-4c01-83ab-806cb9798815"
      },
      "outputs": [
        {
          "data": {
            "text/plain": [
              "[0, 2, 4, 6, 8]"
            ]
          },
          "execution_count": 74,
          "metadata": {},
          "output_type": "execute_result"
        }
      ],
      "source": [
        "find_even_nums(8)"
      ]
    },
    {
      "cell_type": "code",
      "execution_count": null,
      "id": "cf6c3e74",
      "metadata": {
        "id": "cf6c3e74",
        "outputId": "c2c45726-34c4-423d-969e-3c970b84f0c6"
      },
      "outputs": [
        {
          "data": {
            "text/plain": [
              "[0, 2, 4]"
            ]
          },
          "execution_count": 75,
          "metadata": {},
          "output_type": "execute_result"
        }
      ],
      "source": [
        "find_even_nums(4)"
      ]
    },
    {
      "cell_type": "code",
      "execution_count": null,
      "id": "d1b421f4",
      "metadata": {
        "id": "d1b421f4",
        "outputId": "50c1d04c-70d4-4488-dc0f-f95431e69c52"
      },
      "outputs": [
        {
          "data": {
            "text/plain": [
              "[0, 2]"
            ]
          },
          "execution_count": 76,
          "metadata": {},
          "output_type": "execute_result"
        }
      ],
      "source": [
        "find_even_nums(2)"
      ]
    }
  ],
  "metadata": {
    "kernelspec": {
      "display_name": "Python 3 (ipykernel)",
      "language": "python",
      "name": "python3"
    },
    "language_info": {
      "codemirror_mode": {
        "name": "ipython",
        "version": 3
      },
      "file_extension": ".py",
      "mimetype": "text/x-python",
      "name": "python",
      "nbconvert_exporter": "python",
      "pygments_lexer": "ipython3",
      "version": "3.11.1"
    },
    "colab": {
      "provenance": [],
      "include_colab_link": true
    }
  },
  "nbformat": 4,
  "nbformat_minor": 5
}