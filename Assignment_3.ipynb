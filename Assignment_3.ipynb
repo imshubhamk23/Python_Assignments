{
  "nbformat": 4,
  "nbformat_minor": 0,
  "metadata": {
    "colab": {
      "provenance": [],
      "collapsed_sections": [],
      "authorship_tag": "ABX9TyM1RcsNHUVKiu2AaUkUoXJq",
      "include_colab_link": true
    },
    "kernelspec": {
      "name": "python3",
      "display_name": "Python 3"
    },
    "language_info": {
      "name": "python"
    }
  },
  "cells": [
    {
      "cell_type": "markdown",
      "metadata": {
        "id": "view-in-github",
        "colab_type": "text"
      },
      "source": [
        "<a href=\"https://colab.research.google.com/github/imshubhamk23/Python_Assignments/blob/main/Assignment_3.ipynb\" target=\"_parent\"><img src=\"https://colab.research.google.com/assets/colab-badge.svg\" alt=\"Open In Colab\"/></a>"
      ]
    },
    {
      "cell_type": "markdown",
      "source": [
        "#1. Why are functions advantageous to have in your programs?\n",
        "\n",
        "  Functions are a group of instructions performing a particular task.\n",
        "  When a program becomes big and becomes complex. It becomes difficult to keep a track of what code is performing what actions in the program. Also if there are any repeated set of instructions we need in program then the programmer has to write them again and again. \n",
        "  In such cases, a programmer can create a function of codes, which he can use again and again in the program. This saves lot of time and complexity of the code decreases. This can help to keep a program bug free. "
      ],
      "metadata": {
        "id": "f7oc3Nts13zC"
      }
    },
    {
      "cell_type": "markdown",
      "source": [
        "#2. When does the code in a function run: when it&#39;s specified or when it&#39;s called?\n",
        "\n",
        "\n",
        "  The function runs when it is called not when it's specified. \n",
        "  When a function is called, the program leaves the current section of code which is being executed and enters the function. When the program enters the function it starts executing it line by line. At the end of function a value is returned from it and that value is further used by the program to execute the code wich is written further i.e outside the function. "
      ],
      "metadata": {
        "id": "F6mfMouJ2x2x"
      }
    },
    {
      "cell_type": "markdown",
      "source": [
        "#3. What statement creates a function?\n",
        "\n",
        "Funtion is created by \"def\" keyword followed by \"function name\" and closed parenthesis where values are entered. For eg:-\n"
      ],
      "metadata": {
        "id": "FYAAMeAG4Bda"
      }
    },
    {
      "cell_type": "code",
      "source": [
        "def square(n):\n",
        "  sq = n**2\n",
        "  return sq\n",
        "\n",
        "square(2)"
      ],
      "metadata": {
        "colab": {
          "base_uri": "https://localhost:8080/"
        },
        "id": "8PF2mnBS45Ua",
        "outputId": "3540b9e0-4eeb-4992-eb57-60d52b2e43b0"
      },
      "execution_count": 1,
      "outputs": [
        {
          "output_type": "execute_result",
          "data": {
            "text/plain": [
              "4"
            ]
          },
          "metadata": {},
          "execution_count": 1
        }
      ]
    },
    {
      "cell_type": "markdown",
      "source": [
        "#4. What is the difference between a function and a function call?\n",
        "\n",
        "Function is a set of codes which perform a particular task. They accept parameters and return a value by performing calculations or actions on it. Functions are of 2 types i)Predefined ii) User-defined.\n",
        "\n",
        "Function call is a step or code where we pass parameters to the functions and expect a calculated value which can nbe further used by program. "
      ],
      "metadata": {
        "id": "wXEHzvgq5hxx"
      }
    },
    {
      "cell_type": "code",
      "source": [
        "# For eg:\n",
        "\n",
        "#This is a function\n",
        "def square(n): \n",
        "  sq = n**2\n",
        "  return sq\n",
        "\n",
        "#This is function call\n",
        "square(2)"
      ],
      "metadata": {
        "id": "7cAFof9i60Za"
      },
      "execution_count": null,
      "outputs": []
    },
    {
      "cell_type": "markdown",
      "source": [
        "#5. How many global scopes are there in a Python program? How many local scopes?\n",
        "\n",
        "Global scopes can be there n number of times since they are specified outside of a function and can be accessed globally by the program.\n",
        "However in local scope, variables are defined inside the function and cannot be accessed globally. Also there is enclosed scope which comes under local scope. It inclued variables which are defined for a function which lies inside of another function. \n"
      ],
      "metadata": {
        "id": "WDwRtw5i5z95"
      }
    },
    {
      "cell_type": "markdown",
      "source": [
        "#6. What happens to variables in a local scope when the function call returns?\n",
        "\n",
        "Variables with a local scope are accessible from the point they are initialised in a function till the function ends and it exists as long as the function is being executed. The variables in local scope cannot be accessed outside the function. They are only availabe for the function. "
      ],
      "metadata": {
        "id": "ZzUwGTO3-PpS"
      }
    },
    {
      "cell_type": "markdown",
      "source": [
        "#7. What is the concept of a return value? Is it possible to have a return value in an expression?\n",
        "\n",
        "Return value is the value return by the function after it's execution. When  a function is called it is supplied with parameters. The function then uses this parameters to do the necessary calculation on it which are defined in the function and it returns a calculated value. This value is called as return value. \n",
        "Yes it is possible to use this return value in any expression. "
      ],
      "metadata": {
        "id": "PeN4i_qT_Caq"
      }
    },
    {
      "cell_type": "markdown",
      "source": [
        "#8. If a function does not have a return statement, what is the return value of a call to that function?\n",
        "\n",
        "If a function does not contain any return statement the the funtion will not return any value i.e the return value of that function will be null.\n"
      ],
      "metadata": {
        "id": "IZncFaZ1_viS"
      }
    },
    {
      "cell_type": "markdown",
      "source": [
        "#9. How do you make a function variable refer to the global variable?\n",
        "\n",
        "We can make a function refer to global variable by using global keyword. Howeber, first we have to declare which variables are global in the program.\n"
      ],
      "metadata": {
        "id": "acqFVV-pBUGK"
      }
    },
    {
      "cell_type": "markdown",
      "source": [
        "#10. What is the data type of None?\n",
        "\n",
        "Data type of None is NoneType"
      ],
      "metadata": {
        "id": "SfzpI2XLCGmZ"
      }
    },
    {
      "cell_type": "markdown",
      "source": [
        "#11. What does the sentence import areallyourpetsnamederic do?\n",
        "\n",
        "import statement imports the module which in this case is areallyourpetsnamederic. However this isnt a real python module. Python will throw a error stating \n",
        "ModuleNotFoundError: No module named areallyourpetsnamederic"
      ],
      "metadata": {
        "id": "ZKYPuJU1C2AS"
      }
    },
    {
      "cell_type": "markdown",
      "source": [
        "#12. If you had a bacon() feature in a spam module, what would you call it after importing spam?\n",
        "\n",
        "It can be called by \n",
        "import spam\n",
        "spam.bacon()"
      ],
      "metadata": {
        "id": "oeuaMtuoDHYV"
      }
    },
    {
      "cell_type": "markdown",
      "source": [
        "#13. What can you do to save a programme from crashing if it encounters an error?\n",
        "\n",
        "If we know that a particular line of code can cause an error and this may cause the program to crash then we can put that line of code in try syntax. "
      ],
      "metadata": {
        "id": "Z8ucrrrREnUS"
      }
    },
    {
      "cell_type": "markdown",
      "source": [
        "#14. What is the purpose of the try clause? What is the purpose of the except clause?\n",
        "\n",
        "The try block is used to see if the program can cause error and after that there is a except block. The except block is used to handle the error if the try block finds errors in program. After try and except blocks there is else block. else block is executed when there are not errors in Try and execpt block is not executed. \n",
        "\n"
      ],
      "metadata": {
        "id": "tLoB_RuAFNPq"
      }
    }
  ]
}