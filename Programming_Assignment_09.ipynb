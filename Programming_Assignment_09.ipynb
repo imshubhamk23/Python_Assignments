{
  "cells": [
    {
      "cell_type": "markdown",
      "metadata": {
        "id": "view-in-github",
        "colab_type": "text"
      },
      "source": [
        "<a href=\"https://colab.research.google.com/github/imshubhamk23/Python_Assignments/blob/main/Programming_Assignment_9.ipynb\" target=\"_parent\"><img src=\"https://colab.research.google.com/assets/colab-badge.svg\" alt=\"Open In Colab\"/></a>"
      ]
    },
    {
      "cell_type": "markdown",
      "id": "e874b332",
      "metadata": {
        "id": "e874b332"
      },
      "source": [
        "1. Write a Python program to check if the given number is a Disarium Number?\n",
        "\n",
        "    A number is said to be the Disarium number when the sum of its digit raised to the power of their respective positions is equal to the number itself.\n",
        "\n",
        " For example, 175 is a Disarium number as follows\n",
        "\n",
        "  11 + 72 + 53 = 1 + 49 + 125 = 175"
      ]
    },
    {
      "cell_type": "code",
      "execution_count": null,
      "id": "a173f64c",
      "metadata": {
        "id": "a173f64c"
      },
      "outputs": [],
      "source": [
        "def disarium(num):\n",
        "    num1 = num\n",
        "    l=[]\n",
        "    s=[]\n",
        "    for i in str(num1):\n",
        "        l.append(int(i))\n",
        "    for count,num1 in enumerate(l):\n",
        "        sq = num1 ** (count+1)\n",
        "        s.append(sq)\n",
        "    if sum(s) == int(num):\n",
        "        print('The number is Disarium')\n",
        "    else:\n",
        "        print(\"The number is not Disarium\")"
      ]
    },
    {
      "cell_type": "code",
      "execution_count": null,
      "id": "f2ac362f",
      "metadata": {
        "id": "f2ac362f",
        "outputId": "468b65f7-e873-47ea-b463-2c03afaf4aef"
      },
      "outputs": [
        {
          "name": "stdout",
          "output_type": "stream",
          "text": [
            "The number is Disarium\n",
            "The number is not Disarium\n"
          ]
        }
      ],
      "source": [
        "disarium(175)\n",
        "disarium(145)"
      ]
    },
    {
      "cell_type": "markdown",
      "id": "8a5de8a1",
      "metadata": {
        "id": "8a5de8a1"
      },
      "source": [
        "2. Write a Python program to print all disarium numbers between 1 to 100?"
      ]
    },
    {
      "cell_type": "code",
      "execution_count": null,
      "id": "cb3d69b9",
      "metadata": {
        "id": "cb3d69b9"
      },
      "outputs": [],
      "source": [
        "def disariumrange(a,b):\n",
        "    for num in range(a,b+1):\n",
        "        num1 = num\n",
        "        l=[]\n",
        "        s=[]\n",
        "        for i in str(num1):\n",
        "            l.append(int(i))\n",
        "        for count,num1 in enumerate(l):\n",
        "            sq = num1 ** (count+1)\n",
        "            s.append(sq)\n",
        "        if sum(s) == int(num):\n",
        "            print(sum(s))"
      ]
    },
    {
      "cell_type": "code",
      "execution_count": null,
      "id": "e02d79bd",
      "metadata": {
        "id": "e02d79bd",
        "outputId": "7627b1b8-63b7-4eb6-f99d-a602ae6c81aa"
      },
      "outputs": [
        {
          "name": "stdout",
          "output_type": "stream",
          "text": [
            "1\n",
            "2\n",
            "3\n",
            "4\n",
            "5\n",
            "6\n",
            "7\n",
            "8\n",
            "9\n",
            "89\n"
          ]
        }
      ],
      "source": [
        "disariumrange(1,100)"
      ]
    },
    {
      "cell_type": "markdown",
      "id": "50121929",
      "metadata": {
        "id": "50121929"
      },
      "source": [
        "3. Write a Python program to check if the given number is Happy Number?"
      ]
    },
    {
      "cell_type": "code",
      "execution_count": null,
      "id": "994224f6",
      "metadata": {
        "id": "994224f6"
      },
      "outputs": [],
      "source": [
        "def happynum(num):\n",
        "    past = set()\n",
        "    while num != 1:\n",
        "        num = sum(int(i)**2 for i in str(num))\n",
        "        if num in past:\n",
        "            return False\n",
        "        past.add(num)\n",
        "    return True"
      ]
    },
    {
      "cell_type": "code",
      "execution_count": null,
      "id": "678d366c",
      "metadata": {
        "id": "678d366c",
        "outputId": "1780555a-583c-4ae5-caec-01abb8f5ac49"
      },
      "outputs": [
        {
          "name": "stdout",
          "output_type": "stream",
          "text": [
            "True\n"
          ]
        }
      ],
      "source": [
        "print(happynum(19))"
      ]
    },
    {
      "cell_type": "markdown",
      "id": "039654fc",
      "metadata": {
        "id": "039654fc"
      },
      "source": [
        "4. Write a Python program to print all happy numbers between 1 and 100?"
      ]
    },
    {
      "cell_type": "code",
      "execution_count": null,
      "id": "203d89d8",
      "metadata": {
        "id": "203d89d8"
      },
      "outputs": [],
      "source": [
        "def happyNumRange(num1,num2):\n",
        "    def check_happy(number):\n",
        "        remainder = 0\n",
        "        happy_num = 0;    \n",
        "        while(number > 0):    \n",
        "            remainder = number%10;    \n",
        "            happy_num = happy_num + (remainder*remainder);    \n",
        "            number = number//10;\n",
        "        return happy_num;\n",
        "    \n",
        "    lower = num1\n",
        "    upper = num2\n",
        "    print(\"HAPPY NUMBERS WITHIN RANGE({},{}) ARE -\".format(lower,upper))\n",
        "    for i in range(lower,upper+1):\n",
        "        happy_num = i\n",
        "        while(happy_num != 1 and happy_num != 4):\n",
        "            happy_num = check_happy(happy_num)\n",
        "        if(happy_num == 1):\n",
        "            print(i,end=\" \")"
      ]
    },
    {
      "cell_type": "code",
      "execution_count": null,
      "id": "4acdbafc",
      "metadata": {
        "id": "4acdbafc",
        "outputId": "eeff8d6c-4301-4c2f-98c2-d22ec0b65e16"
      },
      "outputs": [
        {
          "name": "stdout",
          "output_type": "stream",
          "text": [
            "HAPPY NUMBERS WITHIN RANGE(1,100) ARE -\n",
            "1 7 10 13 19 23 28 31 32 44 49 68 70 79 82 86 91 94 97 100 "
          ]
        }
      ],
      "source": [
        "happyNumRange(1,100)"
      ]
    },
    {
      "cell_type": "markdown",
      "id": "c244e494",
      "metadata": {
        "id": "c244e494"
      },
      "source": [
        "5. Write a Python program to determine whether the given number is a Harshad Number?\n",
        "   \n",
        "   Any number which is divisble by it's digits is called as Harshad Number.\n",
        "   \n",
        "   For eg:- 21 :- 21/2+1 = 21/3 = 7 \n",
        "  \n",
        "  i.e 21 % 2+1 == 0. Therefore 21 is a Harshad Number."
      ]
    },
    {
      "cell_type": "code",
      "execution_count": null,
      "id": "2d9e3a95",
      "metadata": {
        "id": "2d9e3a95"
      },
      "outputs": [],
      "source": [
        "def harshadNum(num):\n",
        "    num1 = sum(int(i) for i in str(num))\n",
        "    if num % num1 == 0:\n",
        "        print('The number is Harshad Number')\n",
        "    else:\n",
        "        print(\"The number is not a Harshad Number\")"
      ]
    },
    {
      "cell_type": "code",
      "execution_count": null,
      "id": "bc59e0a7",
      "metadata": {
        "id": "bc59e0a7",
        "outputId": "36315cbc-4cce-41cc-9ecc-a70bcce69ce3"
      },
      "outputs": [
        {
          "name": "stdout",
          "output_type": "stream",
          "text": [
            "The number is Harshad Number\n"
          ]
        }
      ],
      "source": [
        "harshadNum(21)"
      ]
    },
    {
      "cell_type": "markdown",
      "id": "c1106b2c",
      "metadata": {
        "id": "c1106b2c"
      },
      "source": [
        "6. Write a Python program to print all pronic numbers between 1 and 100?\n",
        "\n",
        "    Pronic numbers are the product of two consequtive integers.\n",
        "    \n",
        "    They are the form of n * (n+1)\n",
        "    "
      ]
    },
    {
      "cell_type": "code",
      "execution_count": 1,
      "id": "0520e764",
      "metadata": {
        "id": "0520e764"
      },
      "outputs": [],
      "source": [
        "def pronicNum(num1,num2):\n",
        "    for i in range(num1,num2+1):\n",
        "        prod = i * (i+1)\n",
        "        print(prod)"
      ]
    },
    {
      "cell_type": "code",
      "execution_count": 2,
      "id": "ad67a4cc",
      "metadata": {
        "colab": {
          "base_uri": "https://localhost:8080/"
        },
        "id": "ad67a4cc",
        "outputId": "a32d1e54-277d-4e94-f8b8-1c21adc60fed"
      },
      "outputs": [
        {
          "output_type": "stream",
          "name": "stdout",
          "text": [
            "2\n",
            "6\n",
            "12\n",
            "20\n",
            "30\n",
            "42\n",
            "56\n",
            "72\n",
            "90\n",
            "110\n",
            "132\n",
            "156\n",
            "182\n",
            "210\n",
            "240\n",
            "272\n",
            "306\n",
            "342\n",
            "380\n",
            "420\n",
            "462\n",
            "506\n",
            "552\n",
            "600\n",
            "650\n",
            "702\n",
            "756\n",
            "812\n",
            "870\n",
            "930\n",
            "992\n",
            "1056\n",
            "1122\n",
            "1190\n",
            "1260\n",
            "1332\n",
            "1406\n",
            "1482\n",
            "1560\n",
            "1640\n",
            "1722\n",
            "1806\n",
            "1892\n",
            "1980\n",
            "2070\n",
            "2162\n",
            "2256\n",
            "2352\n",
            "2450\n",
            "2550\n",
            "2652\n",
            "2756\n",
            "2862\n",
            "2970\n",
            "3080\n",
            "3192\n",
            "3306\n",
            "3422\n",
            "3540\n",
            "3660\n",
            "3782\n",
            "3906\n",
            "4032\n",
            "4160\n",
            "4290\n",
            "4422\n",
            "4556\n",
            "4692\n",
            "4830\n",
            "4970\n",
            "5112\n",
            "5256\n",
            "5402\n",
            "5550\n",
            "5700\n",
            "5852\n",
            "6006\n",
            "6162\n",
            "6320\n",
            "6480\n",
            "6642\n",
            "6806\n",
            "6972\n",
            "7140\n",
            "7310\n",
            "7482\n",
            "7656\n",
            "7832\n",
            "8010\n",
            "8190\n",
            "8372\n",
            "8556\n",
            "8742\n",
            "8930\n",
            "9120\n",
            "9312\n",
            "9506\n",
            "9702\n",
            "9900\n",
            "10100\n"
          ]
        }
      ],
      "source": [
        "pronicNum(1,100)"
      ]
    },
    {
      "cell_type": "code",
      "source": [],
      "metadata": {
        "id": "9XK5q2z2iz8Z"
      },
      "id": "9XK5q2z2iz8Z",
      "execution_count": null,
      "outputs": []
    }
  ],
  "metadata": {
    "kernelspec": {
      "display_name": "Python 3 (ipykernel)",
      "language": "python",
      "name": "python3"
    },
    "language_info": {
      "codemirror_mode": {
        "name": "ipython",
        "version": 3
      },
      "file_extension": ".py",
      "mimetype": "text/x-python",
      "name": "python",
      "nbconvert_exporter": "python",
      "pygments_lexer": "ipython3",
      "version": "3.9.10"
    },
    "colab": {
      "provenance": [],
      "include_colab_link": true
    }
  },
  "nbformat": 4,
  "nbformat_minor": 5
}
