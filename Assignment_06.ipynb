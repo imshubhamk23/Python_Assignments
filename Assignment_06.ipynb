{
  "nbformat": 4,
  "nbformat_minor": 0,
  "metadata": {
    "colab": {
      "provenance": [],
      "collapsed_sections": [],
      "authorship_tag": "ABX9TyP73BO4uLR1di4SZpgXyeiI",
      "include_colab_link": true
    },
    "kernelspec": {
      "name": "python3",
      "display_name": "Python 3"
    },
    "language_info": {
      "name": "python"
    }
  },
  "cells": [
    {
      "cell_type": "markdown",
      "metadata": {
        "id": "view-in-github",
        "colab_type": "text"
      },
      "source": [
        "<a href=\"https://colab.research.google.com/github/imshubhamk23/Python_Assignments/blob/main/Assignment_6.ipynb\" target=\"_parent\"><img src=\"https://colab.research.google.com/assets/colab-badge.svg\" alt=\"Open In Colab\"/></a>"
      ]
    },
    {
      "cell_type": "markdown",
      "source": [
        "#1. What are escape characters, and how do you use them?\n",
        "\n",
        "Escape characters allow us to use special characters in a string which are not possible to enter directly in a string. \n",
        "We can use them by entering them before the character we want to add. The escape characters mainly used are:- \n",
        "\n",
        "Escape sequence | Meaning\n",
        "-|-\n",
        "\\ | backslash\n",
        "' | single quote\n",
        "\" | double quote\n",
        "\\n | Linefeed(adds new line)\n",
        "\\b | backspace"
      ],
      "metadata": {
        "id": "YAbhxqSaLrS9"
      }
    },
    {
      "cell_type": "code",
      "source": [
        "# for exaple\n",
        "s = 'Hello! How\\'re you?'\n",
        "print(s)\n",
        "s = \"We can add \\nthis \\nin multiline\"\n",
        "print(s)"
      ],
      "metadata": {
        "colab": {
          "base_uri": "https://localhost:8080/"
        },
        "id": "euMrGZvmMUK-",
        "outputId": "ac5e81f8-2458-4221-b2f9-17e3a9e14154"
      },
      "execution_count": 2,
      "outputs": [
        {
          "output_type": "stream",
          "name": "stdout",
          "text": [
            "Hello! How're you?\n",
            "We can add \n",
            "this \n",
            "in multiline\n"
          ]
        }
      ]
    },
    {
      "cell_type": "markdown",
      "source": [
        "#2. What do the escape characters n and t stand for?\n",
        "\n",
        "\\n stands for linefeed(adds new line) and\n",
        "\\t stands for tab"
      ],
      "metadata": {
        "id": "AKPWxuCnNX8v"
      }
    },
    {
      "cell_type": "markdown",
      "source": [
        "#3. What is the way to include backslash characters in a string?\n",
        "\n",
        "We can enter backslash (\\) in a string by using double backslash (\\\\)\n",
        "For eg:- "
      ],
      "metadata": {
        "id": "AohruOxTNln1"
      }
    },
    {
      "cell_type": "code",
      "source": [
        "y = \"Yes \\\\ No\"\n",
        "print(y)"
      ],
      "metadata": {
        "colab": {
          "base_uri": "https://localhost:8080/"
        },
        "id": "1iQ2TQm7N1db",
        "outputId": "b44b1ded-d59a-4474-d3e5-0929597ff7d9"
      },
      "execution_count": 3,
      "outputs": [
        {
          "output_type": "stream",
          "name": "stdout",
          "text": [
            "Yes \\ No\n"
          ]
        }
      ]
    },
    {
      "cell_type": "markdown",
      "source": [
        "#4. The string &quot;Howl&#39;s Moving Castle&quot; is a correct value. Why isn&#39;t the single quote character in the word Howl&#39;s not escaped a problem?\n",
        "\n",
        "It didn't cause a problem because the string is enclosed in double quotes. In double quotes we can use single quotes and if we want to use double quotes in the string then we have to enclose the string in tripe quotes. \n"
      ],
      "metadata": {
        "id": "v69a5wTBN-Z9"
      }
    },
    {
      "cell_type": "markdown",
      "source": [
        "#5. How do you write a string of newlines if you don&#39;t want to use the n character?\n",
        "\n",
        "This can be done by wrting the string enclosed in three quotes. For eg:- "
      ],
      "metadata": {
        "id": "YQPXxqm7Oa2N"
      }
    },
    {
      "cell_type": "code",
      "source": [
        "st = '''Hello\n",
        "world'''\n",
        "print(st)"
      ],
      "metadata": {
        "colab": {
          "base_uri": "https://localhost:8080/"
        },
        "id": "dreZ2iZXOSh1",
        "outputId": "62f1e469-212a-4cd2-8ddc-90c6be595cd5"
      },
      "execution_count": 5,
      "outputs": [
        {
          "output_type": "stream",
          "name": "stdout",
          "text": [
            "Hello\n",
            "world\n"
          ]
        }
      ]
    },
    {
      "cell_type": "markdown",
      "source": [
        "#6. What are the values of the given expressions?\n",
        "&#39;Hello, world!&#39;[1]\n",
        "&#39;Hello, world!&#39;[0:5]\n",
        "&#39;Hello, world!&#39;[:5]\n",
        "&#39;Hello, world!&#39;[3:]"
      ],
      "metadata": {
        "id": "T1V-jBw7Pol2"
      }
    },
    {
      "cell_type": "code",
      "source": [
        "print('Hello, world!'[1])\n",
        "print('Hello, world!'[0:5])\n",
        "print('Hello, world!'[3:])\n",
        "print('Hello, world!'[:5])"
      ],
      "metadata": {
        "colab": {
          "base_uri": "https://localhost:8080/"
        },
        "id": "vg01nhJKPtHM",
        "outputId": "3137318a-6310-4099-84cb-d3dbba607577"
      },
      "execution_count": 8,
      "outputs": [
        {
          "output_type": "stream",
          "name": "stdout",
          "text": [
            "e\n",
            "Hello\n",
            "lo, world!\n",
            "Hello\n"
          ]
        }
      ]
    },
    {
      "cell_type": "markdown",
      "source": [
        "#7. What are the values of the following expressions?\n",
        "&#39;Hello&#39;.upper()\n",
        "&#39;Hello&#39;.upper().isupper()\n",
        "&#39;Hello&#39;.upper().lower()"
      ],
      "metadata": {
        "id": "BczQgv_JQR0D"
      }
    },
    {
      "cell_type": "code",
      "source": [
        "print('Hello'.upper())\n",
        "print('Hello'.upper().isupper())\n",
        "print('Hello'.upper().lower())"
      ],
      "metadata": {
        "colab": {
          "base_uri": "https://localhost:8080/"
        },
        "id": "CkGc1kieQTdD",
        "outputId": "6a758af1-4113-4697-faea-0862da279b3a"
      },
      "execution_count": 9,
      "outputs": [
        {
          "output_type": "stream",
          "name": "stdout",
          "text": [
            "HELLO\n",
            "True\n",
            "hello\n"
          ]
        }
      ]
    },
    {
      "cell_type": "markdown",
      "source": [
        "#8. What are the values of the following expressions?\n",
        "&#39;Remember, remember, the fifth of July.&#39;.split()\n",
        "&#39;-&#39;.join(&#39;There can only one.&#39;.split())\n"
      ],
      "metadata": {
        "id": "SaqLouDnQl5z"
      }
    },
    {
      "cell_type": "code",
      "source": [
        "print('Remember, remember, the fifth of July.'.split()) \n",
        "print('-'.join('There can only one.'.split()))"
      ],
      "metadata": {
        "colab": {
          "base_uri": "https://localhost:8080/"
        },
        "id": "lnm673E_QoxE",
        "outputId": "95893bbc-ceef-490e-9d7d-ce7ba8d241eb"
      },
      "execution_count": 11,
      "outputs": [
        {
          "output_type": "stream",
          "name": "stdout",
          "text": [
            "['Remember,', 'remember,', 'the', 'fifth', 'of', 'July.']\n",
            "There-can-only-one.\n"
          ]
        }
      ]
    },
    {
      "cell_type": "markdown",
      "source": [
        "#9. What are the methods for right-justifying, left-justifying, and centering a string?\n",
        "\n",
        "The methods are rjust(), ljust and center()\n"
      ],
      "metadata": {
        "id": "YFd74nInRB_8"
      }
    },
    {
      "cell_type": "markdown",
      "source": [
        "#10. What is the best way to remove whitespace characters from the start or end?\n",
        "\n",
        "The .lstrip(), .rstrip() to remove whitespaces from left and right.\n",
        ".strip() removes whitespaces from start and end of the string."
      ],
      "metadata": {
        "id": "1yOoUp2KRT40"
      }
    }
  ]
}
