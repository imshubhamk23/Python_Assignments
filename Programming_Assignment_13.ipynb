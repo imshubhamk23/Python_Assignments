{
  "cells": [
    {
      "cell_type": "markdown",
      "metadata": {
        "id": "view-in-github",
        "colab_type": "text"
      },
      "source": [
        "<a href=\"https://colab.research.google.com/github/imshubhamk23/Python_Assignments/blob/main/Programming_Assignment_13.ipynb\" target=\"_parent\"><img src=\"https://colab.research.google.com/assets/colab-badge.svg\" alt=\"Open In Colab\"/></a>"
      ]
    },
    {
      "cell_type": "raw",
      "id": "24bf06ae",
      "metadata": {
        "id": "24bf06ae"
      },
      "source": [
        "Question 1:\n",
        "    Write a program that calculates and prints the value according to the given formula:\n",
        "    Q = Square root of [(2 * C * D)/H]\n",
        "    Following are the fixed values of C and H:\n",
        "    C is 50. H is 30.\n",
        "    D is the variable whose values should be input to your program in a comma-separated\n",
        "    sequence.\n",
        "    Example\n",
        "    Let us assume the following comma separated input sequence is given to the program:\n",
        "    100,150,180\n",
        "    The output of the program should be:\n",
        "    18,22,24\n",
        "        "
      ]
    },
    {
      "cell_type": "code",
      "execution_count": null,
      "id": "89ab5962",
      "metadata": {
        "id": "89ab5962",
        "outputId": "2563e31b-468f-4f47-8509-32a491d4745b"
      },
      "outputs": [
        {
          "name": "stdout",
          "output_type": "stream",
          "text": [
            "Enter values of D seperated by comma:- 100,150,180\n",
            "18,22,24\n"
          ]
        }
      ],
      "source": [
        "# Q = Square root of [(2 * C * D)/H]\n",
        "C = 50\n",
        "H = 30\n",
        "D = [int(x) for x in input(\"Enter values of D seperated by comma:- \").split(\",\")]\n",
        "lst = []\n",
        "for i in D:\n",
        "    Q = ((2 * C * i)/H) ** 0.5\n",
        "    lst.append(Q)\n",
        "# def round_lst(lst):\n",
        "#     return [int(round(i,-1)) for i in lst]\n",
        "rounded_list = [round(i) for i in lst]  #to round off the decimal places to zero\n",
        "rounded_list = [str(i) for i in rounded_list] # to convert each value to string\n",
        "print(','.join(rounded_list)) # to display each value in list as a string seperated by comma"
      ]
    },
    {
      "cell_type": "raw",
      "id": "665b5fdf",
      "metadata": {
        "id": "665b5fdf"
      },
      "source": [
        "Question 2:\n",
        "Write a program which takes 2 digits, X,Y as input and generates a 2-dimensional array. The\n",
        "element value in the i-th row and j-th column of the array should be i*j.\n",
        "Note: i=0,1.., X-1; j=0,1,¡Y-1.\n",
        "Example\n",
        "Suppose the following inputs are given to the program:\n",
        "3,5\n",
        "Then, the output of the program should be:\n",
        "[[0, 0, 0, 0, 0], [0, 1, 2, 3, 4], [0, 2, 4, 6, 8]]"
      ]
    },
    {
      "cell_type": "code",
      "execution_count": null,
      "id": "99d8c0c4",
      "metadata": {
        "id": "99d8c0c4",
        "outputId": "0b7cf03e-bd66-464f-b19f-1e94bd2d7fe3"
      },
      "outputs": [
        {
          "name": "stdout",
          "output_type": "stream",
          "text": [
            "Enter value of x:- 3\n",
            "Enter value of y:- 5\n",
            "[[0, 0, 0, 0, 0], [0, 1, 2, 3, 4], [0, 2, 4, 6, 8]]\n"
          ]
        }
      ],
      "source": [
        "x,y = int(input(\"Enter value of x:- \")), int(input(\"Enter value of y:- \"))\n",
        "array = []\n",
        "for i in range(x):\n",
        "    lst = []\n",
        "    for j in range(y):\n",
        "        val = i*j\n",
        "        lst.append(val)\n",
        "    array.append(lst)\n",
        "print(array)"
      ]
    },
    {
      "cell_type": "raw",
      "id": "35ad0a05",
      "metadata": {
        "id": "35ad0a05"
      },
      "source": [
        "Question 3:\n",
        "Write a program that accepts a comma separated sequence of words as input and prints the\n",
        "words in a comma-separated sequence after sorting them alphabetically.\n",
        "Suppose the following input is supplied to the program:\n",
        "without,hello,bag,world\n",
        "Then, the output should be:\n",
        "bag,hello,without,world"
      ]
    },
    {
      "cell_type": "code",
      "execution_count": null,
      "id": "9e6061c6",
      "metadata": {
        "id": "9e6061c6",
        "outputId": "de5dcbf2-09a1-425b-af2e-95a91be5203b"
      },
      "outputs": [
        {
          "name": "stdout",
          "output_type": "stream",
          "text": [
            "Enter words seperated by comma:- without,hello,bag,world\n",
            "bag,hello,without,world\n"
          ]
        }
      ],
      "source": [
        "list_input = input(\"Enter words seperated by comma:- \").split(\",\")\n",
        "list_input.sort()\n",
        "print(\",\".join(list_input))"
      ]
    },
    {
      "cell_type": "raw",
      "id": "8a068422",
      "metadata": {
        "id": "8a068422"
      },
      "source": [
        "Question 4:\n",
        "Write a program that accepts a sequence of whitespace separated words as input and prints\n",
        "the words after removing all duplicate words and sorting them alphanumerically.\n",
        "Suppose the following input is supplied to the program:\n",
        "hello world and practice makes perfect and hello world again\n",
        "Then, the output should be:\n",
        "again and hello makes perfect practice world"
      ]
    },
    {
      "cell_type": "code",
      "execution_count": null,
      "id": "7f64aa21",
      "metadata": {
        "id": "7f64aa21",
        "outputId": "b5906f6c-716b-4788-8855-c89eee7cf205"
      },
      "outputs": [
        {
          "name": "stdout",
          "output_type": "stream",
          "text": [
            "Enter sentence:- hello world and practice makes perfect and hello world again\n",
            "again,and,hello,makes,perfect,practice,world\n"
          ]
        }
      ],
      "source": [
        "string = input(\"Enter sentence:- \").split(\" \")\n",
        "string.sort()\n",
        "output = set(string)\n",
        "output = list(output)\n",
        "output.sort()\n",
        "print(\",\".join(output))"
      ]
    },
    {
      "cell_type": "raw",
      "id": "e4fc1845",
      "metadata": {
        "id": "e4fc1845"
      },
      "source": [
        "Question 5:\n",
        "Write a program that accepts a sentence and calculate the number of letters and digits.\n",
        "Suppose the following input is supplied to the program:\n",
        "hello world! 123\n",
        "Then, the output should be:\n",
        "LETTERS 10\n",
        "DIGITS 3"
      ]
    },
    {
      "cell_type": "code",
      "execution_count": null,
      "id": "c4cc2955",
      "metadata": {
        "id": "c4cc2955",
        "outputId": "f5a58372-fdc8-4195-ec9a-11737b6b38a2"
      },
      "outputs": [
        {
          "name": "stdout",
          "output_type": "stream",
          "text": [
            "Enter a Sentence:- hello world! 123\n",
            "LETTERS 10\n",
            "DIGITS 3\n"
          ]
        }
      ],
      "source": [
        "sent = input(\"Enter a Sentence:- \")\n",
        "num = 0\n",
        "num2 = 0\n",
        "for i in sent:\n",
        "    if i.isalpha():\n",
        "        num += 1\n",
        "\n",
        "    if i.isdigit():\n",
        "        #num2  = sent.count(i)\n",
        "        num2 += 1\n",
        "        \n",
        "print(f\"LETTERS {num}\")\n",
        "print(f\"DIGITS {num2}\")"
      ]
    },
    {
      "cell_type": "raw",
      "id": "ab6b1694",
      "metadata": {
        "id": "ab6b1694"
      },
      "source": [
        "Question 6:\n",
        "A website requires the users to input username and password to register. Write a program to\n",
        "check the validity of password input by users.\n",
        "Following are the criteria for checking the password:\n",
        "1. At least 1 letter between [a-z]\n",
        "2. At least 1 number between [0-9]\n",
        "3. At least 1 letter between [A-Z]\n",
        "4. At least 1 character from [$#@]\n",
        "5. Minimum length of transaction password: 6\n",
        "6. Maximum length of transaction password: 12\n",
        "        Your program should accept a sequence of comma separated passwords and will check them\n",
        "according to the above criteria. Passwords that match the criteria are to be printed, each\n",
        "separated by a comma.\n",
        "Example\n",
        "If the following passwords are given as input to the program:\n",
        "ABd1234@1,aF1#,2w3E*,2We3345\n",
        "Then, the output of the program should be:\n",
        "ABd1234@1"
      ]
    },
    {
      "cell_type": "code",
      "execution_count": null,
      "id": "07270f3a",
      "metadata": {
        "id": "07270f3a",
        "outputId": "e17f8e1e-c3ef-441a-db3b-3f5fd108919c"
      },
      "outputs": [
        {
          "name": "stdout",
          "output_type": "stream",
          "text": [
            "Type in: ABd1234@1,aF1#,2w3E*,2We3345\n",
            "ABd1234@1\n"
          ]
        }
      ],
      "source": [
        "\n",
        "import re\n",
        "\n",
        "passwords = input(\"Type in: \")\n",
        "passwords = passwords.split(\",\")\n",
        "\n",
        "accepted_pass = []\n",
        "for i in passwords:\n",
        "    \n",
        "    if len(i) < 6 or len(i) > 12:\n",
        "        continue\n",
        "\n",
        "    elif not re.search(\"([a-z])+\", i):\n",
        "        continue\n",
        "\n",
        "    elif not re.search(\"([A-Z])+\", i):\n",
        "        continue\n",
        "\n",
        "    elif not re.search(\"([0-9])+\", i):\n",
        "        continue\n",
        "\n",
        "    elif not re.search(\"([!@$%^&])+\", i):\n",
        "        continue\n",
        "\n",
        "    else:\n",
        "        accepted_pass.append(i)\n",
        "\n",
        "print((\" \").join(accepted_pass))"
      ]
    }
  ],
  "metadata": {
    "kernelspec": {
      "display_name": "Python 3 (ipykernel)",
      "language": "python",
      "name": "python3"
    },
    "language_info": {
      "codemirror_mode": {
        "name": "ipython",
        "version": 3
      },
      "file_extension": ".py",
      "mimetype": "text/x-python",
      "name": "python",
      "nbconvert_exporter": "python",
      "pygments_lexer": "ipython3",
      "version": "3.9.10"
    },
    "colab": {
      "provenance": [],
      "include_colab_link": true
    }
  },
  "nbformat": 4,
  "nbformat_minor": 5
}