{
  "cells": [
    {
      "cell_type": "markdown",
      "metadata": {
        "id": "view-in-github",
        "colab_type": "text"
      },
      "source": [
        "<a href=\"https://colab.research.google.com/github/imshubhamk23/Python_Assignments/blob/main/Programming_Assignment_22.ipynb\" target=\"_parent\"><img src=\"https://colab.research.google.com/assets/colab-badge.svg\" alt=\"Open In Colab\"/></a>"
      ]
    },
    {
      "cell_type": "markdown",
      "id": "a92a9763",
      "metadata": {
        "id": "a92a9763"
      },
      "source": [
        "# Question1\n",
        "\n",
        "Create a function that takes three parameters where:\n",
        "\n",
        "x is the start of the range (inclusive).\n",
        "\n",
        "y is the end of the range (inclusive).\n",
        "\n",
        "n is the divisor to be checked against.\n",
        "\n",
        "Return an ordered list with numbers in the range that are divisible by the third parameter n. Return an empty list if there are no numbers that are divisible by n.\n",
        "\n",
        "    Examples\n",
        "    list_operation(1, 10, 3) ➞ [3, 6, 9]\n",
        "    \n",
        "    list_operation(7, 9, 2) ➞ [8]\n",
        "    \n",
        "    list_operation(15, 20, 7) ➞ []\n"
      ]
    },
    {
      "cell_type": "code",
      "execution_count": null,
      "id": "4aaa2cd3",
      "metadata": {
        "id": "4aaa2cd3"
      },
      "outputs": [],
      "source": [
        "def list_operation(x , y, n):\n",
        "    lst = []\n",
        "    for i in range(x,y+1):\n",
        "        if i % n == 0:\n",
        "            lst.append(i)\n",
        "    return lst"
      ]
    },
    {
      "cell_type": "code",
      "execution_count": null,
      "id": "b1734cfd",
      "metadata": {
        "id": "b1734cfd",
        "outputId": "3b979096-89fa-4e8a-c81e-49c02f19a687"
      },
      "outputs": [
        {
          "data": {
            "text/plain": [
              "[3, 6, 9]"
            ]
          },
          "execution_count": 2,
          "metadata": {},
          "output_type": "execute_result"
        }
      ],
      "source": [
        "list_operation(1, 10, 3)"
      ]
    },
    {
      "cell_type": "code",
      "execution_count": null,
      "id": "eb6c5024",
      "metadata": {
        "id": "eb6c5024",
        "outputId": "4c10e402-54d8-4f3c-86bd-a865f7b3f230"
      },
      "outputs": [
        {
          "data": {
            "text/plain": [
              "[8]"
            ]
          },
          "execution_count": 3,
          "metadata": {},
          "output_type": "execute_result"
        }
      ],
      "source": [
        "list_operation(7, 9, 2)"
      ]
    },
    {
      "cell_type": "code",
      "execution_count": null,
      "id": "acd4be71",
      "metadata": {
        "id": "acd4be71",
        "outputId": "11d4266e-efd1-497c-9838-8bde6f88135a"
      },
      "outputs": [
        {
          "data": {
            "text/plain": [
              "[]"
            ]
          },
          "execution_count": 4,
          "metadata": {},
          "output_type": "execute_result"
        }
      ],
      "source": [
        "list_operation(15, 20, 7)"
      ]
    },
    {
      "cell_type": "markdown",
      "id": "e8e3903b",
      "metadata": {
        "id": "e8e3903b"
      },
      "source": [
        "# Question2\n",
        "\n",
        "Create a function that takes in two lists and returns True if the second list follows the first list by one element, and False otherwise. \n",
        "\n",
        "In other words, determine if the second list is the first list shifted to the right by 1.\n",
        "\n",
        "    Examples\n",
        "    simon_says([1, 2], [5, 1]) ➞ True\n",
        "    \n",
        "    simon_says([1, 2], [5, 5]) ➞ False\n",
        "    \n",
        "    simon_says([1, 2, 3, 4, 5], [0, 1, 2, 3, 4]) ➞ True\n",
        "    \n",
        "    simon_says([1, 2, 3, 4, 5], [5, 5, 1, 2, 3]) ➞ False\n",
        "\n",
        "Notes:-\n",
        "\n",
        "Both input lists will be of the same length, and will have a minimum length of 2.\n",
        "\n",
        "The values of the 0-indexed element in the second list and the n-1th indexed element in the first list do not matter.\n"
      ]
    },
    {
      "cell_type": "code",
      "execution_count": null,
      "id": "616cdbac",
      "metadata": {
        "id": "616cdbac"
      },
      "outputs": [],
      "source": [
        "def simon_says(l1,l2):\n",
        "    if (l1[:-1] == l2[1:]):\n",
        "        return True\n",
        "    else:\n",
        "        return False"
      ]
    },
    {
      "cell_type": "code",
      "execution_count": null,
      "id": "d2eaf118",
      "metadata": {
        "id": "d2eaf118",
        "outputId": "9ef291f6-dd18-4276-ea89-d95883cae6bc"
      },
      "outputs": [
        {
          "data": {
            "text/plain": [
              "True"
            ]
          },
          "execution_count": 174,
          "metadata": {},
          "output_type": "execute_result"
        }
      ],
      "source": [
        "simon_says([1, 2], [5, 1])"
      ]
    },
    {
      "cell_type": "code",
      "execution_count": null,
      "id": "c9678c8c",
      "metadata": {
        "id": "c9678c8c",
        "outputId": "797285a9-31e7-41b7-80ff-51527a725f26"
      },
      "outputs": [
        {
          "data": {
            "text/plain": [
              "False"
            ]
          },
          "execution_count": 175,
          "metadata": {},
          "output_type": "execute_result"
        }
      ],
      "source": [
        "simon_says([1, 2], [5, 5])"
      ]
    },
    {
      "cell_type": "code",
      "execution_count": null,
      "id": "dcbfefab",
      "metadata": {
        "id": "dcbfefab",
        "outputId": "6f75d4d2-19cf-4357-9416-d58e1e856acb"
      },
      "outputs": [
        {
          "data": {
            "text/plain": [
              "True"
            ]
          },
          "execution_count": 176,
          "metadata": {},
          "output_type": "execute_result"
        }
      ],
      "source": [
        "simon_says([1, 2, 3, 4, 5], [0, 1, 2, 3, 4])"
      ]
    },
    {
      "cell_type": "code",
      "execution_count": null,
      "id": "df6de7d1",
      "metadata": {
        "id": "df6de7d1",
        "outputId": "13fa78dd-8ac6-486b-b7e5-d73433d414dc"
      },
      "outputs": [
        {
          "data": {
            "text/plain": [
              "False"
            ]
          },
          "execution_count": 177,
          "metadata": {},
          "output_type": "execute_result"
        }
      ],
      "source": [
        "simon_says([1, 2, 3, 4, 5], [5, 5, 1, 2, 3])"
      ]
    },
    {
      "cell_type": "markdown",
      "id": "4288d804",
      "metadata": {
        "id": "4288d804"
      },
      "source": [
        "# Question3\n",
        "\n",
        "A group of friends have decided to start a secret society. The name will be the first letter of each of their names, sorted in alphabetical order.\n",
        "\n",
        "Create a function that takes in a list of names and returns the name of the secret society.\n",
        "\n",
        "    Examples\n",
        "    society_name([\"Adam\", \"Sarah\", \"Malcolm\"]) ➞ \"AMS\"\n",
        "    \n",
        "    society_name([\"Harry\", \"Newt\", \"Luna\", \"Cho\"]) ➞ \"CHLN\"\n",
        "    \n",
        "    society_name([\"Phoebe\", \"Chandler\", \"Rachel\", \"Ross\", \"Monica\", \"Joey\"])\n"
      ]
    },
    {
      "cell_type": "code",
      "execution_count": null,
      "id": "5c1cba62",
      "metadata": {
        "id": "5c1cba62"
      },
      "outputs": [],
      "source": [
        "def society_name(lst):\n",
        "    new_lst = []\n",
        "    for i in lst:\n",
        "        new_lst.append(i[0])\n",
        "    new_lst.sort(reverse = False)\n",
        "    return \"\".join(new_lst)"
      ]
    },
    {
      "cell_type": "code",
      "execution_count": null,
      "id": "eb30a5c0",
      "metadata": {
        "id": "eb30a5c0",
        "outputId": "90d6d97e-6d6e-4450-8187-d9458b4ca3cf"
      },
      "outputs": [
        {
          "data": {
            "text/plain": [
              "'AMS'"
            ]
          },
          "execution_count": 11,
          "metadata": {},
          "output_type": "execute_result"
        }
      ],
      "source": [
        "society_name([\"Adam\", \"Sarah\", \"Malcolm\"])"
      ]
    },
    {
      "cell_type": "code",
      "execution_count": null,
      "id": "d887eef9",
      "metadata": {
        "id": "d887eef9",
        "outputId": "82de2636-bef7-4a4b-d3f4-17c67db12626"
      },
      "outputs": [
        {
          "data": {
            "text/plain": [
              "'CHLN'"
            ]
          },
          "execution_count": 12,
          "metadata": {},
          "output_type": "execute_result"
        }
      ],
      "source": [
        "society_name([\"Harry\", \"Newt\", \"Luna\", \"Cho\"])"
      ]
    },
    {
      "cell_type": "code",
      "execution_count": null,
      "id": "53a55a99",
      "metadata": {
        "id": "53a55a99",
        "outputId": "303e35de-9a41-46fb-bfd8-71769c91b0dd"
      },
      "outputs": [
        {
          "data": {
            "text/plain": [
              "'CJMPRR'"
            ]
          },
          "execution_count": 13,
          "metadata": {},
          "output_type": "execute_result"
        }
      ],
      "source": [
        "society_name([\"Phoebe\", \"Chandler\", \"Rachel\", \"Ross\", \"Monica\", \"Joey\"])"
      ]
    },
    {
      "cell_type": "markdown",
      "id": "092caefd",
      "metadata": {
        "id": "092caefd"
      },
      "source": [
        "# Question4\n",
        "\n",
        "An isogram is a word that has no duplicate letters. Create a function that takes a string and returns either True or False depending on whether or not it's an \"isogram\".\n",
        "\n",
        "    Examples\n",
        "    is_isogram(\"Algorism\") ➞ True\n",
        "    \n",
        "    is_isogram(\"PasSword\") ➞ False\n",
        "    #Not case sensitive.\n",
        "    \n",
        "    is_isogram(\"Consecutive\") ➞ False\n",
        "\n",
        "Notes\n",
        "\n",
        "Ignore letter case (should not be case sensitive).\n",
        "\n",
        "All test cases contain valid one word strings.\n"
      ]
    },
    {
      "cell_type": "code",
      "execution_count": null,
      "id": "337952ab",
      "metadata": {
        "id": "337952ab"
      },
      "outputs": [],
      "source": [
        "def is_isogram(string):\n",
        "    string = str(string).lower()\n",
        "    counter = {}\n",
        "    for i in string:\n",
        "        counter[i] = counter.get(i,0) + 1\n",
        "    y = counter.values()\n",
        "    lst = []\n",
        "    for i in y:\n",
        "        lst.append(i)\n",
        "    lst.sort(reverse = True)\n",
        "    if lst[0] != 1:\n",
        "        return False\n",
        "    else:\n",
        "        return True"
      ]
    },
    {
      "cell_type": "code",
      "execution_count": null,
      "id": "0c3dd436",
      "metadata": {
        "id": "0c3dd436",
        "outputId": "1d62ccc1-fc98-4e10-d8a1-ab36befb8ce6"
      },
      "outputs": [
        {
          "data": {
            "text/plain": [
              "True"
            ]
          },
          "execution_count": 108,
          "metadata": {},
          "output_type": "execute_result"
        }
      ],
      "source": [
        "is_isogram(\"Algorism\")"
      ]
    },
    {
      "cell_type": "code",
      "execution_count": null,
      "id": "13576915",
      "metadata": {
        "id": "13576915",
        "outputId": "c44cb208-032c-4e1b-dd37-f8de17aa308e"
      },
      "outputs": [
        {
          "data": {
            "text/plain": [
              "False"
            ]
          },
          "execution_count": 109,
          "metadata": {},
          "output_type": "execute_result"
        }
      ],
      "source": [
        "is_isogram(\"PasSword\")"
      ]
    },
    {
      "cell_type": "code",
      "execution_count": null,
      "id": "be3bb87c",
      "metadata": {
        "id": "be3bb87c",
        "outputId": "936d7403-fbe4-44c4-d428-84ca031eca3a"
      },
      "outputs": [
        {
          "data": {
            "text/plain": [
              "False"
            ]
          },
          "execution_count": 110,
          "metadata": {},
          "output_type": "execute_result"
        }
      ],
      "source": [
        "is_isogram(\"Consecutive\")"
      ]
    },
    {
      "cell_type": "markdown",
      "id": "95e1663d",
      "metadata": {
        "id": "95e1663d"
      },
      "source": [
        "Question5\n",
        "\n",
        "Create a function that takes a string and returns True or False, depending on whether the characters are in order or not.\n",
        "\n",
        "    Examples\n",
        "    is_in_order(\"abc\") ➞ True\n",
        "    \n",
        "    is_in_order(\"edabit\") ➞ False\n",
        "    \n",
        "    is_in_order(\"123\") ➞ True\n",
        "    \n",
        "    is_in_order(\"xyzz\") ➞ True\n",
        "\n",
        "Notes\n",
        "\n",
        "You don't have to handle empty strings.\n"
      ]
    },
    {
      "cell_type": "code",
      "execution_count": null,
      "id": "5b65d3f8",
      "metadata": {
        "id": "5b65d3f8"
      },
      "outputs": [],
      "source": [
        "def is_in_order(string):\n",
        "    lst = list(string)\n",
        "    lst.sort(reverse = False)\n",
        "    lst = \"\".join(lst)\n",
        "    if string == lst:\n",
        "        return True\n",
        "    else:\n",
        "        return False\n",
        "    print(lst)\n",
        "    "
      ]
    },
    {
      "cell_type": "code",
      "execution_count": null,
      "id": "9f4651d4",
      "metadata": {
        "id": "9f4651d4",
        "outputId": "77305fc8-d7dd-4825-964d-55b132a74d2e"
      },
      "outputs": [
        {
          "data": {
            "text/plain": [
              "True"
            ]
          },
          "execution_count": 159,
          "metadata": {},
          "output_type": "execute_result"
        }
      ],
      "source": [
        "is_in_order(\"abc\")"
      ]
    },
    {
      "cell_type": "code",
      "execution_count": null,
      "id": "f9603883",
      "metadata": {
        "id": "f9603883",
        "outputId": "459cc8f5-4e87-411d-d948-a811e99c2bb0"
      },
      "outputs": [
        {
          "data": {
            "text/plain": [
              "False"
            ]
          },
          "execution_count": 160,
          "metadata": {},
          "output_type": "execute_result"
        }
      ],
      "source": [
        "is_in_order(\"edabit\")"
      ]
    },
    {
      "cell_type": "code",
      "execution_count": null,
      "id": "45b3e3db",
      "metadata": {
        "id": "45b3e3db",
        "outputId": "1dc12e65-59c6-43ed-cc2a-992ab3cec77b"
      },
      "outputs": [
        {
          "data": {
            "text/plain": [
              "True"
            ]
          },
          "execution_count": 162,
          "metadata": {},
          "output_type": "execute_result"
        }
      ],
      "source": [
        "is_in_order(\"123\")"
      ]
    },
    {
      "cell_type": "code",
      "execution_count": null,
      "id": "2d1d5e0e",
      "metadata": {
        "id": "2d1d5e0e",
        "outputId": "27122c2d-68aa-4258-c772-7dbb353b6b1c"
      },
      "outputs": [
        {
          "data": {
            "text/plain": [
              "True"
            ]
          },
          "execution_count": 164,
          "metadata": {},
          "output_type": "execute_result"
        }
      ],
      "source": [
        "is_in_order(\"xyzz\")"
      ]
    }
  ],
  "metadata": {
    "kernelspec": {
      "display_name": "Python 3 (ipykernel)",
      "language": "python",
      "name": "python3"
    },
    "language_info": {
      "codemirror_mode": {
        "name": "ipython",
        "version": 3
      },
      "file_extension": ".py",
      "mimetype": "text/x-python",
      "name": "python",
      "nbconvert_exporter": "python",
      "pygments_lexer": "ipython3",
      "version": "3.11.1"
    },
    "colab": {
      "provenance": [],
      "include_colab_link": true
    }
  },
  "nbformat": 4,
  "nbformat_minor": 5
}