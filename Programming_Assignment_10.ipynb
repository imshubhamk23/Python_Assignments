{
  "cells": [
    {
      "cell_type": "markdown",
      "metadata": {
        "id": "view-in-github",
        "colab_type": "text"
      },
      "source": [
        "<a href=\"https://colab.research.google.com/github/imshubhamk23/Python_Assignments/blob/main/Programming_Assignment_10.ipynb\" target=\"_parent\"><img src=\"https://colab.research.google.com/assets/colab-badge.svg\" alt=\"Open In Colab\"/></a>"
      ]
    },
    {
      "cell_type": "markdown",
      "id": "61644a8e",
      "metadata": {
        "id": "61644a8e"
      },
      "source": [
        "1. Write a Python program to find sum of elements in list?"
      ]
    },
    {
      "cell_type": "code",
      "execution_count": null,
      "id": "976d534e",
      "metadata": {
        "id": "976d534e",
        "outputId": "f122a4e1-bbaf-4a3d-bb3d-934357ac875d"
      },
      "outputs": [
        {
          "name": "stdout",
          "output_type": "stream",
          "text": [
            "55\n"
          ]
        }
      ],
      "source": [
        "l = [1,2,3,4,5,6,7,8,9,10]\n",
        "print(sum(l))"
      ]
    },
    {
      "cell_type": "markdown",
      "id": "4fe842a4",
      "metadata": {
        "id": "4fe842a4"
      },
      "source": [
        "2. Write a Python program to Multiply all numbers in the list?"
      ]
    },
    {
      "cell_type": "code",
      "execution_count": null,
      "id": "aed7022c",
      "metadata": {
        "id": "aed7022c"
      },
      "outputs": [],
      "source": [
        "l = [1,2,3]\n",
        "def multi(l):\n",
        "    result = 1\n",
        "    for i in l:\n",
        "        result = i * result\n",
        "    print(result)"
      ]
    },
    {
      "cell_type": "code",
      "execution_count": null,
      "id": "13607cc4",
      "metadata": {
        "id": "13607cc4",
        "outputId": "a5a62684-f429-4f13-e130-50a11724a15e"
      },
      "outputs": [
        {
          "name": "stdout",
          "output_type": "stream",
          "text": [
            "6\n"
          ]
        }
      ],
      "source": [
        "multi(l)"
      ]
    },
    {
      "cell_type": "markdown",
      "id": "0c52c618",
      "metadata": {
        "id": "0c52c618"
      },
      "source": [
        "3. Write a Python program to find smallest number in a list?"
      ]
    },
    {
      "cell_type": "code",
      "execution_count": null,
      "id": "decf0064",
      "metadata": {
        "id": "decf0064",
        "outputId": "e2a193b1-2a0b-44a6-8025-95f4a0df9273"
      },
      "outputs": [
        {
          "data": {
            "text/plain": [
              "1"
            ]
          },
          "execution_count": 27,
          "metadata": {},
          "output_type": "execute_result"
        }
      ],
      "source": [
        "import numpy as np\n",
        "l = [3,4,5,6,7,8,9,10,2,1,1,4,4]\n",
        "np.min(l)"
      ]
    },
    {
      "cell_type": "code",
      "execution_count": null,
      "id": "d0adb2a4",
      "metadata": {
        "id": "d0adb2a4",
        "outputId": "382ef550-4378-4d80-a2e3-30dfd7054054"
      },
      "outputs": [
        {
          "name": "stdout",
          "output_type": "stream",
          "text": [
            "1\n"
          ]
        }
      ],
      "source": [
        "#This can be also solved by \n",
        "l = [3,4,5,6,7,8,9,10,2,1,1,4,4]\n",
        "l.sort()\n",
        "print(l[0])"
      ]
    },
    {
      "cell_type": "markdown",
      "id": "3d8d583f",
      "metadata": {
        "id": "3d8d583f"
      },
      "source": [
        "4. Write a Python program to find largest number in a list?"
      ]
    },
    {
      "cell_type": "code",
      "execution_count": null,
      "id": "574925ce",
      "metadata": {
        "id": "574925ce",
        "outputId": "80abc151-980d-45d8-fddd-90c8fc44fa64"
      },
      "outputs": [
        {
          "data": {
            "text/plain": [
              "10"
            ]
          },
          "execution_count": 29,
          "metadata": {},
          "output_type": "execute_result"
        }
      ],
      "source": [
        "l = [3,4,5,6,7,8,9,10,2,1,1,4,4]\n",
        "np.max(l)"
      ]
    },
    {
      "cell_type": "code",
      "execution_count": null,
      "id": "b84ff3f9",
      "metadata": {
        "id": "b84ff3f9",
        "outputId": "42a47f4d-ec8b-4840-d90e-f706c1c7abed"
      },
      "outputs": [
        {
          "name": "stdout",
          "output_type": "stream",
          "text": [
            "10\n"
          ]
        }
      ],
      "source": [
        "#This can also be solved by\n",
        "l.sort(reverse=True)\n",
        "print(l[0])"
      ]
    },
    {
      "cell_type": "markdown",
      "id": "fff0864d",
      "metadata": {
        "id": "fff0864d"
      },
      "source": [
        "5. Write a Python program to find second largest number in a list?"
      ]
    },
    {
      "cell_type": "code",
      "execution_count": null,
      "id": "2c32495b",
      "metadata": {
        "id": "2c32495b",
        "outputId": "75d2cf2d-2d94-4bd1-d207-cc6f425d56ab"
      },
      "outputs": [
        {
          "name": "stdout",
          "output_type": "stream",
          "text": [
            "9\n"
          ]
        }
      ],
      "source": [
        "l = [3,4,5,6,7,8,9,10,2,1,1,4,4]\n",
        "l.sort(reverse=True)\n",
        "print(l[1])"
      ]
    },
    {
      "cell_type": "markdown",
      "id": "b7ac0df4",
      "metadata": {
        "id": "b7ac0df4"
      },
      "source": [
        "6. Write a Python program to find N largest elements from a list?"
      ]
    },
    {
      "cell_type": "code",
      "execution_count": null,
      "id": "456c2f77",
      "metadata": {
        "id": "456c2f77",
        "outputId": "96aca453-1a3f-4080-bc26-0399ca0239a6"
      },
      "outputs": [
        {
          "name": "stdout",
          "output_type": "stream",
          "text": [
            "Enter the Nth largest position:- 4\n",
            "6\n"
          ]
        }
      ],
      "source": [
        "l = [3,4,5,6,7,8,9,10,2,1,1,4,4]\n",
        "N = int(input(\"Enter the Nth largest position:- \"))\n",
        "l.sort(reverse=True)\n",
        "print(l[N])"
      ]
    },
    {
      "cell_type": "code",
      "execution_count": null,
      "id": "37ba8f6c",
      "metadata": {
        "id": "37ba8f6c",
        "outputId": "d584b927-6f58-45db-ea39-1b79f9b91163"
      },
      "outputs": [
        {
          "name": "stdout",
          "output_type": "stream",
          "text": [
            "[3, 5, 7, 2]\n"
          ]
        }
      ],
      "source": [
        "l = [3,4,5,6,7,8,9,10,2,1,1,4,4]\n",
        "prime = []\n",
        "for i in l:\n",
        "    count = 0\n",
        "    for j in range(1,i):\n",
        "        if i % j == 0:\n",
        "            count += 1\n",
        "    if count == 1:\n",
        "        prime.append(i)\n",
        "print(prime)\n"
      ]
    },
    {
      "cell_type": "markdown",
      "id": "6c35e394",
      "metadata": {
        "id": "6c35e394"
      },
      "source": [
        "9. Write a Python program to Remove empty List from List?"
      ]
    },
    {
      "cell_type": "code",
      "execution_count": null,
      "id": "a6ffd6fa",
      "metadata": {
        "id": "a6ffd6fa",
        "outputId": "10657937-2d95-4d01-aaa7-ae51180b4f30"
      },
      "outputs": [
        {
          "name": "stdout",
          "output_type": "stream",
          "text": [
            "[3, 4, 5, 6, 7, 8, 9, 10, 2, 1, 1, 4, 4]\n"
          ]
        }
      ],
      "source": [
        "l = [3,4,5,6,7,8,9,10,2,1,1,4,4,[],[]]\n",
        "l2 = filter(None,l)\n",
        "l = list(l2)\n",
        "print(l)"
      ]
    },
    {
      "cell_type": "markdown",
      "id": "5322abc6",
      "metadata": {
        "id": "5322abc6"
      },
      "source": [
        "10. Write a Python program to Cloning or Copying a list?"
      ]
    },
    {
      "cell_type": "code",
      "execution_count": null,
      "id": "792a2714",
      "metadata": {
        "id": "792a2714"
      },
      "outputs": [],
      "source": [
        "l = [3,4,5,6,7,8,9,10,2,1,1,4,4]\n",
        "def listCopy(l):\n",
        "    list_copy = l[:]\n",
        "    return list_copy"
      ]
    },
    {
      "cell_type": "code",
      "execution_count": null,
      "id": "8136b91c",
      "metadata": {
        "id": "8136b91c",
        "outputId": "73797bf1-f932-4775-984d-5427409f356a"
      },
      "outputs": [
        {
          "data": {
            "text/plain": [
              "[3, 4, 5, 6, 7, 8, 9, 10, 2, 1, 1, 4, 4]"
            ]
          },
          "execution_count": 67,
          "metadata": {},
          "output_type": "execute_result"
        }
      ],
      "source": [
        "l = [3,4,5,6,7,8,9,10,2,1,1,4,4]\n",
        "listCopy(l)"
      ]
    },
    {
      "cell_type": "markdown",
      "id": "8c73ee82",
      "metadata": {
        "id": "8c73ee82"
      },
      "source": [
        "11. Write a Python program to Count occurrences of an element in a list?"
      ]
    },
    {
      "cell_type": "code",
      "execution_count": null,
      "id": "88e0af74",
      "metadata": {
        "id": "88e0af74",
        "outputId": "d81f00a6-746e-43f5-b6b3-c6483c44cadf"
      },
      "outputs": [
        {
          "name": "stdout",
          "output_type": "stream",
          "text": [
            "3 has occured 1 times\n",
            "4 has occured 3 times\n",
            "5 has occured 1 times\n",
            "6 has occured 1 times\n",
            "7 has occured 1 times\n",
            "8 has occured 1 times\n",
            "9 has occured 1 times\n",
            "10 has occured 1 times\n",
            "2 has occured 1 times\n",
            "1 has occured 2 times\n",
            "1 has occured 2 times\n",
            "4 has occured 3 times\n",
            "4 has occured 3 times\n"
          ]
        }
      ],
      "source": [
        "from collections import Counter\n",
        "l = [3,4,5,6,7,8,9,10,2,1,1,4,4]\n",
        "for ele in l:\n",
        "    count = Counter(l)\n",
        "    print(f\"{ele} has occured {count[ele]} times\")"
      ]
    },
    {
      "cell_type": "code",
      "execution_count": null,
      "id": "b09b68a6",
      "metadata": {
        "id": "b09b68a6"
      },
      "outputs": [],
      "source": []
    }
  ],
  "metadata": {
    "kernelspec": {
      "display_name": "Python 3 (ipykernel)",
      "language": "python",
      "name": "python3"
    },
    "language_info": {
      "codemirror_mode": {
        "name": "ipython",
        "version": 3
      },
      "file_extension": ".py",
      "mimetype": "text/x-python",
      "name": "python",
      "nbconvert_exporter": "python",
      "pygments_lexer": "ipython3",
      "version": "3.9.10"
    },
    "colab": {
      "provenance": [],
      "include_colab_link": true
    }
  },
  "nbformat": 4,
  "nbformat_minor": 5
}