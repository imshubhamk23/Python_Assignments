{
  "cells": [
    {
      "cell_type": "markdown",
      "metadata": {
        "id": "view-in-github",
        "colab_type": "text"
      },
      "source": [
        "<a href=\"https://colab.research.google.com/github/imshubhamk23/Python_Assignments/blob/main/Programming_Assignment_23.ipynb\" target=\"_parent\"><img src=\"https://colab.research.google.com/assets/colab-badge.svg\" alt=\"Open In Colab\"/></a>"
      ]
    },
    {
      "cell_type": "markdown",
      "id": "5edf4345",
      "metadata": {
        "id": "5edf4345"
      },
      "source": [
        "# Question 1\n",
        "\n",
        "Create a function that takes a number as an argument and returns True or False depending on whether the number is symmetrical or not. A number is symmetrical when it is the same as its reverse.\n",
        "\n",
        "    Examples\n",
        "    is_symmetrical(7227) ➞ True\n",
        "    \n",
        "    is_symmetrical(12567) ➞ False\n",
        "    \n",
        "    is_symmetrical(44444444) ➞ True\n",
        "    \n",
        "    is_symmetrical(9939) ➞ False\n",
        "    \n",
        "    is_symmetrical(1112111) ➞ True\n"
      ]
    },
    {
      "cell_type": "code",
      "execution_count": null,
      "id": "ce468447",
      "metadata": {
        "id": "ce468447"
      },
      "outputs": [],
      "source": [
        "def is_symmetrical(num):\n",
        "    lst1 = str(num)\n",
        "    lst1 = list(lst1)\n",
        "    a = lst1[::-1]\n",
        "    a = \"\".join(a)\n",
        "    a = int(a)\n",
        "    if num == a:\n",
        "        return True\n",
        "    else:\n",
        "        return False"
      ]
    },
    {
      "cell_type": "code",
      "execution_count": null,
      "id": "afe9a083",
      "metadata": {
        "id": "afe9a083",
        "outputId": "5e67841b-8b9f-4fd4-87aa-860aac595156"
      },
      "outputs": [
        {
          "data": {
            "text/plain": [
              "True"
            ]
          },
          "execution_count": 22,
          "metadata": {},
          "output_type": "execute_result"
        }
      ],
      "source": [
        "is_symmetrical(7227)"
      ]
    },
    {
      "cell_type": "code",
      "execution_count": null,
      "id": "7b4113ac",
      "metadata": {
        "id": "7b4113ac",
        "outputId": "22bfe989-9238-4f80-f5da-4a7505fb65e9"
      },
      "outputs": [
        {
          "data": {
            "text/plain": [
              "False"
            ]
          },
          "execution_count": 23,
          "metadata": {},
          "output_type": "execute_result"
        }
      ],
      "source": [
        "is_symmetrical(12567)"
      ]
    },
    {
      "cell_type": "code",
      "execution_count": null,
      "id": "e0511340",
      "metadata": {
        "id": "e0511340",
        "outputId": "67411e0e-5910-4222-93ed-9449d3bc9751"
      },
      "outputs": [
        {
          "data": {
            "text/plain": [
              "True"
            ]
          },
          "execution_count": 24,
          "metadata": {},
          "output_type": "execute_result"
        }
      ],
      "source": [
        "is_symmetrical(44444444)"
      ]
    },
    {
      "cell_type": "code",
      "execution_count": null,
      "id": "d1404c99",
      "metadata": {
        "id": "d1404c99",
        "outputId": "00e7a501-987e-40c1-aeb7-18d6d92d13e8"
      },
      "outputs": [
        {
          "data": {
            "text/plain": [
              "False"
            ]
          },
          "execution_count": 25,
          "metadata": {},
          "output_type": "execute_result"
        }
      ],
      "source": [
        "is_symmetrical(9939)"
      ]
    },
    {
      "cell_type": "code",
      "execution_count": null,
      "id": "4d8e4c48",
      "metadata": {
        "id": "4d8e4c48",
        "outputId": "de75c57f-50a4-49b6-dcce-e316ce9c1ef6"
      },
      "outputs": [
        {
          "data": {
            "text/plain": [
              "True"
            ]
          },
          "execution_count": 26,
          "metadata": {},
          "output_type": "execute_result"
        }
      ],
      "source": [
        "is_symmetrical(1112111)"
      ]
    },
    {
      "cell_type": "markdown",
      "id": "9d4242f9",
      "metadata": {
        "id": "9d4242f9"
      },
      "source": [
        "# Question 2\n",
        "\n",
        "Given a string of numbers separated by a comma and space, return the product of the numbers.\n",
        "\n",
        "    Examples\n",
        "    multiply_nums(\"2, 3\") ➞ 6\n",
        "    \n",
        "    multiply_nums(\"1, 2, 3, 4\") ➞ 24\n",
        "    \n",
        "    multiply_nums(\"54, 75, 453, 0\") ➞ 0\n",
        "    \n",
        "    multiply_nums(\"10, -2\") ➞ -20\n"
      ]
    },
    {
      "cell_type": "code",
      "execution_count": null,
      "id": "f11b954d",
      "metadata": {
        "id": "f11b954d"
      },
      "outputs": [],
      "source": [
        "def multiply_nums(string):\n",
        "    lst = string.split(\",\")\n",
        "    mult = 1\n",
        "    for i in lst:\n",
        "        mult = mult * int(i)\n",
        "    return mult"
      ]
    },
    {
      "cell_type": "code",
      "execution_count": null,
      "id": "bab37574",
      "metadata": {
        "id": "bab37574",
        "outputId": "74d4bfc3-e6fe-4dc5-d957-256a0933a82f"
      },
      "outputs": [
        {
          "data": {
            "text/plain": [
              "6"
            ]
          },
          "execution_count": 34,
          "metadata": {},
          "output_type": "execute_result"
        }
      ],
      "source": [
        "multiply_nums(\"2, 3\")"
      ]
    },
    {
      "cell_type": "code",
      "execution_count": null,
      "id": "48d2ef59",
      "metadata": {
        "id": "48d2ef59",
        "outputId": "48365fe2-c713-4040-ef23-65cd32fc330b"
      },
      "outputs": [
        {
          "data": {
            "text/plain": [
              "24"
            ]
          },
          "execution_count": 35,
          "metadata": {},
          "output_type": "execute_result"
        }
      ],
      "source": [
        "multiply_nums(\"1, 2, 3, 4\")"
      ]
    },
    {
      "cell_type": "code",
      "execution_count": null,
      "id": "b85ca7a1",
      "metadata": {
        "id": "b85ca7a1",
        "outputId": "2b51a31f-9595-4c39-f16a-73169ba210a1"
      },
      "outputs": [
        {
          "data": {
            "text/plain": [
              "0"
            ]
          },
          "execution_count": 36,
          "metadata": {},
          "output_type": "execute_result"
        }
      ],
      "source": [
        "multiply_nums(\"54, 75, 453, 0\")"
      ]
    },
    {
      "cell_type": "code",
      "execution_count": null,
      "id": "c8e80e24",
      "metadata": {
        "id": "c8e80e24",
        "outputId": "15a082a0-aebd-41c1-db79-ac4e89b60c43"
      },
      "outputs": [
        {
          "data": {
            "text/plain": [
              "-20"
            ]
          },
          "execution_count": 37,
          "metadata": {},
          "output_type": "execute_result"
        }
      ],
      "source": [
        "multiply_nums(\"10, -2\")"
      ]
    },
    {
      "cell_type": "markdown",
      "id": "1f98dbde",
      "metadata": {
        "id": "1f98dbde"
      },
      "source": [
        "# Question 3\n",
        "\n",
        "Create a function that squares every digit of a number.\n",
        "\n",
        "    Examples\n",
        "    square_digits(9119) ➞ 811181\n",
        "    \n",
        "    square_digits(2483) ➞ 416649\n",
        "    \n",
        "    square_digits(3212) ➞ 9414\n",
        "\n",
        "Notes\n",
        "\n",
        "The function receives an integer and must return an integer.\n"
      ]
    },
    {
      "cell_type": "code",
      "execution_count": null,
      "id": "7a887d44",
      "metadata": {
        "id": "7a887d44"
      },
      "outputs": [],
      "source": [
        "def square_digits(num):\n",
        "    string = str(num)\n",
        "    lst = []\n",
        "    for i in string:\n",
        "        sq = int(i)**2\n",
        "        lst.append(str(sq))\n",
        "    res = \"\".join(lst)\n",
        "    return int(res)"
      ]
    },
    {
      "cell_type": "code",
      "execution_count": null,
      "id": "8ba9bf27",
      "metadata": {
        "id": "8ba9bf27",
        "outputId": "2254a42e-a96a-42a0-e210-9562f22ae02f"
      },
      "outputs": [
        {
          "data": {
            "text/plain": [
              "811181"
            ]
          },
          "execution_count": 41,
          "metadata": {},
          "output_type": "execute_result"
        }
      ],
      "source": [
        "square_digits(9119)"
      ]
    },
    {
      "cell_type": "code",
      "execution_count": null,
      "id": "71172f82",
      "metadata": {
        "id": "71172f82",
        "outputId": "91b8c9eb-724a-4d8c-8b2b-f0f9fdbb0265"
      },
      "outputs": [
        {
          "data": {
            "text/plain": [
              "416649"
            ]
          },
          "execution_count": 42,
          "metadata": {},
          "output_type": "execute_result"
        }
      ],
      "source": [
        "square_digits(2483)"
      ]
    },
    {
      "cell_type": "code",
      "execution_count": null,
      "id": "593cd3de",
      "metadata": {
        "id": "593cd3de",
        "outputId": "9bbe2f79-9434-4225-b7dc-5e3eecd6956c"
      },
      "outputs": [
        {
          "data": {
            "text/plain": [
              "9414"
            ]
          },
          "execution_count": 43,
          "metadata": {},
          "output_type": "execute_result"
        }
      ],
      "source": [
        "square_digits(3212)"
      ]
    },
    {
      "cell_type": "markdown",
      "id": "8e3dea40",
      "metadata": {
        "id": "8e3dea40"
      },
      "source": [
        "# Question 4\n",
        "\n",
        "Create a function that sorts a list and removes all duplicate items from it.\n",
        "\n",
        "    Examples\n",
        "    setify([1, 3, 3, 5, 5]) ➞ [1, 3, 5]\n",
        "\n",
        "    setify([4, 4, 4, 4]) ➞ [4]\n",
        "\n",
        "    setify([5, 7, 8, 9, 10, 15]) ➞ [5, 7, 8, 9, 10, 15]\n",
        "\n",
        "    setify([3, 3, 3, 2, 1]) ➞ [1, 2, 3]"
      ]
    },
    {
      "cell_type": "code",
      "execution_count": null,
      "id": "6cb7a504",
      "metadata": {
        "id": "6cb7a504"
      },
      "outputs": [],
      "source": [
        "def setify(lst):\n",
        "    lst1 = list(lst)\n",
        "    lst1.sort(reverse = False)\n",
        "    return list(set(lst1))"
      ]
    },
    {
      "cell_type": "code",
      "execution_count": null,
      "id": "3c303a73",
      "metadata": {
        "id": "3c303a73",
        "outputId": "99f92177-55db-4007-a485-526a13d6624c"
      },
      "outputs": [
        {
          "data": {
            "text/plain": [
              "[1, 3, 5]"
            ]
          },
          "execution_count": 59,
          "metadata": {},
          "output_type": "execute_result"
        }
      ],
      "source": [
        "\n",
        "setify([1, 3, 3, 5, 5])"
      ]
    },
    {
      "cell_type": "code",
      "execution_count": null,
      "id": "48be5353",
      "metadata": {
        "id": "48be5353",
        "outputId": "9aa28651-9240-440d-bbb7-7d6505ecd47e"
      },
      "outputs": [
        {
          "data": {
            "text/plain": [
              "[4]"
            ]
          },
          "execution_count": 60,
          "metadata": {},
          "output_type": "execute_result"
        }
      ],
      "source": [
        "setify([4, 4, 4, 4])"
      ]
    },
    {
      "cell_type": "code",
      "execution_count": null,
      "id": "b3ea3494",
      "metadata": {
        "id": "b3ea3494",
        "outputId": "3e94b712-9575-420a-c474-1ab31b87d9aa"
      },
      "outputs": [
        {
          "data": {
            "text/plain": [
              "[5, 7, 8, 9, 10, 15]"
            ]
          },
          "execution_count": 61,
          "metadata": {},
          "output_type": "execute_result"
        }
      ],
      "source": [
        "setify([5, 7, 8, 9, 10, 15])"
      ]
    },
    {
      "cell_type": "code",
      "execution_count": null,
      "id": "4ef6cb2b",
      "metadata": {
        "id": "4ef6cb2b",
        "outputId": "c57f26ac-f6d9-4b51-a5d0-d0342449a560"
      },
      "outputs": [
        {
          "data": {
            "text/plain": [
              "[1, 2, 3]"
            ]
          },
          "execution_count": 62,
          "metadata": {},
          "output_type": "execute_result"
        }
      ],
      "source": [
        "setify([3, 3, 3, 2, 1])"
      ]
    },
    {
      "cell_type": "markdown",
      "id": "6ecd12ca",
      "metadata": {
        "id": "6ecd12ca"
      },
      "source": [
        "# Question 5\n",
        "\n",
        "Create a function that returns the mean of all digits.\n",
        "\n",
        "    Examples\n",
        "    mean(42) ➞ 3\n",
        "\n",
        "    mean(12345) ➞ 3\n",
        "\n",
        "    mean(666) ➞ 6\n",
        "\n",
        "    Notes\n",
        "\n",
        "The mean of all digits is the sum of digits / how many digits there are (e.g. mean of digits in 512 is (5+1+2)/3(number of digits) = 8/3=2).\n",
        "\n",
        "The mean will always be an integer.\n"
      ]
    },
    {
      "cell_type": "code",
      "execution_count": null,
      "id": "3bb29cab",
      "metadata": {
        "id": "3bb29cab"
      },
      "outputs": [],
      "source": [
        "def mean(num):\n",
        "    string = str(num)\n",
        "    add = 0\n",
        "    count = 0\n",
        "    for i in string:\n",
        "        add += int(i)\n",
        "        count += 1\n",
        "    mean = add/count\n",
        "    return round(mean)\n",
        "    "
      ]
    },
    {
      "cell_type": "code",
      "execution_count": null,
      "id": "be3c68a0",
      "metadata": {
        "id": "be3c68a0",
        "outputId": "a27c4cc5-00b3-4886-aaa2-42c800ca246c"
      },
      "outputs": [
        {
          "data": {
            "text/plain": [
              "3"
            ]
          },
          "execution_count": 66,
          "metadata": {},
          "output_type": "execute_result"
        }
      ],
      "source": [
        "mean(42)"
      ]
    },
    {
      "cell_type": "code",
      "execution_count": null,
      "id": "c654945b",
      "metadata": {
        "id": "c654945b",
        "outputId": "c510b401-eb2f-4e5c-c618-8c4109037395"
      },
      "outputs": [
        {
          "data": {
            "text/plain": [
              "3"
            ]
          },
          "execution_count": 67,
          "metadata": {},
          "output_type": "execute_result"
        }
      ],
      "source": [
        "mean(12345)"
      ]
    },
    {
      "cell_type": "code",
      "execution_count": null,
      "id": "922f54b7",
      "metadata": {
        "id": "922f54b7",
        "outputId": "c0310d0b-a335-461c-9242-44b4a65611a3"
      },
      "outputs": [
        {
          "data": {
            "text/plain": [
              "6"
            ]
          },
          "execution_count": 68,
          "metadata": {},
          "output_type": "execute_result"
        }
      ],
      "source": [
        "mean(666)"
      ]
    }
  ],
  "metadata": {
    "kernelspec": {
      "display_name": "Python 3 (ipykernel)",
      "language": "python",
      "name": "python3"
    },
    "language_info": {
      "codemirror_mode": {
        "name": "ipython",
        "version": 3
      },
      "file_extension": ".py",
      "mimetype": "text/x-python",
      "name": "python",
      "nbconvert_exporter": "python",
      "pygments_lexer": "ipython3",
      "version": "3.11.1"
    },
    "colab": {
      "provenance": [],
      "include_colab_link": true
    }
  },
  "nbformat": 4,
  "nbformat_minor": 5
}