{
  "cells": [
    {
      "cell_type": "markdown",
      "metadata": {
        "colab_type": "text",
        "id": "view-in-github"
      },
      "source": [
        "<a href=\"https://colab.research.google.com/github/imshubhamk23/Python_Assignments/blob/main/Programming_Assignment_4.ipynb\" target=\"_parent\"><img src=\"https://colab.research.google.com/assets/colab-badge.svg\" alt=\"Open In Colab\"/></a>"
      ]
    },
    {
      "cell_type": "markdown",
      "metadata": {
        "id": "9aSbV0QtVQxz"
      },
      "source": [
        "1. Write a Python Program to Find the Factorial of a Number?"
      ]
    },
    {
      "cell_type": "code",
      "execution_count": 6,
      "metadata": {
        "colab": {
          "base_uri": "https://localhost:8080/"
        },
        "id": "Yrj-PQrxVR3D",
        "outputId": "a82f942d-f1d9-4e4c-e90a-86515a07475c"
      },
      "outputs": [
        {
          "name": "stdout",
          "output_type": "stream",
          "text": [
            "Enter a number:- 6\n",
            "Factorial of 6 is 720\n"
          ]
        }
      ],
      "source": [
        "num = int(input(\"Enter a number:- \"))\n",
        "fact = 1\n",
        "if num < 0:\n",
        "  print(\"Factorials cannot be generated for Negative Numbers\")\n",
        "elif num == 0:\n",
        "  print(\"Factorial is 1\")\n",
        "else:\n",
        "  for i in range(1,num+1):\n",
        "    fact = fact * i\n",
        "  print(f\"Factorial of {num} is {fact}\")"
      ]
    },
    {
      "cell_type": "markdown",
      "metadata": {
        "id": "11K-efchWrlW"
      },
      "source": [
        "2. Write a Python Program to Display the multiplication Table?"
      ]
    },
    {
      "cell_type": "code",
      "execution_count": 8,
      "metadata": {
        "colab": {
          "base_uri": "https://localhost:8080/"
        },
        "id": "CSZe_KbtVgc6",
        "outputId": "3bf64c79-cffe-4e1e-a2d7-a6982124e5ee"
      },
      "outputs": [
        {
          "name": "stdout",
          "output_type": "stream",
          "text": [
            "Enter a number:- 3\n",
            "3 x 1 = 3\n",
            "3 x 2 = 6\n",
            "3 x 3 = 9\n",
            "3 x 4 = 12\n",
            "3 x 5 = 15\n",
            "3 x 6 = 18\n",
            "3 x 7 = 21\n",
            "3 x 8 = 24\n",
            "3 x 9 = 27\n",
            "3 x 10 = 30\n"
          ]
        }
      ],
      "source": [
        "num = int(input(\"Enter a number:- \"))\n",
        "a = 1\n",
        "for i in range(1, 11):\n",
        "  print(f\"{num} x {a} = {num*a}\")\n",
        "  a += 1"
      ]
    },
    {
      "cell_type": "markdown",
      "metadata": {
        "id": "rEJpOln0XYzE"
      },
      "source": [
        "3. Write a Python Program to Print the Fibonacci sequence?"
      ]
    },
    {
      "cell_type": "code",
      "execution_count": 23,
      "metadata": {
        "colab": {
          "base_uri": "https://localhost:8080/"
        },
        "id": "pIlsWSGXXQIc",
        "outputId": "34bfaa05-2308-41de-c3c7-1a63409cc0be"
      },
      "outputs": [
        {
          "name": "stdout",
          "output_type": "stream",
          "text": [
            "Enter Terms:- 13\n",
            "Fibonacci sequence upto 13 is :- \n",
            "0\n",
            "1\n",
            "1\n",
            "2\n",
            "3\n",
            "5\n",
            "8\n",
            "13\n",
            "21\n",
            "34\n",
            "55\n",
            "89\n",
            "144\n"
          ]
        }
      ],
      "source": [
        "terms = int(input(\"Enter Terms:- \"))\n",
        "a,b = 0,1\n",
        "count = 0\n",
        "if terms <= 0:\n",
        "  print(\"Fibonacci sequence cannot be generated for negative numbers\")\n",
        "elif terms == 1:\n",
        "    print(f\"Fibonacci sequence is:- {a}\" )\n",
        "else:\n",
        "  print(f\"Fibonacci sequence upto {terms} is :- \")\n",
        "  while count < terms:\n",
        "    print(a)\n",
        "    temp = a + b\n",
        "    a = b\n",
        "    b= temp \n",
        "    count += 1 "
      ]
    },
    {
      "cell_type": "markdown",
      "metadata": {
        "id": "P_YtUm1bcjiC"
      },
      "source": [
        "4. Write a Python Program to Check Armstrong Number?"
      ]
    },
    {
      "cell_type": "code",
      "execution_count": 35,
      "metadata": {
        "colab": {
          "base_uri": "https://localhost:8080/"
        },
        "id": "B9u1_PNvX3Rn",
        "outputId": "ffabe215-8cf2-4b90-cd8a-08f188e51dd3"
      },
      "outputs": [
        {
          "name": "stdout",
          "output_type": "stream",
          "text": [
            "Enter a number:- 1634\n",
            "The number is an Armstrong number\n"
          ]
        }
      ],
      "source": [
        "num = input(\"Enter a number:- \")\n",
        "num =  a\n",
        "sum = 0\n",
        "order = len(str(num))\n",
        "while a > 0:\n",
        "  sum = sum + (a%10) ** order\n",
        "  a = a //10\n",
        "if sum == a:\n",
        "  print(\"The number is an Armstrong number\")\n",
        "else:\n",
        "  print(\"The number is not armstrong\")"
      ]
    },
    {
      "cell_type": "markdown",
      "metadata": {
        "id": "vbF-VkMin0ip"
      },
      "source": [
        "Write a Python Program to Find Armstrong Number in an Interval?\n"
      ]
    },
    {
      "cell_type": "code",
      "execution_count": 34,
      "metadata": {
        "colab": {
          "base_uri": "https://localhost:8080/"
        },
        "id": "cJ2r5wuZj6ED",
        "outputId": "118fa2be-53d7-4f94-a55d-f49a146425dc"
      },
      "outputs": [
        {
          "name": "stdout",
          "output_type": "stream",
          "text": [
            "Enter lower value:- 1000\n",
            "Enter upper value:- 9000\n",
            "1634\n",
            "8208\n"
          ]
        }
      ],
      "source": [
        "lower = int(input(\"Enter lower value:- \"))\n",
        "upper = int(input(\"Enter upper value:- \"))\n",
        "\n",
        "for num in range(lower,upper):\n",
        "  a = num\n",
        "  sum = 0\n",
        "  order = len(str(num))\n",
        "  while a > 0:\n",
        "    sum = sum + (a%10) ** order\n",
        "    a = a//10\n",
        "  if num == sum:\n",
        "    print(num)"
      ]
    },
    {
      "cell_type": "markdown",
      "metadata": {
        "id": "fdrpqcSHqX_b"
      },
      "source": [
        "6. Write a Python Program to Find the Sum of Natural Numbers?"
      ]
    },
    {
      "cell_type": "code",
      "execution_count": 38,
      "metadata": {
        "colab": {
          "base_uri": "https://localhost:8080/"
        },
        "id": "aAswMM2QpUHF",
        "outputId": "c5850e1b-b963-4a7c-c69c-5f26d03ad468"
      },
      "outputs": [
        {
          "name": "stdout",
          "output_type": "stream",
          "text": [
            "Enter Terms:- 4\n",
            "10\n"
          ]
        }
      ],
      "source": [
        "num = int(input(\"Enter Terms:- \"))\n",
        "sum = 0\n",
        "for i in range(num+1):\n",
        "  sum = i + sum\n",
        "print(sum)\n",
        "  "
      ]
    }
  ],
  "metadata": {
    "colab": {
      "authorship_tag": "ABX9TyPD240ZKJJ9KwMX5HLLFWRI",
      "include_colab_link": true,
      "provenance": []
    },
    "kernelspec": {
      "display_name": "Python 3",
      "language": "python",
      "name": "python3"
    },
    "language_info": {
      "name": "python",
      "version": "3.9.10 (tags/v3.9.10:f2f3f53, Jan 17 2022, 15:14:21) [MSC v.1929 64 bit (AMD64)]"
    },
    "vscode": {
      "interpreter": {
        "hash": "1736e173d0703c75fb5eb2a9acdf95e7844ad6a7f61a96653ab90dd7220b0f11"
      }
    }
  },
  "nbformat": 4,
  "nbformat_minor": 0
}
