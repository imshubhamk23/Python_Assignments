{
  "cells": [
    {
      "cell_type": "markdown",
      "metadata": {
        "id": "view-in-github",
        "colab_type": "text"
      },
      "source": [
        "<a href=\"https://colab.research.google.com/github/imshubhamk23/Python_Assignments/blob/main/Programming_Assignment_20.ipynb\" target=\"_parent\"><img src=\"https://colab.research.google.com/assets/colab-badge.svg\" alt=\"Open In Colab\"/></a>"
      ]
    },
    {
      "cell_type": "markdown",
      "id": "d951ff4e",
      "metadata": {
        "id": "d951ff4e"
      },
      "source": [
        "Question1\n",
        "\n",
        "Create a function that takes a list of strings and integers, and filters out the list so that it returns a list of integers only.\n",
        "    \n",
        "    Examples\n",
        "    filter_list([1, 2, 3, \"a\", \"b\", 4]) ➞ [1, 2, 3, 4]\n",
        "    \n",
        "    filter_list([\"A\", 0, \"Edabit\", 1729, \"Python\", \"1729\"]) ➞ [0, 1729]\n",
        "    \n",
        "    filter_list([\"Nothing\", \"here\"]) ➞ []\n"
      ]
    },
    {
      "cell_type": "code",
      "execution_count": null,
      "id": "5e1c55b0",
      "metadata": {
        "id": "5e1c55b0"
      },
      "outputs": [],
      "source": [
        "def filter_list(lst):\n",
        "    newlst = []\n",
        "    for i in lst:\n",
        "        if type(i) is int:\n",
        "            newlst.append(i)\n",
        "    return newlst"
      ]
    },
    {
      "cell_type": "code",
      "execution_count": null,
      "id": "6ba1d3ce",
      "metadata": {
        "id": "6ba1d3ce",
        "outputId": "c5665dd5-7318-4da5-a666-385c7a9afeb6"
      },
      "outputs": [
        {
          "data": {
            "text/plain": [
              "[1, 2, 3, 4]"
            ]
          },
          "execution_count": 2,
          "metadata": {},
          "output_type": "execute_result"
        }
      ],
      "source": [
        "filter_list([1, 2, 3, \"a\", \"b\", 4])"
      ]
    },
    {
      "cell_type": "code",
      "execution_count": null,
      "id": "2edb1d15",
      "metadata": {
        "id": "2edb1d15",
        "outputId": "3f11fc5f-1894-44f7-c992-761cb0ac9bcb"
      },
      "outputs": [
        {
          "data": {
            "text/plain": [
              "[0, 1729]"
            ]
          },
          "execution_count": 3,
          "metadata": {},
          "output_type": "execute_result"
        }
      ],
      "source": [
        "filter_list([\"A\", 0, \"Edabit\", 1729, \"Python\", \"1729\"])"
      ]
    },
    {
      "cell_type": "code",
      "execution_count": null,
      "id": "d0c78d14",
      "metadata": {
        "id": "d0c78d14",
        "outputId": "7da89068-3227-4198-9711-ad016a2dab83"
      },
      "outputs": [
        {
          "data": {
            "text/plain": [
              "[]"
            ]
          },
          "execution_count": 4,
          "metadata": {},
          "output_type": "execute_result"
        }
      ],
      "source": [
        "filter_list([\"Nothing\", \"here\"])"
      ]
    },
    {
      "cell_type": "markdown",
      "id": "7a3aa2c8",
      "metadata": {
        "id": "7a3aa2c8"
      },
      "source": [
        "Question2\n",
        "\n",
        "Given a list of numbers, create a function which returns the list but with each element's index in the list added to itself. This means you add 0 to the number at index 0, add 1 to the number at index 1, etc...\n",
        "\n",
        "    Examples\n",
        "    add_indexes([0, 0, 0, 0, 0]) ➞ [0, 1, 2, 3, 4]\n",
        "    \n",
        "    add_indexes([1, 2, 3, 4, 5]) ➞ [1, 3, 5, 7, 9]\n",
        "    \n",
        "    add_indexes([5, 4, 3, 2, 1]) ➞ [5, 5, 5, 5, 5]\n"
      ]
    },
    {
      "cell_type": "code",
      "execution_count": null,
      "id": "2909f475",
      "metadata": {
        "id": "2909f475"
      },
      "outputs": [],
      "source": [
        "def add_indexes(lst):\n",
        "    newlst = []\n",
        "    count = 0\n",
        "    for i in lst:\n",
        "        newlst.append(count+i)\n",
        "        count += 1\n",
        "    return newlst"
      ]
    },
    {
      "cell_type": "code",
      "execution_count": null,
      "id": "6933b6a9",
      "metadata": {
        "id": "6933b6a9",
        "outputId": "82ac8fbc-d9b8-46c3-d56e-d2789a38ed36"
      },
      "outputs": [
        {
          "data": {
            "text/plain": [
              "[0, 1, 2, 3, 4]"
            ]
          },
          "execution_count": 12,
          "metadata": {},
          "output_type": "execute_result"
        }
      ],
      "source": [
        "add_indexes([0, 0, 0, 0, 0])"
      ]
    },
    {
      "cell_type": "code",
      "execution_count": null,
      "id": "e1212b9e",
      "metadata": {
        "id": "e1212b9e",
        "outputId": "74cd00a5-8ead-47e3-f072-c53a9165548b"
      },
      "outputs": [
        {
          "data": {
            "text/plain": [
              "[1, 3, 5, 7, 9]"
            ]
          },
          "execution_count": 13,
          "metadata": {},
          "output_type": "execute_result"
        }
      ],
      "source": [
        "add_indexes([1, 2, 3, 4, 5])"
      ]
    },
    {
      "cell_type": "code",
      "execution_count": null,
      "id": "0201977e",
      "metadata": {
        "id": "0201977e",
        "outputId": "d5feb94b-537b-4d18-e5d3-2c182778ae8b"
      },
      "outputs": [
        {
          "data": {
            "text/plain": [
              "[5, 5, 5, 5, 5]"
            ]
          },
          "execution_count": 14,
          "metadata": {},
          "output_type": "execute_result"
        }
      ],
      "source": [
        "add_indexes([5, 4, 3, 2, 1])"
      ]
    },
    {
      "cell_type": "markdown",
      "id": "25618d2c",
      "metadata": {
        "id": "25618d2c"
      },
      "source": [
        "Question3\n",
        "\n",
        "Create a function that takes the height and radius of a cone as arguments and returns the volume of the cone rounded to the nearest hundredth. See the resources tab for the formula.\n",
        "\n",
        "volume = (1/3) · π · r2 · h\n",
        "\n",
        "    Examples\n",
        "    cone_volume(3, 2) ➞ 12.57\n",
        "    cone_volume(15, 6) ➞ 565.49\n",
        "    cone_volume(18, 0) ➞ 0\n",
        "\n"
      ]
    },
    {
      "cell_type": "code",
      "execution_count": null,
      "id": "384c17fa",
      "metadata": {
        "id": "384c17fa"
      },
      "outputs": [],
      "source": [
        "def cone_volume(height, radius):\n",
        "    volume = 1/3 * 22/7 * (radius ** 2) * height\n",
        "    return round(volume,2)"
      ]
    },
    {
      "cell_type": "code",
      "execution_count": null,
      "id": "25ec3e89",
      "metadata": {
        "id": "25ec3e89",
        "outputId": "22656458-9ae2-477b-ca24-ca150f3af6b9"
      },
      "outputs": [
        {
          "data": {
            "text/plain": [
              "12.57"
            ]
          },
          "execution_count": 28,
          "metadata": {},
          "output_type": "execute_result"
        }
      ],
      "source": [
        "cone_volume(3, 2)"
      ]
    },
    {
      "cell_type": "code",
      "execution_count": null,
      "id": "5334bb9f",
      "metadata": {
        "id": "5334bb9f",
        "outputId": "5bae8302-a013-4f96-ff10-e313e26f95a7"
      },
      "outputs": [
        {
          "data": {
            "text/plain": [
              "565.71"
            ]
          },
          "execution_count": 29,
          "metadata": {},
          "output_type": "execute_result"
        }
      ],
      "source": [
        "cone_volume(15, 6)"
      ]
    },
    {
      "cell_type": "code",
      "execution_count": null,
      "id": "30189fd0",
      "metadata": {
        "id": "30189fd0",
        "outputId": "14449052-3d2c-4655-d88e-f979f476d69b"
      },
      "outputs": [
        {
          "data": {
            "text/plain": [
              "0.0"
            ]
          },
          "execution_count": 30,
          "metadata": {},
          "output_type": "execute_result"
        }
      ],
      "source": [
        "cone_volume(18, 0)"
      ]
    },
    {
      "cell_type": "markdown",
      "id": "413ff861",
      "metadata": {
        "id": "413ff861"
      },
      "source": [
        "Question4\n",
        "\n",
        "This Triangular Number Sequence is generated from a pattern of dots that form a triangle. The first 5 numbers of the sequence, or dots, are:\n",
        "\n",
        "1, 3, 6, 10, 15\n",
        "\n",
        "This means that the first triangle has just one dot, the second one has three dots, the third one has 6 dots and so on.\n",
        "\n",
        "Write a function that gives the number of dots with its corresponding triangle number of the sequence.\n",
        "\n",
        "    Examples\n",
        "    triangle(1) ➞ 1\n",
        "    \n",
        "    triangle(6) ➞ 21\n",
        "    \n",
        "    triangle(215) ➞ 23220\n"
      ]
    },
    {
      "cell_type": "code",
      "execution_count": null,
      "id": "6656ae18",
      "metadata": {
        "id": "6656ae18"
      },
      "outputs": [],
      "source": [
        "def triangle(num):\n",
        "    dots = num * num/2 + num/2\n",
        "    return round(dots)"
      ]
    },
    {
      "cell_type": "code",
      "execution_count": null,
      "id": "481f1601",
      "metadata": {
        "id": "481f1601",
        "outputId": "e380102b-f950-44b6-f6a4-3a51dfeb6383"
      },
      "outputs": [
        {
          "data": {
            "text/plain": [
              "1"
            ]
          },
          "execution_count": 36,
          "metadata": {},
          "output_type": "execute_result"
        }
      ],
      "source": [
        "triangle(1)"
      ]
    },
    {
      "cell_type": "code",
      "execution_count": null,
      "id": "cdc41d87",
      "metadata": {
        "id": "cdc41d87",
        "outputId": "2d32a1a8-efce-416f-886d-a846b6f402c0"
      },
      "outputs": [
        {
          "data": {
            "text/plain": [
              "21"
            ]
          },
          "execution_count": 37,
          "metadata": {},
          "output_type": "execute_result"
        }
      ],
      "source": [
        "triangle(6)"
      ]
    },
    {
      "cell_type": "code",
      "execution_count": null,
      "id": "d93e06c3",
      "metadata": {
        "id": "d93e06c3",
        "outputId": "0a291de1-d87c-4897-d7cc-5fb4783fc901"
      },
      "outputs": [
        {
          "data": {
            "text/plain": [
              "23220"
            ]
          },
          "execution_count": 38,
          "metadata": {},
          "output_type": "execute_result"
        }
      ],
      "source": [
        "triangle(215)"
      ]
    },
    {
      "cell_type": "markdown",
      "id": "4b80aebc",
      "metadata": {
        "id": "4b80aebc"
      },
      "source": [
        "Question5\n",
        "\n",
        "Create a function that takes a list of numbers between 1 and 10 (excluding one number) and returns the missing number.\n",
        "\n",
        "    Examples\n",
        "    missing_num([1, 2, 3, 4, 6, 7, 8, 9, 10]) ➞ 5\n",
        "    \n",
        "    missing_num([7, 2, 3, 6, 5, 9, 1, 4, 8]) ➞ 10\n",
        "    \n",
        "    missing_num([10, 5, 1, 2, 4, 6, 8, 3, 9]) ➞ 7"
      ]
    },
    {
      "cell_type": "code",
      "execution_count": null,
      "id": "de25c5ce",
      "metadata": {
        "id": "de25c5ce"
      },
      "outputs": [],
      "source": [
        "def missing_num(lst):\n",
        "    for i in range(1,11):\n",
        "        if not i in lst:\n",
        "            return i"
      ]
    },
    {
      "cell_type": "code",
      "execution_count": null,
      "id": "dc5b472c",
      "metadata": {
        "id": "dc5b472c",
        "outputId": "b39015dd-83db-4ff0-a9e7-452c443889b4"
      },
      "outputs": [
        {
          "data": {
            "text/plain": [
              "5"
            ]
          },
          "execution_count": 42,
          "metadata": {},
          "output_type": "execute_result"
        }
      ],
      "source": [
        "missing_num([1, 2, 3, 4, 6, 7, 8, 9, 10])"
      ]
    },
    {
      "cell_type": "code",
      "execution_count": null,
      "id": "6f31fc8b",
      "metadata": {
        "id": "6f31fc8b",
        "outputId": "87d5b447-a96a-46b1-86d9-6fa6e439612d"
      },
      "outputs": [
        {
          "data": {
            "text/plain": [
              "10"
            ]
          },
          "execution_count": 43,
          "metadata": {},
          "output_type": "execute_result"
        }
      ],
      "source": [
        "missing_num([7, 2, 3, 6, 5, 9, 1, 4, 8])"
      ]
    },
    {
      "cell_type": "code",
      "execution_count": null,
      "id": "74ae153a",
      "metadata": {
        "id": "74ae153a",
        "outputId": "f8809051-4c07-4dc1-c719-f843fbaa973e"
      },
      "outputs": [
        {
          "data": {
            "text/plain": [
              "7"
            ]
          },
          "execution_count": 44,
          "metadata": {},
          "output_type": "execute_result"
        }
      ],
      "source": [
        "missing_num([10, 5, 1, 2, 4, 6, 8, 3, 9])"
      ]
    }
  ],
  "metadata": {
    "kernelspec": {
      "display_name": "Python 3 (ipykernel)",
      "language": "python",
      "name": "python3"
    },
    "language_info": {
      "codemirror_mode": {
        "name": "ipython",
        "version": 3
      },
      "file_extension": ".py",
      "mimetype": "text/x-python",
      "name": "python",
      "nbconvert_exporter": "python",
      "pygments_lexer": "ipython3",
      "version": "3.11.1"
    },
    "colab": {
      "provenance": [],
      "include_colab_link": true
    }
  },
  "nbformat": 4,
  "nbformat_minor": 5
}