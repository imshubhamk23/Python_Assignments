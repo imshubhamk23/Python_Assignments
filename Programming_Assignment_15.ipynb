{
  "cells": [
    {
      "cell_type": "markdown",
      "metadata": {
        "id": "view-in-github",
        "colab_type": "text"
      },
      "source": [
        "<a href=\"https://colab.research.google.com/github/imshubhamk23/Python_Assignments/blob/main/Programming_Assignment_15.ipynb\" target=\"_parent\"><img src=\"https://colab.research.google.com/assets/colab-badge.svg\" alt=\"Open In Colab\"/></a>"
      ]
    },
    {
      "cell_type": "markdown",
      "id": "7a3ca5e6",
      "metadata": {
        "id": "7a3ca5e6"
      },
      "source": [
        "Question 1:\n",
        "\n",
        "    Please write a program using generator to print the numbers which can be divisible by 5 and 7 between 0 and n in comma separated form while n is input by console.\n",
        "    Example:\n",
        "    If the following n is given as input to the program:\n",
        "    100\n",
        "    Then, the output of the program should be:\n",
        "    0,35,70"
      ]
    },
    {
      "cell_type": "code",
      "execution_count": null,
      "id": "5487abd0",
      "metadata": {
        "id": "5487abd0",
        "outputId": "1e4a0216-df69-4f81-e629-8f1b9ff2584d"
      },
      "outputs": [
        {
          "name": "stdout",
          "output_type": "stream",
          "text": [
            "0,35,70\n"
          ]
        }
      ],
      "source": [
        "def diviBy5and7(num):\n",
        "    for i in range(0,num):\n",
        "        if i % 5 == 0 and i % 7 == 0:\n",
        "            yield i\n",
        "num = 100\n",
        "a = diviBy5and7(num)\n",
        "l = []\n",
        "for i in a:\n",
        "    l.append(str(i))\n",
        "print(\",\".join(l))"
      ]
    },
    {
      "cell_type": "markdown",
      "id": "1d04849c",
      "metadata": {
        "id": "1d04849c"
      },
      "source": [
        "Question 2:\n",
        "    \n",
        "            Please write a program using generator to print the even numbers between 0 and n in comma separated form while n is input by console.\n",
        "    Example:\n",
        "    If the following n is given as input to the program:\n",
        "    10\n",
        "    Then, the output of the program should be:\n",
        "    0,2,4,6,8,10"
      ]
    },
    {
      "cell_type": "code",
      "execution_count": null,
      "id": "82b6391a",
      "metadata": {
        "id": "82b6391a",
        "outputId": "6eafee27-6de8-46f9-968e-26bc126bbc21"
      },
      "outputs": [
        {
          "name": "stdout",
          "output_type": "stream",
          "text": [
            "0,2,4,6,8,10\n"
          ]
        }
      ],
      "source": [
        "def geneven(num):\n",
        "    for i in range(0,num+1):\n",
        "        if i % 2 == 0:\n",
        "            yield i\n",
        "num = 10\n",
        "l = []\n",
        "for i in geneven(num):\n",
        "    l.append(str(i))\n",
        "print(\",\".join(l))"
      ]
    },
    {
      "cell_type": "markdown",
      "id": "d3a31c91",
      "metadata": {
        "id": "d3a31c91"
      },
      "source": [
        "Question 3:\n",
        "\n",
        "    The Fibonacci Sequence is computed based on the following formula:\n",
        "    f(n)=0 if n=0\n",
        "    f(n)=1 if n=1\n",
        "    f(n)=f(n-1)+f(n-2) if n&gt;1\n",
        "    Please write a program using list comprehension to print the Fibonacci Sequence in comma separated form with a given n input by console.\n",
        "    Example:\n",
        "    If the following n is given as input to the program:\n",
        "    7\n",
        "    \n",
        "    Then, the output of the program should be:\n",
        "    0,1,1,2,3,5,8,13"
      ]
    },
    {
      "cell_type": "code",
      "execution_count": null,
      "id": "3ac7dc66",
      "metadata": {
        "id": "3ac7dc66",
        "outputId": "d86bcfb4-623f-4f8b-862a-2c0c1ed8157b"
      },
      "outputs": [
        {
          "name": "stdout",
          "output_type": "stream",
          "text": [
            "Enter number:- 7\n",
            "[0, 1, 1, 2, 3, 5, 8, 13]\n"
          ]
        }
      ],
      "source": [
        "n = int(input(\"Enter number:- \"))\n",
        "s = [0, 1]\n",
        "s += [(s := [s[1], s[0] + s[1]]) and s[1] for k in range(n-1)]\n",
        "\n",
        "print (s)\n",
        "\n"
      ]
    },
    {
      "cell_type": "markdown",
      "id": "b5aae434",
      "metadata": {
        "id": "b5aae434"
      },
      "source": [
        "Question 4:\n",
        "\n",
        "    Assuming that we have some email addresses in the \"username@companyname.com\" format,\n",
        "    please write program to print the user name of a given email address. Both user names and company names are composed of letters only.\n",
        "    Example:\n",
        "    If the following email address is given as input to the program:\n",
        "    john@google.com\n",
        "    Then, the output of the program should be:\n",
        "    john"
      ]
    },
    {
      "cell_type": "code",
      "execution_count": null,
      "id": "802f6de6",
      "metadata": {
        "id": "802f6de6"
      },
      "outputs": [],
      "source": [
        "def username(email):\n",
        "    for char in email:\n",
        "        if char != \"@\":\n",
        "             print(char,end=\"\")\n",
        "        else:\n",
        "             break\n",
        "    "
      ]
    },
    {
      "cell_type": "code",
      "execution_count": null,
      "id": "c4c235c1",
      "metadata": {
        "id": "c4c235c1",
        "outputId": "4b2aac15-cb69-4c74-b892-0a695bad0b85"
      },
      "outputs": [
        {
          "name": "stdout",
          "output_type": "stream",
          "text": [
            "john"
          ]
        }
      ],
      "source": [
        "username(\"john@google.com\")"
      ]
    },
    {
      "cell_type": "markdown",
      "id": "037d6ccb",
      "metadata": {
        "id": "037d6ccb"
      },
      "source": [
        "Question 5:\n",
        "\n",
        "    Define a class named Shape and its subclass Square. The Square class has an init function which takes a length as argument. Both classes have a area function which can print the area of the shape where Shape&#39;s area is 0 by default."
      ]
    },
    {
      "cell_type": "code",
      "execution_count": null,
      "id": "963ad244",
      "metadata": {
        "id": "963ad244"
      },
      "outputs": [],
      "source": [
        "class Shape:   \n",
        "    def area(self):\n",
        "        area = self.length ** 2\n",
        "        return area\n",
        "    \n",
        "class Square(Shape):\n",
        "    def __init__(self,length):\n",
        "        self.length = length"
      ]
    },
    {
      "cell_type": "code",
      "execution_count": null,
      "id": "aba145a2",
      "metadata": {
        "id": "aba145a2",
        "outputId": "923368f5-f241-4ac9-99bf-5c0d27a7694a"
      },
      "outputs": [
        {
          "data": {
            "text/plain": [
              "25"
            ]
          },
          "execution_count": 36,
          "metadata": {},
          "output_type": "execute_result"
        }
      ],
      "source": [
        "s = Square(5)\n",
        "s.area()"
      ]
    }
  ],
  "metadata": {
    "kernelspec": {
      "display_name": "Python 3 (ipykernel)",
      "language": "python",
      "name": "python3"
    },
    "language_info": {
      "codemirror_mode": {
        "name": "ipython",
        "version": 3
      },
      "file_extension": ".py",
      "mimetype": "text/x-python",
      "name": "python",
      "nbconvert_exporter": "python",
      "pygments_lexer": "ipython3",
      "version": "3.9.10"
    },
    "colab": {
      "provenance": [],
      "include_colab_link": true
    }
  },
  "nbformat": 4,
  "nbformat_minor": 5
}