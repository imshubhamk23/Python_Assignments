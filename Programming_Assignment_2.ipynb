{
  "nbformat": 4,
  "nbformat_minor": 0,
  "metadata": {
    "colab": {
      "provenance": [],
      "authorship_tag": "ABX9TyNLvYT8ZrxJlYYz116takwO",
      "include_colab_link": true
    },
    "kernelspec": {
      "name": "python3",
      "display_name": "Python 3"
    },
    "language_info": {
      "name": "python"
    }
  },
  "cells": [
    {
      "cell_type": "markdown",
      "metadata": {
        "id": "view-in-github",
        "colab_type": "text"
      },
      "source": [
        "<a href=\"https://colab.research.google.com/github/imshubhamk23/Python_Assignments/blob/main/Programming_Assignment_2.ipynb\" target=\"_parent\"><img src=\"https://colab.research.google.com/assets/colab-badge.svg\" alt=\"Open In Colab\"/></a>"
      ]
    },
    {
      "cell_type": "markdown",
      "source": [
        "Write a Python program to convert kilometers to miles?"
      ],
      "metadata": {
        "id": "Azk0SnSb0M5y"
      }
    },
    {
      "cell_type": "code",
      "source": [
        "km = int(input(\"Enter distance in KM:- \"))\n",
        "miles = km / 1.609\n",
        "print(\"The distance in miles is:-  \", round(miles,2))"
      ],
      "metadata": {
        "colab": {
          "base_uri": "https://localhost:8080/"
        },
        "id": "Ud_OLDoi0OPy",
        "outputId": "58a82909-3c43-4fb3-c773-944dcfcaecbf"
      },
      "execution_count": 5,
      "outputs": [
        {
          "output_type": "stream",
          "name": "stdout",
          "text": [
            "Enter distance in KM:- 1\n",
            "The distance in miles is:-   0.62\n"
          ]
        }
      ]
    },
    {
      "cell_type": "markdown",
      "source": [
        "2. Write a Python program to convert Celsius to Fahrenheit?\n"
      ],
      "metadata": {
        "id": "a1uFfIUo14An"
      }
    },
    {
      "cell_type": "code",
      "source": [
        "cel = float(input(\"Enter temperature in Celsius:- \"))\n",
        "far = (cel * 9/5)+32\n",
        "print(\"Temperature in Fahrenheit is:- \", round(far,2))"
      ],
      "metadata": {
        "colab": {
          "base_uri": "https://localhost:8080/"
        },
        "id": "Frzx-Lxm146b",
        "outputId": "671820b8-49e8-4e25-c9e8-f7159e2eb9d0"
      },
      "execution_count": 10,
      "outputs": [
        {
          "output_type": "stream",
          "name": "stdout",
          "text": [
            "Enter temperature in Celsius:- 36.6\n",
            "Temperature in Fahrenheit is:-  97.88\n"
          ]
        }
      ]
    },
    {
      "cell_type": "markdown",
      "source": [
        "3. Write a Python program to display calendar?"
      ],
      "metadata": {
        "id": "q32-L6e92t2M"
      }
    },
    {
      "cell_type": "code",
      "source": [
        "import calendar\n",
        "yy = 2022\n",
        "mm = 12\n",
        "print(calendar.month(yy,mm))"
      ],
      "metadata": {
        "colab": {
          "base_uri": "https://localhost:8080/"
        },
        "id": "YpQjJQNo2RvZ",
        "outputId": "cb9ea54a-b39c-473b-f5c0-051abdb1731d"
      },
      "execution_count": 13,
      "outputs": [
        {
          "output_type": "stream",
          "name": "stdout",
          "text": [
            "   December 2022\n",
            "Mo Tu We Th Fr Sa Su\n",
            "          1  2  3  4\n",
            " 5  6  7  8  9 10 11\n",
            "12 13 14 15 16 17 18\n",
            "19 20 21 22 23 24 25\n",
            "26 27 28 29 30 31\n",
            "\n"
          ]
        }
      ]
    },
    {
      "cell_type": "markdown",
      "source": [
        "4. Write a Python program to solve quadratic equation?"
      ],
      "metadata": {
        "id": "8nYCjY0I33YK"
      }
    },
    {
      "cell_type": "code",
      "source": [
        "#The quadratic equation is given by ax2 + bx + c = 0\n",
        "#For ex consider the follwing values of a,b and c\n",
        "#The solution is given by (-b ± (b ** 2 - 4 * a * c) ** 0.5) / (2 * a)\n",
        "import cmath\n",
        "a = 1\n",
        "b = 2\n",
        "c = 3\n",
        "\n",
        "d = b**2 - 4 * a * c\n",
        "\n",
        "sol1 = -b + cmath.sqrt(d) / (2 * a)\n",
        "sol2 = -b - cmath.sqrt(d) / (2 * a)\n",
        "\n",
        "print(f\"The solution of given quadratic equation is :- {sol1:.3} and {sol2:.3}\")\n",
        "\n"
      ],
      "metadata": {
        "colab": {
          "base_uri": "https://localhost:8080/"
        },
        "id": "knj4PHTr3AMC",
        "outputId": "86d03aad-1e9f-42fe-fcca-1b67b3262883"
      },
      "execution_count": 20,
      "outputs": [
        {
          "output_type": "stream",
          "name": "stdout",
          "text": [
            "The solution of given quadratic equation is :- (-2+1.41j) and (-2-1.41j)\n"
          ]
        }
      ]
    },
    {
      "cell_type": "markdown",
      "source": [
        "5. Write a Python program to swap two variables without temp variable?"
      ],
      "metadata": {
        "id": "mh1d65N87ZOi"
      }
    },
    {
      "cell_type": "code",
      "source": [
        "a = 4\n",
        "b = 5\n",
        "print(f\"Before swap :- a = {a}, b = {b}\")\n",
        "a, b = b, a\n",
        "print(f\"After Swap:- a = {a}, b = {b}\")"
      ],
      "metadata": {
        "colab": {
          "base_uri": "https://localhost:8080/"
        },
        "id": "S8buv7dk5wJw",
        "outputId": "aed7ac7a-a98d-4594-c80a-d138f508788b"
      },
      "execution_count": 22,
      "outputs": [
        {
          "output_type": "stream",
          "name": "stdout",
          "text": [
            "Before swap :- a = 4, b = 5\n",
            "After Swap:- a = 5, b = 4\n"
          ]
        }
      ]
    },
    {
      "cell_type": "code",
      "source": [],
      "metadata": {
        "id": "avGoBJR37vdA"
      },
      "execution_count": null,
      "outputs": []
    }
  ]
}