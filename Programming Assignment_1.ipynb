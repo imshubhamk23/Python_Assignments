{
 "cells": [
  {
   "cell_type": "raw",
   "id": "e2385f8b-a574-481b-b4f8-f5d8036bb541",
   "metadata": {},
   "source": [
    "1. Write a Python program to print \"Hello World\"?"
   ]
  },
  {
   "cell_type": "code",
   "execution_count": 1,
   "id": "4db344bc-f494-445c-9889-7e2b1eddd6a3",
   "metadata": {},
   "outputs": [
    {
     "name": "stdout",
     "output_type": "stream",
     "text": [
      "Hello World\n"
     ]
    }
   ],
   "source": [
    "print(\"Hello World\")"
   ]
  },
  {
   "cell_type": "raw",
   "id": "07fc144d-7b58-40b3-8720-90f1400cf68b",
   "metadata": {},
   "source": [
    "2. Write a Python program to do arithmetical operations addition and division.?"
   ]
  },
  {
   "cell_type": "code",
   "execution_count": 4,
   "id": "537b23b3-5861-479c-838f-0d171eed567a",
   "metadata": {},
   "outputs": [
    {
     "name": "stdout",
     "output_type": "stream",
     "text": [
      "Addition of a and b is: 111\n",
      "Division of a and b is: 0.6818181818181818\n"
     ]
    }
   ],
   "source": [
    "a = 45\n",
    "b = 66\n",
    "addition = a + b\n",
    "division = a / b\n",
    "print(f\"Addition of a and b is: {addition}\")\n",
    "print(f\"Division of a and b is: {division}\")"
   ]
  },
  {
   "cell_type": "raw",
   "id": "6b253bbd-6553-4e35-913e-5a693190b87e",
   "metadata": {},
   "source": [
    "3. Write a Python program to find the area of a triangle?"
   ]
  },
  {
   "cell_type": "code",
   "execution_count": 7,
   "id": "dda08a35-5700-489c-9fd2-5d51a31b7702",
   "metadata": {},
   "outputs": [
    {
     "name": "stdin",
     "output_type": "stream",
     "text": [
      "Enter base of Triangle in cms:-  12\n",
      "Enter height of Triangle in cms:-  12\n"
     ]
    },
    {
     "name": "stdout",
     "output_type": "stream",
     "text": [
      "The area of triangle is 72.0 cm2\n"
     ]
    }
   ],
   "source": [
    "base = int(input(\"Enter base of Triangle in cms:- \"))\n",
    "height = int(input(\"Enter height of Triangle in cms:- \"))\n",
    "area = 1/2 * (base * height)\n",
    "print(f\"The area of triangle is {area} cm2\")"
   ]
  },
  {
   "cell_type": "raw",
   "id": "23c7c994-de1f-4a11-982e-154e08575597",
   "metadata": {},
   "source": [
    "4. Write a Python program to swap two variables?"
   ]
  },
  {
   "cell_type": "code",
   "execution_count": 9,
   "id": "2472b94d-5439-4197-b878-01a2463e9fd5",
   "metadata": {},
   "outputs": [
    {
     "name": "stdin",
     "output_type": "stream",
     "text": [
      "Enter value of a:-  12\n",
      "Enter value of b:-  14\n"
     ]
    },
    {
     "name": "stdout",
     "output_type": "stream",
     "text": [
      "Value of a after swapping 14\n",
      "Value of b after swapping 12\n"
     ]
    }
   ],
   "source": [
    "a = int(input(\"Enter value of a:- \"))\n",
    "b = int(input(\"Enter value of b:- \"))\n",
    "temp = a\n",
    "a = b\n",
    "b = temp\n",
    "print(f\"Value of a after swapping {a}\")\n",
    "print(f\"Value of b after swapping {b}\")\n",
    "        "
   ]
  },
  {
   "cell_type": "raw",
   "id": "ca7f50e1-f5e3-44a1-83e8-b6a4625a584f",
   "metadata": {},
   "source": [
    "5. Write a Python program to generate a random number?"
   ]
  },
  {
   "cell_type": "code",
   "execution_count": 15,
   "id": "8681b123-7fe8-4ffb-8785-6ad96eda1e25",
   "metadata": {},
   "outputs": [
    {
     "name": "stdout",
     "output_type": "stream",
     "text": [
      "0.2174008796165855\n"
     ]
    }
   ],
   "source": [
    "import random\n",
    "a = random.random()\n",
    "print(a)"
   ]
  }
 ],
 "metadata": {
  "kernelspec": {
   "display_name": "Python 3 (ipykernel)",
   "language": "python",
   "name": "python3"
  },
  "language_info": {
   "codemirror_mode": {
    "name": "ipython",
    "version": 3
   },
   "file_extension": ".py",
   "mimetype": "text/x-python",
   "name": "python",
   "nbconvert_exporter": "python",
   "pygments_lexer": "ipython3",
   "version": "3.10.6"
  }
 },
 "nbformat": 4,
 "nbformat_minor": 5
}
