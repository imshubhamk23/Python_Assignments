{
  "cells": [
    {
      "cell_type": "markdown",
      "metadata": {
        "id": "view-in-github",
        "colab_type": "text"
      },
      "source": [
        "<a href=\"https://colab.research.google.com/github/imshubhamk23/Python_Assignments/blob/main/Programming_Assignment_7.ipynb\" target=\"_parent\"><img src=\"https://colab.research.google.com/assets/colab-badge.svg\" alt=\"Open In Colab\"/></a>"
      ]
    },
    {
      "cell_type": "code",
      "execution_count": null,
      "id": "9afa6635",
      "metadata": {
        "id": "9afa6635"
      },
      "outputs": [],
      "source": [
        "import numpy as np"
      ]
    },
    {
      "cell_type": "markdown",
      "id": "0f7253e7",
      "metadata": {
        "id": "0f7253e7"
      },
      "source": [
        "1. Write a Python Program to find sum of array?"
      ]
    },
    {
      "cell_type": "code",
      "execution_count": null,
      "id": "f340cdce",
      "metadata": {
        "id": "f340cdce",
        "outputId": "6cf04fca-74a4-48ec-d0e9-757d71e5e4a4"
      },
      "outputs": [
        {
          "data": {
            "text/plain": [
              "36"
            ]
          },
          "execution_count": 7,
          "metadata": {},
          "output_type": "execute_result"
        }
      ],
      "source": [
        "arr = np.array([[1,2,3,4],[5,6,7,8]])\n",
        "np.sum(arr)"
      ]
    },
    {
      "cell_type": "markdown",
      "id": "5d375746",
      "metadata": {
        "id": "5d375746"
      },
      "source": [
        "2. Write a Python Program to find largest element in an array?"
      ]
    },
    {
      "cell_type": "code",
      "execution_count": null,
      "id": "a73a1617",
      "metadata": {
        "id": "a73a1617",
        "outputId": "c3e3a90b-7efa-4d04-d369-960c3b783210"
      },
      "outputs": [
        {
          "data": {
            "text/plain": [
              "8"
            ]
          },
          "execution_count": 11,
          "metadata": {},
          "output_type": "execute_result"
        }
      ],
      "source": [
        "np.max(arr)"
      ]
    },
    {
      "cell_type": "markdown",
      "id": "61f7af58",
      "metadata": {
        "id": "61f7af58"
      },
      "source": [
        "3. Write a Python Program for array rotation?"
      ]
    },
    {
      "cell_type": "code",
      "execution_count": null,
      "id": "b0bd8f11",
      "metadata": {
        "id": "b0bd8f11",
        "outputId": "7275d957-ba11-45ca-f2e2-cf8a18726b92"
      },
      "outputs": [
        {
          "name": "stdout",
          "output_type": "stream",
          "text": [
            "Enter index position from where to rotate:- 3\n",
            "Original array:-  [5, 10, 15, 20, 25]\n",
            "List after rotation is:-  [20, 25, 5, 10, 15]\n"
          ]
        }
      ],
      "source": [
        "ar = [5,10,15,20,25]\n",
        "n = int(input(\"Enter index position from where to rotate:- \"))\n",
        "print(\"Original array:- \",ar)\n",
        "for count in range(n):\n",
        "    temp = ar[0]\n",
        "    for i in range(1,len(ar)):\n",
        "        ar[i-1] = ar[i]\n",
        "    ar[len(ar)-1] = temp\n",
        "print(\"List after rotation is:- \",ar)"
      ]
    },
    {
      "cell_type": "markdown",
      "id": "6d1f3a2a",
      "metadata": {
        "id": "6d1f3a2a"
      },
      "source": [
        "4. Write a Python Program to Split the array and add the first part to the end?"
      ]
    },
    {
      "cell_type": "code",
      "execution_count": null,
      "id": "6e807ac0",
      "metadata": {
        "id": "6e807ac0",
        "outputId": "7da0e8c7-7bba-42e5-b1a4-47f4b2a14f94"
      },
      "outputs": [
        {
          "name": "stdout",
          "output_type": "stream",
          "text": [
            "Original array:-  [5, 10, 15, 20, 25]\n",
            "List after rotation is:-  [10, 15, 20, 25, 5]\n"
          ]
        }
      ],
      "source": [
        "ar = [5,10,15,20,25]\n",
        "print(\"Original array:- \",ar)\n",
        "for count in range(1):\n",
        "    temp = ar[0]\n",
        "    for i in range(1,len(ar)):\n",
        "        ar[i-1] = ar[i]\n",
        "    ar[len(ar)-1] = temp\n",
        "print(\"List after rotation is:- \",ar)"
      ]
    },
    {
      "cell_type": "markdown",
      "id": "b0f09119",
      "metadata": {
        "id": "b0f09119"
      },
      "source": [
        "5. Write a Python Program to check if given array is Monotonic?\n",
        "    An array is said to be monotonic in nature if it is either continuously increasing or continuously decreasing."
      ]
    },
    {
      "cell_type": "code",
      "execution_count": null,
      "id": "ba7c877a",
      "metadata": {
        "id": "ba7c877a",
        "outputId": "fc3fdca7-1e8f-4809-b249-071e4f66a6ec"
      },
      "outputs": [
        {
          "name": "stdout",
          "output_type": "stream",
          "text": [
            "The array is Monotonic\n",
            "The array is not Monotonic\n"
          ]
        }
      ],
      "source": [
        "# An array is said to be monotonic in nature if it is either continuously increasing \n",
        "# or continuously decreasing.\n",
        "\n",
        "def check_Monotonic(ar):\n",
        "    a , b = [], []\n",
        "    a.extend(ar)\n",
        "    b.extend(ar)\n",
        "    a.sort()\n",
        "    b.sort(reverse = True)\n",
        "    if (a == ar or b == ar):\n",
        "        return \"The array is Monotonic\"\n",
        "    else:\n",
        "        return \"The array is not Monotonic\"\n",
        "\n",
        "print(check_Monotonic([6,5,4,4]))\n",
        "print(check_Monotonic([6,5,4,7,2]))"
      ]
    }
  ],
  "metadata": {
    "kernelspec": {
      "display_name": "Python 3 (ipykernel)",
      "language": "python",
      "name": "python3"
    },
    "language_info": {
      "codemirror_mode": {
        "name": "ipython",
        "version": 3
      },
      "file_extension": ".py",
      "mimetype": "text/x-python",
      "name": "python",
      "nbconvert_exporter": "python",
      "pygments_lexer": "ipython3",
      "version": "3.9.10"
    },
    "colab": {
      "provenance": [],
      "include_colab_link": true
    }
  },
  "nbformat": 4,
  "nbformat_minor": 5
}