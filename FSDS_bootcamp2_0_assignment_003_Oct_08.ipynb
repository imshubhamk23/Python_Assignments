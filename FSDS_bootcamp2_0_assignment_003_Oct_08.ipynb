{
  "nbformat": 4,
  "nbformat_minor": 0,
  "metadata": {
    "colab": {
      "provenance": [],
      "collapsed_sections": [],
      "authorship_tag": "ABX9TyPJLGJ26AeXkAfARmg6ueL7",
      "include_colab_link": true
    },
    "kernelspec": {
      "name": "python3",
      "display_name": "Python 3"
    },
    "language_info": {
      "name": "python"
    }
  },
  "cells": [
    {
      "cell_type": "markdown",
      "metadata": {
        "id": "view-in-github",
        "colab_type": "text"
      },
      "source": [
        "<a href=\"https://colab.research.google.com/github/imshubhamk23/Python_Assignments/blob/main/FSDS_bootcamp2_0_assignment_003_Oct_08.ipynb\" target=\"_parent\"><img src=\"https://colab.research.google.com/assets/colab-badge.svg\" alt=\"Open In Colab\"/></a>"
      ]
    },
    {
      "cell_type": "markdown",
      "source": [
        "\n",
        "\n",
        "#1.Count the number of times iNeuron appears in the string"
      ],
      "metadata": {
        "id": "7vp5TBlXJ1GS"
      }
    },
    {
      "cell_type": "code",
      "source": [
        "text = \"Welcome to iNeuron. You are a part of FSFS bootcamp 2.0 in iNeuron. I hope you are enjoying the  course in iNeuron\"\n",
        "\n",
        "print(text.count(\"iNeuron\"))"
      ],
      "metadata": {
        "colab": {
          "base_uri": "https://localhost:8080/"
        },
        "id": "REjdn6UDLCtQ",
        "outputId": "2c0829f4-ab4a-4651-991d-15f07854f926"
      },
      "execution_count": 28,
      "outputs": [
        {
          "output_type": "stream",
          "name": "stdout",
          "text": [
            "3\n"
          ]
        }
      ]
    },
    {
      "cell_type": "markdown",
      "source": [
        "# 2. Check if position 5 to 11 ends with the phrase iNeuron. in the string"
      ],
      "metadata": {
        "id": "zZPwsvEsMPi1"
      }
    },
    {
      "cell_type": "code",
      "source": [
        "txt = \" Welcome to FSDS 2.0 at iNeuron \"\n",
        "\n",
        "txt[5:11] == \"iNeuron\" is True\n",
        "\n",
        "# The result will be false position 5 to 11 does not end with the phrase iNeuron."
      ],
      "metadata": {
        "colab": {
          "base_uri": "https://localhost:8080/",
          "height": 35
        },
        "id": "-Ew2VN7bMWWz",
        "outputId": "9d3535a6-a8f9-49b6-b21d-1a41f07dc12f"
      },
      "execution_count": null,
      "outputs": [
        {
          "output_type": "execute_result",
          "data": {
            "text/plain": [
              "'ome to'"
            ],
            "application/vnd.google.colaboratory.intrinsic+json": {
              "type": "string"
            }
          },
          "metadata": {},
          "execution_count": 3
        }
      ]
    },
    {
      "cell_type": "markdown",
      "source": [
        "# 3. Write a program that takes your full name as input and displays the abbreviations of the first and middle names except the last name which is displayed as it is. For example, if your name is Sunny Bhaveen Chandra, then the output should be S.B.Chandra."
      ],
      "metadata": {
        "id": "ETfOZtthNKzk"
      }
    },
    {
      "cell_type": "code",
      "source": [
        "name = \"Shubham Suryakant Kolekar\"\n",
        "\n",
        "output = name[0] +\".\"+ name[8] +\".\"+ name[18:]\n",
        "\n",
        "print(output)"
      ],
      "metadata": {
        "colab": {
          "base_uri": "https://localhost:8080/"
        },
        "id": "uVyI_1E9NYLS",
        "outputId": "612c13e8-be72-4f4c-df7a-ab18dcd12011"
      },
      "execution_count": 5,
      "outputs": [
        {
          "output_type": "stream",
          "name": "stdout",
          "text": [
            "S.S.Kolekar\n"
          ]
        }
      ]
    },
    {
      "cell_type": "markdown",
      "source": [
        "#4. Join all items in a list into a string, using a hash(`#`) character as separator:\n",
        "LIST = [\"My\", \"name\", \"is\", \"Rishav\", \"Dash\"]"
      ],
      "metadata": {
        "id": "oanQNWXvOpQj"
      }
    },
    {
      "cell_type": "code",
      "source": [
        "LIST = [\"My\", \"name\", \"is\", \"Rishav\", \"Dash\"]\n",
        "\"#\".join(LIST)"
      ],
      "metadata": {
        "colab": {
          "base_uri": "https://localhost:8080/",
          "height": 35
        },
        "id": "BmH5y36cOtMC",
        "outputId": "b1504448-f2ce-4bf1-e7a8-235962c37f69"
      },
      "execution_count": 6,
      "outputs": [
        {
          "output_type": "execute_result",
          "data": {
            "text/plain": [
              "'My#name#is#Rishav#Dash'"
            ],
            "application/vnd.google.colaboratory.intrinsic+json": {
              "type": "string"
            }
          },
          "metadata": {},
          "execution_count": 6
        }
      ]
    },
    {
      "cell_type": "markdown",
      "source": [
        "#5. Write example for the following string manipulation function,\n",
        "\n",
        "  ```\n",
        "  - isdecimal()\n",
        "  - islower()\n",
        "  - isupper()\n",
        "  - isalpha()\n",
        "  - isnumeric()"
      ],
      "metadata": {
        "id": "ZD0io7kyO_Za"
      }
    },
    {
      "cell_type": "code",
      "source": [
        "num = \"25\"\n",
        "print(num.isdecimal())\n",
        "\n",
        "a = \"abcd\"\n",
        "print(a.islower())\n",
        "\n",
        "a = \"ABCD\"\n",
        "print(a.isupper())\n",
        "\n",
        "a = \"AbcD\"\n",
        "print(a.isalpha())\n",
        "\n",
        "num = \"123456\"\n",
        "print(num.isnumeric())"
      ],
      "metadata": {
        "colab": {
          "base_uri": "https://localhost:8080/"
        },
        "id": "_abABsPJO-cT",
        "outputId": "653b3d8a-ac8e-4a70-aa7b-f06e06dbd59e"
      },
      "execution_count": 11,
      "outputs": [
        {
          "output_type": "stream",
          "name": "stdout",
          "text": [
            "True\n",
            "True\n",
            "True\n",
            "True\n",
            "True\n"
          ]
        }
      ]
    },
    {
      "cell_type": "markdown",
      "source": [
        "#6. Indian PAN card format follows the following formats - \n",
        "    - `AYEPC7894X`\n",
        "    - `ABCDE9999Y`\n",
        "# Take user input for PAN_CARD and validate as per the above example."
      ],
      "metadata": {
        "id": "pACPBQwYQB6T"
      }
    },
    {
      "cell_type": "code",
      "source": [
        "pan_no = input(\"Enter Pan Number:- \")\n",
        "\n",
        "if pan_no[0:5].isupper() and pan_no[5:9].isnumeric() and pan_no[-1].upper():\n",
        "  print(f\"The Pan number entered is:- {pan_no}\")\n",
        "else:\n",
        "  print(\"Please enter valid Pan Number\")"
      ],
      "metadata": {
        "colab": {
          "base_uri": "https://localhost:8080/"
        },
        "id": "w5qjvq6tQFp6",
        "outputId": "cfd03e2a-5565-4386-b4fa-ce94780b5c8d"
      },
      "execution_count": 27,
      "outputs": [
        {
          "output_type": "stream",
          "name": "stdout",
          "text": [
            "Enter Pan Number:- ABCDE9999Y\n",
            "The Pan number entered is:- ABCDE9999Y\n"
          ]
        }
      ]
    }
  ]
}