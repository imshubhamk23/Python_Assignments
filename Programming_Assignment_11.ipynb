{
  "cells": [
    {
      "cell_type": "markdown",
      "metadata": {
        "id": "view-in-github",
        "colab_type": "text"
      },
      "source": [
        "<a href=\"https://colab.research.google.com/github/imshubhamk23/Python_Assignments/blob/main/Programming_Assignment_11.ipynb\" target=\"_parent\"><img src=\"https://colab.research.google.com/assets/colab-badge.svg\" alt=\"Open In Colab\"/></a>"
      ]
    },
    {
      "cell_type": "markdown",
      "id": "54d0f073",
      "metadata": {
        "id": "54d0f073"
      },
      "source": [
        "1. Write a Python program to find words which are greater than given length k?"
      ]
    },
    {
      "cell_type": "code",
      "execution_count": null,
      "id": "34862d41",
      "metadata": {
        "id": "34862d41"
      },
      "outputs": [],
      "source": [
        "def lenString(my_str,k):\n",
        "    l = []\n",
        "    txt = my_str.split(\" \")\n",
        "    for i in txt:\n",
        "        l.append(i)\n",
        "    for word in l:\n",
        "        if len(word) > k:\n",
        "            print(word)"
      ]
    },
    {
      "cell_type": "code",
      "execution_count": null,
      "id": "f8716fe7",
      "metadata": {
        "id": "f8716fe7",
        "outputId": "b7309d16-19d2-4c75-a12b-684e7aa60fb4"
      },
      "outputs": [
        {
          "name": "stdout",
          "output_type": "stream",
          "text": [
            "Jarvis\n"
          ]
        }
      ],
      "source": [
        "lenString('This is Jarvis',5)"
      ]
    },
    {
      "cell_type": "markdown",
      "id": "8caa40e8",
      "metadata": {
        "id": "8caa40e8"
      },
      "source": [
        "2. Write a Python program for removing i-th character from a string?"
      ]
    },
    {
      "cell_type": "code",
      "execution_count": null,
      "id": "8fc628a9",
      "metadata": {
        "id": "8fc628a9"
      },
      "outputs": [],
      "source": [
        "def remove(string, n):\n",
        "    l= []\n",
        "    my_str = \" \"\n",
        "    try:\n",
        "        txt = string.split(\" \")\n",
        "        print(string)\n",
        "        txt.pop(n)\n",
        "        print(my_str.join(txt))\n",
        "    except Exception as e:\n",
        "        print(f'{e} error. Please Try again with valid input')"
      ]
    },
    {
      "cell_type": "code",
      "execution_count": null,
      "id": "f6e09251",
      "metadata": {
        "id": "f6e09251",
        "outputId": "3400a222-7952-4b43-9546-d29f00b2f22d"
      },
      "outputs": [
        {
          "name": "stdout",
          "output_type": "stream",
          "text": [
            "This is shubham\n",
            "This is\n"
          ]
        }
      ],
      "source": [
        "remove(\"This is shubham\",2)"
      ]
    },
    {
      "cell_type": "markdown",
      "id": "0472605e",
      "metadata": {
        "id": "0472605e"
      },
      "source": [
        "3. Write a Python program to split and join a string?"
      ]
    },
    {
      "cell_type": "code",
      "execution_count": null,
      "id": "4ec63496",
      "metadata": {
        "id": "4ec63496"
      },
      "outputs": [],
      "source": [
        "def splitNjoin(string):\n",
        "    my_str = ' '\n",
        "    txt = string.split(\" \")\n",
        "    print(f\"String split is:- {txt}\")\n",
        "    print(f\"Joined string is:- {my_str.join(txt)}\")"
      ]
    },
    {
      "cell_type": "code",
      "execution_count": null,
      "id": "cfd59f99",
      "metadata": {
        "id": "cfd59f99",
        "outputId": "74627947-a8aa-4038-9649-23f2f50b3151"
      },
      "outputs": [
        {
          "name": "stdout",
          "output_type": "stream",
          "text": [
            "String split is:- ['This', 'is', 'a', 'String']\n",
            "Joined string is:- This is a String\n"
          ]
        }
      ],
      "source": [
        "splitNjoin(\"This is a String\")"
      ]
    },
    {
      "cell_type": "markdown",
      "id": "b0fb9189",
      "metadata": {
        "id": "b0fb9189"
      },
      "source": [
        "4. Write a Python to check if a given string is binary string or not?\n",
        "\n",
        "      A binary string is a sequence of bytes. Unlike a character string which usually contains text data, a binary string is used to hold non-traditional data such as pictures. The length of a binary string is the number of bytes in the sequence. A binary string has a CCSID of 65535. Only character strings of FOR BIT DATA are compatible with binary strings."
      ]
    },
    {
      "cell_type": "code",
      "execution_count": null,
      "id": "0bf1b070",
      "metadata": {
        "id": "0bf1b070"
      },
      "outputs": [],
      "source": [
        "def binaryStr(string):\n",
        "    a = \"01\"\n",
        "    for i in a:\n",
        "        string = string.replace(i,\"\")\n",
        "    if len(string) == 0:\n",
        "        print(\"The string is binary\")\n",
        "    else:\n",
        "        print(\"The string is not binary\")\n",
        "        "
      ]
    },
    {
      "cell_type": "code",
      "execution_count": null,
      "id": "037dc79f",
      "metadata": {
        "id": "037dc79f",
        "outputId": "f6342fd2-d917-432e-e4d5-539f87e81e12"
      },
      "outputs": [
        {
          "name": "stdout",
          "output_type": "stream",
          "text": [
            "The string is binary\n"
          ]
        }
      ],
      "source": [
        "binaryStr(\"101010\")"
      ]
    },
    {
      "cell_type": "markdown",
      "id": "aa4a1895",
      "metadata": {
        "id": "aa4a1895"
      },
      "source": [
        "5. Write a Python program to find uncommon words from two Strings?"
      ]
    },
    {
      "cell_type": "code",
      "execution_count": null,
      "id": "d910386e",
      "metadata": {
        "id": "d910386e"
      },
      "outputs": [],
      "source": [
        "def uncommonStr(string1, string2):\n",
        "    string1_copy = string1\n",
        "    string2_copy = string2\n",
        "    txt = string1.split(\" \")\n",
        "    for i in txt:\n",
        "        string2 = string2.replace(i,\" \")\n",
        "    txt2 = string2_copy.split(\" \")\n",
        "    for j in txt2:\n",
        "        string1_copy = string1_copy.replace(j,\" \")\n",
        "    print(string1_copy)\n",
        "    print(string2)"
      ]
    },
    {
      "cell_type": "code",
      "execution_count": null,
      "id": "894b2955",
      "metadata": {
        "id": "894b2955",
        "outputId": "6afc4127-f085-4a3b-d12d-4f1db398f632"
      },
      "outputs": [
        {
          "name": "stdout",
          "output_type": "stream",
          "text": [
            "    shubham\n",
            "    rohan\n"
          ]
        }
      ],
      "source": [
        "uncommonStr(\"This is shubham\", \"This is rohan\")"
      ]
    },
    {
      "cell_type": "markdown",
      "id": "e9e63ce3",
      "metadata": {
        "id": "e9e63ce3"
      },
      "source": [
        "6. Write a Python to find all duplicate characters in string?"
      ]
    },
    {
      "cell_type": "code",
      "execution_count": null,
      "id": "f6662433",
      "metadata": {
        "id": "f6662433"
      },
      "outputs": [],
      "source": [
        "from collections import Counter\n",
        "\n",
        "def duplicate(string):\n",
        "    l = []\n",
        "    for i in string:\n",
        "        if string.count(i) > 1 and i not in l:\n",
        "            l.append(i)\n",
        "    res = []\n",
        "    for ele in l:\n",
        "        if ele.strip(): #to remove spaces from the list\n",
        "            res.append(ele)\n",
        "    print(f\"The duplicate characters are:- {res}\")\n",
        "        "
      ]
    },
    {
      "cell_type": "code",
      "execution_count": null,
      "id": "d9078d81",
      "metadata": {
        "id": "d9078d81",
        "outputId": "53735cc7-d22c-4bfc-d220-962e06f3019e"
      },
      "outputs": [
        {
          "name": "stdout",
          "output_type": "stream",
          "text": [
            "The duplicate characters are:- ['h', 'i', 's', 'a', 'n']\n"
          ]
        }
      ],
      "source": [
        "duplicate(\"This is shubham and rohan\")"
      ]
    },
    {
      "cell_type": "markdown",
      "id": "838a6ffa",
      "metadata": {
        "id": "838a6ffa"
      },
      "source": [
        "7. Write a Python Program to check if a string contains any special character?"
      ]
    },
    {
      "cell_type": "code",
      "execution_count": null,
      "id": "b5bde0a1",
      "metadata": {
        "id": "b5bde0a1"
      },
      "outputs": [],
      "source": [
        "import string\n",
        "def checkSpecialChar(my_str):\n",
        "    special = set(string.punctuation)\n",
        "    if any(char in special for char in my_str): \n",
        "        print(\"The string contains Special Characters\")    \n",
        "    else:\n",
        "        print(\"The string has not special characters\")"
      ]
    },
    {
      "cell_type": "code",
      "execution_count": null,
      "id": "ff789e19",
      "metadata": {
        "id": "ff789e19",
        "outputId": "6d73d547-d296-4a4b-b6cd-0d37fcee89a6"
      },
      "outputs": [
        {
          "name": "stdout",
          "output_type": "stream",
          "text": [
            "The string contains Special Characters\n"
          ]
        }
      ],
      "source": [
        "checkSpecialChar('This is @shubham')"
      ]
    }
  ],
  "metadata": {
    "kernelspec": {
      "display_name": "Python 3 (ipykernel)",
      "language": "python",
      "name": "python3"
    },
    "language_info": {
      "codemirror_mode": {
        "name": "ipython",
        "version": 3
      },
      "file_extension": ".py",
      "mimetype": "text/x-python",
      "name": "python",
      "nbconvert_exporter": "python",
      "pygments_lexer": "ipython3",
      "version": "3.9.10"
    },
    "colab": {
      "provenance": [],
      "include_colab_link": true
    }
  },
  "nbformat": 4,
  "nbformat_minor": 5
}